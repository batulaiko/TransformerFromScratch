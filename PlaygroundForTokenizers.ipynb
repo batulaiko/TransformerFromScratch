{
 "cells": [
  {
   "cell_type": "code",
   "execution_count": 1,
   "id": "9772a7c0-39de-4a7c-84f2-28beea0d6dc1",
   "metadata": {},
   "outputs": [],
   "source": [
    "from tokenizers import Tokenizer"
   ]
  },
  {
   "cell_type": "code",
   "execution_count": 2,
   "id": "f516445f-9a23-4916-a907-bd455da885a3",
   "metadata": {},
   "outputs": [],
   "source": [
    "tokenizer = Tokenizer.from_file('/URL/TO/YOUR/TOKENIZER')"
   ]
  },
  {
   "cell_type": "code",
   "execution_count": 3,
   "id": "3aff90e9-3ea7-4cb3-b2d2-f6053d395a00",
   "metadata": {},
   "outputs": [
    {
     "name": "stdout",
     "output_type": "stream",
     "text": [
      "['Ġmer', 'haba', 'ĠdÃ¼nya']\n"
     ]
    }
   ],
   "source": [
    "output = tokenizer.encode('merhaba dünya')\n",
    "print(output.tokens)"
   ]
  },
  {
   "cell_type": "code",
   "execution_count": 4,
   "id": "3e1e36e2-0061-4eea-a813-43704ab8dff2",
   "metadata": {},
   "outputs": [
    {
     "data": {
      "text/plain": [
       "0"
      ]
     },
     "execution_count": 4,
     "metadata": {},
     "output_type": "execute_result"
    }
   ],
   "source": [
    "tokenizer.token_to_id('<pad>')"
   ]
  },
  {
   "cell_type": "code",
   "execution_count": 5,
   "id": "9c1d022a-3e31-422d-9969-0833d3a6c982",
   "metadata": {},
   "outputs": [
    {
     "data": {
      "text/plain": [
       "4"
      ]
     },
     "execution_count": 5,
     "metadata": {},
     "output_type": "execute_result"
    }
   ],
   "source": [
    "tokenizer.token_to_id('<start>')"
   ]
  },
  {
   "cell_type": "code",
   "execution_count": 6,
   "id": "72dca399-d5a5-4a54-9b09-64ce1793fe2e",
   "metadata": {
    "tags": []
   },
   "outputs": [],
   "source": [
    "encode = lambda s: tokenizer.encode(s).ids # encoder: take a string, output a list of integers\n",
    "decode = lambda t: tokenizer.decode(t, skip_special_tokens=False) # decoder: take a list of integers, output a string"
   ]
  },
  {
   "cell_type": "code",
   "execution_count": 7,
   "id": "612019f7-0a61-4681-b7d0-65e51c456b81",
   "metadata": {
    "tags": []
   },
   "outputs": [
    {
     "data": {
      "text/plain": [
       "' merhaba dünya'"
      ]
     },
     "execution_count": 7,
     "metadata": {},
     "output_type": "execute_result"
    }
   ],
   "source": [
    "decode(encode('merhaba dünya'))"
   ]
  },
  {
   "cell_type": "code",
   "execution_count": 8,
   "id": "030e5476-9a46-4f27-8adf-174e03f78162",
   "metadata": {},
   "outputs": [
    {
     "data": {
      "text/plain": [
       "' bugün çok güzel selam dünya'"
      ]
     },
     "execution_count": 8,
     "metadata": {},
     "output_type": "execute_result"
    }
   ],
   "source": [
    "decode(encode('bugün çok güzel selam dünya'))"
   ]
  },
  {
   "cell_type": "code",
   "execution_count": 9,
   "id": "31de2224-5478-4964-bb05-cd007cad1576",
   "metadata": {},
   "outputs": [
    {
     "data": {
      "text/plain": [
       "' merhaba dünya'"
      ]
     },
     "execution_count": 9,
     "metadata": {},
     "output_type": "execute_result"
    }
   ],
   "source": [
    "tokenizer.decode(tokenizer.encode('merhaba dünya').ids)"
   ]
  },
  {
   "cell_type": "code",
   "execution_count": 10,
   "id": "b25c1fc0-9c15-4265-a634-28fa9710592f",
   "metadata": {},
   "outputs": [
    {
     "data": {
      "text/plain": [
       "[2992, 42164, 1793]"
      ]
     },
     "execution_count": 10,
     "metadata": {},
     "output_type": "execute_result"
    }
   ],
   "source": [
    "tokenizer.encode('merhaba dünya').ids"
   ]
  },
  {
   "cell_type": "code",
   "execution_count": 11,
   "id": "d144b68a-e3d2-4612-980e-da981ed74317",
   "metadata": {
    "tags": []
   },
   "outputs": [
    {
     "data": {
      "text/plain": [
       "'<start> merhaba dünya <end>'"
      ]
     },
     "execution_count": 11,
     "metadata": {},
     "output_type": "execute_result"
    }
   ],
   "source": [
    "decode(encode('<start> merhaba dünya <end>'))"
   ]
  },
  {
   "cell_type": "markdown",
   "id": "401c8b29-16b5-4312-ba25-172e2b55b7c7",
   "metadata": {},
   "source": [
    "# Effect of Special Tokens"
   ]
  },
  {
   "cell_type": "code",
   "execution_count": 12,
   "id": "bb7f0e2c-61ab-4bfc-8599-d02fdab9c06d",
   "metadata": {},
   "outputs": [
    {
     "data": {
      "text/plain": [
       "[4, 2992, 42164, 1793, 179, 5]"
      ]
     },
     "execution_count": 12,
     "metadata": {},
     "output_type": "execute_result"
    }
   ],
   "source": [
    "tokenizer.encode('<start> merhaba dünya <end>').ids"
   ]
  },
  {
   "cell_type": "code",
   "execution_count": 13,
   "id": "e5a0c500-b4cd-47e7-978f-9ac48f2b4433",
   "metadata": {},
   "outputs": [
    {
     "data": {
      "text/plain": [
       "[2992, 42164, 1793, 179, 5]"
      ]
     },
     "execution_count": 13,
     "metadata": {},
     "output_type": "execute_result"
    }
   ],
   "source": [
    "tokenizer.encode('merhaba dünya <end>').ids"
   ]
  },
  {
   "cell_type": "code",
   "execution_count": 14,
   "id": "66a832ed-97f5-4de3-b212-0fc5c7228804",
   "metadata": {},
   "outputs": [
    {
     "data": {
      "text/plain": [
       "'<start> merhaba dünya <end>'"
      ]
     },
     "execution_count": 14,
     "metadata": {},
     "output_type": "execute_result"
    }
   ],
   "source": [
    "tokenizer.decode(tokenizer.encode('<start> merhaba dünya <end>').ids, skip_special_tokens=False)"
   ]
  },
  {
   "cell_type": "markdown",
   "id": "d778914f-da47-4842-940f-b82322df7228",
   "metadata": {},
   "source": [
    "# Individual Tokens"
   ]
  },
  {
   "cell_type": "code",
   "execution_count": 15,
   "id": "47bc33f1-a3c2-4b2e-b8a7-fd625294a3de",
   "metadata": {},
   "outputs": [
    {
     "data": {
      "text/plain": [
       "['<start>', 'Ġ', '<start>', 'Ġmer', 'haba', 'ĠdÃ¼nya', 'Ġ', '<end>']"
      ]
     },
     "execution_count": 15,
     "metadata": {},
     "output_type": "execute_result"
    }
   ],
   "source": [
    "_tokens = tokenizer.encode('<start> <start>merhaba dünya <end>').tokens\n",
    "_tokens"
   ]
  },
  {
   "cell_type": "markdown",
   "id": "bc13186b-8f4d-4390-aac4-1bbc99beca0a",
   "metadata": {},
   "source": [
    "# Pretokenized"
   ]
  },
  {
   "cell_type": "code",
   "execution_count": 16,
   "id": "1c5810e7-53e2-4d71-9e59-0312053fcb64",
   "metadata": {},
   "outputs": [
    {
     "data": {
      "text/plain": [
       "['<start>',\n",
       " 'ĠÄ',\n",
       " 'ł',\n",
       " '<start>',\n",
       " 'ĠÄ',\n",
       " 'ł',\n",
       " 'mer',\n",
       " 'Ġh',\n",
       " 'aba',\n",
       " 'ĠÄ',\n",
       " 'ł',\n",
       " 'd',\n",
       " 'Ã',\n",
       " 'ĥ',\n",
       " 'Â',\n",
       " '¼',\n",
       " 'n',\n",
       " 'ya',\n",
       " 'ĠÄ',\n",
       " 'ł',\n",
       " '<end>']"
      ]
     },
     "execution_count": 16,
     "metadata": {},
     "output_type": "execute_result"
    }
   ],
   "source": [
    "tokenizer.encode(_tokens, is_pretokenized=True).tokens"
   ]
  },
  {
   "cell_type": "code",
   "execution_count": null,
   "id": "23a655f8-751e-4054-9bef-7a066cff425b",
   "metadata": {},
   "outputs": [],
   "source": []
  }
 ],
 "metadata": {
  "kernelspec": {
   "display_name": "Python [conda env:pytorch] *",
   "language": "python",
   "name": "conda-env-pytorch-py"
  },
  "language_info": {
   "codemirror_mode": {
    "name": "ipython",
    "version": 3
   },
   "file_extension": ".py",
   "mimetype": "text/x-python",
   "name": "python",
   "nbconvert_exporter": "python",
   "pygments_lexer": "ipython3",
   "version": "3.11.5"
  }
 },
 "nbformat": 4,
 "nbformat_minor": 5
}
