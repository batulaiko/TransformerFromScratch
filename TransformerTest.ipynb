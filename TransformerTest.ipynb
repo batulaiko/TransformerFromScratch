{
 "cells": [
  {
   "cell_type": "code",
   "execution_count": 1,
   "id": "1047522e-6bc3-43e6-8bc7-8a650408c70d",
   "metadata": {},
   "outputs": [],
   "source": [
    "import torch\n",
    "\n",
    "from models.transformer import GPT, BERT, T5\n",
    "\n",
    "%load_ext autoreload\n",
    "%autoreload 2\n",
    "\n",
    "device = 'cpu'\n",
    "#device = 'cuda'"
   ]
  },
  {
   "cell_type": "markdown",
   "id": "16566207-d0e3-4e9b-9c45-c70782a00efb",
   "metadata": {},
   "source": [
    "# GPT Model\n",
    "* Decoder only transformer"
   ]
  },
  {
   "cell_type": "code",
   "execution_count": 2,
   "id": "626a9f92-82ce-4c6a-bbcf-509b1657e5a0",
   "metadata": {},
   "outputs": [],
   "source": [
    "gpt_model = GPT(\n",
    "    vocab_size=10_000,\n",
    "    features_dim=384,\n",
    "    num_heads=6,\n",
    "    ff_dim=384,\n",
    "    num_decoder_layers=6,\n",
    "    emb_dropout_prob=0.1,\n",
    "    attn_dropout_prob=0.1,\n",
    "    ff_dropout_prob=0.1,\n",
    "    attn_use_bias=False,\n",
    "    ff_use_bias=False,\n",
    "    vocab_projection_bias=False,\n",
    ").to(device)"
   ]
  },
  {
   "cell_type": "markdown",
   "id": "ec4ed091-f738-4b49-9cb4-a16277da3380",
   "metadata": {},
   "source": [
    "### Dummy Prediction"
   ]
  },
  {
   "cell_type": "code",
   "execution_count": 3,
   "id": "74b5b844-bee1-4b25-8f07-94a8875c2420",
   "metadata": {},
   "outputs": [
    {
     "data": {
      "text/plain": [
       "torch.Size([32, 20, 10000])"
      ]
     },
     "execution_count": 3,
     "metadata": {},
     "output_type": "execute_result"
    }
   ],
   "source": [
    "batch_size = 32\n",
    "seq_len = 20\n",
    "\n",
    "# combine half 1.0 and half 0.0 pad masks\n",
    "_pad_mask = torch.cat((torch.ones(batch_size, seq_len//2), torch.zeros(batch_size, seq_len//2)), dim=1)\n",
    "\n",
    "pred = gpt_model(\n",
    "    x_input=torch.randint(low=0, high=10_000, size=(batch_size, seq_len)).to(device), \n",
    "    pad_mask=_pad_mask.to(device)\n",
    ")\n",
    "\n",
    "pred.shape"
   ]
  },
  {
   "cell_type": "code",
   "execution_count": 4,
   "id": "fe857ec7-fce2-4be6-8e50-b7dad3ef90d1",
   "metadata": {},
   "outputs": [
    {
     "data": {
      "text/plain": [
       "tensor([1., 1., 1., 1., 1., 1., 1., 1., 1., 1., 0., 0., 0., 0., 0., 0., 0., 0.,\n",
       "        0., 0.])"
      ]
     },
     "execution_count": 4,
     "metadata": {},
     "output_type": "execute_result"
    }
   ],
   "source": [
    "# first batch\n",
    "_pad_mask[0]"
   ]
  },
  {
   "cell_type": "markdown",
   "id": "21ed421b-dc1a-4920-bd10-b5fd09f08a1a",
   "metadata": {},
   "source": [
    "# BERT Model\n",
    "* Encoder only transformer"
   ]
  },
  {
   "cell_type": "code",
   "execution_count": 5,
   "id": "eafadc01-d958-4cac-a3f0-f7a037d42edb",
   "metadata": {},
   "outputs": [],
   "source": [
    "bert_model = BERT(\n",
    "    vocab_size=10_000,\n",
    "    features_dim=384,\n",
    "    num_heads=6,\n",
    "    ff_dim=384,\n",
    "    num_encoder_layers=6,\n",
    "    emb_dropout_prob=0.1,\n",
    "    attn_dropout_prob=0.1,\n",
    "    ff_dropout_prob=0.1,\n",
    "    attn_use_bias=False,\n",
    "    ff_use_bias=False,\n",
    "    vocab_projection_bias=False,\n",
    ").to(device)"
   ]
  },
  {
   "cell_type": "markdown",
   "id": "d2422f04-b2a9-489c-9fe2-44d9c96cb6b1",
   "metadata": {},
   "source": [
    "### Dummy Prediction"
   ]
  },
  {
   "cell_type": "code",
   "execution_count": 6,
   "id": "a99eb40d-887d-4ccc-8bba-bba16a03cddf",
   "metadata": {},
   "outputs": [
    {
     "data": {
      "text/plain": [
       "torch.Size([32, 512, 10000])"
      ]
     },
     "execution_count": 6,
     "metadata": {},
     "output_type": "execute_result"
    }
   ],
   "source": [
    "batch_size = 32\n",
    "seq_len = 512\n",
    "\n",
    "# combine half 1.0 and half 0.0 pad masks\n",
    "_pad_mask = torch.cat((torch.ones(batch_size, seq_len//2), torch.zeros(batch_size, seq_len//2)), dim=1)\n",
    "\n",
    "pred = bert_model(\n",
    "    x_input=torch.randint(low=0, high=10_000, size=(batch_size, seq_len)).to(device), \n",
    "    pad_mask=_pad_mask.to(device)\n",
    ")\n",
    "\n",
    "pred.shape"
   ]
  },
  {
   "cell_type": "markdown",
   "id": "ab39e46b-9e0d-4dbb-a223-36a39ce7fe82",
   "metadata": {},
   "source": [
    "# T5 \n",
    "* Full encoder-decoder transformer"
   ]
  },
  {
   "cell_type": "code",
   "execution_count": 7,
   "id": "d761c9c5-b825-47ee-a4f0-171690e9bb5f",
   "metadata": {},
   "outputs": [],
   "source": [
    "t5_model = T5(\n",
    "    vocab_size_enc=10_000,\n",
    "    vocab_size_dec=10_000,\n",
    "    features_dim=384, \n",
    "    num_heads=6, \n",
    "    ff_dim=384, \n",
    "    num_encoder_layers=1,\n",
    "    num_decoder_layers=6,\n",
    "    emb_dropout_prob=0.1,\n",
    "    attn_dropout_prob=0.1,\n",
    "    ff_dropout_prob=0.1,\n",
    "    attn_use_bias=False,\n",
    "    ff_use_bias=False,\n",
    "    vocab_projection_bias=False,\n",
    ").to(device)"
   ]
  },
  {
   "cell_type": "markdown",
   "id": "5cd519f7-4a58-4ada-9b6d-75c3bb5fdb85",
   "metadata": {},
   "source": [
    "### Dummy Prediction"
   ]
  },
  {
   "cell_type": "code",
   "execution_count": 8,
   "id": "06f3cb96-5f19-4bad-adcc-b2ea0dc1fdca",
   "metadata": {},
   "outputs": [
    {
     "data": {
      "text/plain": [
       "torch.Size([32, 10, 10000])"
      ]
     },
     "execution_count": 8,
     "metadata": {},
     "output_type": "execute_result"
    }
   ],
   "source": [
    "batch_size = 32\n",
    "seq_len_enc = 512\n",
    "seq_len_dec = 10\n",
    "\n",
    "\n",
    "# combine half 1.0 and half 0.0 pad masks\n",
    "_pad_mask_enc = torch.cat((torch.ones(batch_size, seq_len_enc//2), torch.zeros(batch_size, seq_len_enc//2)), dim=1)\n",
    "_pad_mask_dec = torch.cat((torch.ones(batch_size, seq_len_dec//2), torch.zeros(batch_size, seq_len_dec//2)), dim=1)\n",
    "\n",
    "# x_input, x_cross, pad_mask=None, pad_mask_cross=None\n",
    "pred_t5 = t5_model(\n",
    "    x_input=torch.randint(low=0, high=10_000, size=(batch_size, seq_len_enc)).to(device), \n",
    "    x_cross=torch.randint(low=0, high=10_000, size=(batch_size, seq_len_dec)).to(device),\n",
    "    pad_mask=_pad_mask_enc.to(device),\n",
    "    pad_mask_cross=_pad_mask_dec.to(device)\n",
    ")\n",
    "\n",
    "pred_t5.shape"
   ]
  },
  {
   "cell_type": "code",
   "execution_count": null,
   "id": "c240fcca-54f5-4dc8-96dc-9cdf8b8e1518",
   "metadata": {},
   "outputs": [],
   "source": []
  },
  {
   "cell_type": "code",
   "execution_count": null,
   "id": "381e66f4-2ea5-47b2-ab14-7741a4ab20e4",
   "metadata": {},
   "outputs": [],
   "source": []
  }
 ],
 "metadata": {
  "kernelspec": {
   "display_name": "Python [conda env:pytorch] *",
   "language": "python",
   "name": "conda-env-pytorch-py"
  },
  "language_info": {
   "codemirror_mode": {
    "name": "ipython",
    "version": 3
   },
   "file_extension": ".py",
   "mimetype": "text/x-python",
   "name": "python",
   "nbconvert_exporter": "python",
   "pygments_lexer": "ipython3",
   "version": "3.10.12"
  }
 },
 "nbformat": 4,
 "nbformat_minor": 5
}
