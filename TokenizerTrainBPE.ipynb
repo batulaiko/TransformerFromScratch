{
 "cells": [
  {
   "cell_type": "markdown",
   "id": "4c005164-1bd4-4b9c-b432-2c6ccc0d03db",
   "metadata": {},
   "source": [
    "# Train BPE\n",
    "* This is a startover try after tokenization attempt with '!' as space characters\n",
    "* Different approach will be taken this time\n",
    "* https://huggingface.co/docs/tokenizers/quicktour"
   ]
  },
  {
   "cell_type": "code",
   "execution_count": 1,
   "id": "850afa7b-5dda-4ced-8b56-af0828b0e109",
   "metadata": {},
   "outputs": [],
   "source": [
    "from tokenizers import Tokenizer\n",
    "from tokenizers.models import BPE\n",
    "from tokenizers.pre_tokenizers import Whitespace\n",
    "from tokenizers.trainers import BpeTrainer\n",
    "\n",
    "import os\n",
    "\n",
    "from tokenizers.pre_tokenizers import ByteLevel\n",
    "from tokenizers.decoders import ByteLevel as ByteLevelDecoder"
   ]
  },
  {
   "cell_type": "markdown",
   "id": "5ecdb3d8-1623-4102-ac11-2d10695aaf4d",
   "metadata": {},
   "source": [
    "# Initialize the tokenizer"
   ]
  },
  {
   "cell_type": "code",
   "execution_count": 2,
   "id": "1ca990c9-3abf-4b87-a978-b66ad7b1c310",
   "metadata": {},
   "outputs": [],
   "source": [
    "tokenizer = Tokenizer(BPE())"
   ]
  },
  {
   "cell_type": "code",
   "execution_count": 3,
   "id": "b6567acc-57e0-4a32-ad0c-08b9c8e69a07",
   "metadata": {},
   "outputs": [],
   "source": [
    "#tokenizer.pre_tokenizer = Whitespace()\n",
    "tokenizer.pre_tokenizer = ByteLevel()\n",
    "tokenizer.decoder = ByteLevelDecoder()"
   ]
  },
  {
   "cell_type": "code",
   "execution_count": 4,
   "id": "953bb7a9-cd4b-4c15-8f4a-e8fedddff8d0",
   "metadata": {},
   "outputs": [],
   "source": [
    "trainer = BpeTrainer(\n",
    "    vocab_size=50257,\n",
    "    special_tokens=['<pad>', '<unk>', '<sep>', '<cls>', '<start>', '<end>', '<mask>']\n",
    ")"
   ]
  },
  {
   "cell_type": "markdown",
   "id": "2d5bf62d-407b-41f1-a06d-0489a7194f92",
   "metadata": {},
   "source": [
    "# List text files"
   ]
  },
  {
   "cell_type": "code",
   "execution_count": 5,
   "id": "8b80e27a-6ad0-425a-9c54-5e48bfc347fd",
   "metadata": {},
   "outputs": [
    {
     "data": {
      "text/plain": [
       "188919"
      ]
     },
     "execution_count": 5,
     "metadata": {},
     "output_type": "execute_result"
    }
   ],
   "source": [
    "ROOT_DIR = '../data/trwiki-20231120-pages-articles/'\n",
    "#ROOT_DIR = '../data_collection/generated_datasets/'\n",
    "#ROOT_DIR = '../data/books1/epubtxt/'\n",
    "subset_dir = os.listdir(ROOT_DIR)\n",
    "len(subset_dir)"
   ]
  },
  {
   "cell_type": "markdown",
   "id": "21e84025-c2a2-4b5d-b339-676bdfc8cafd",
   "metadata": {},
   "source": [
    "# Ignore \"Combined\"\n",
    "* Special case for **trwiki-20231120-pages-articles** data\n",
    "* (len should be 1 item less)"
   ]
  },
  {
   "cell_type": "code",
   "execution_count": 6,
   "id": "443e3d7a-0786-44d9-806a-4229144bcd09",
   "metadata": {
    "scrolled": true
   },
   "outputs": [
    {
     "data": {
      "text/plain": [
       "188918"
      ]
     },
     "execution_count": 6,
     "metadata": {},
     "output_type": "execute_result"
    }
   ],
   "source": [
    "#subset_dir_full = [os.path.join(ROOT_DIR, file) for file in subset_dir]\n",
    "subset_dir_full = [os.path.join(ROOT_DIR, file) for file in subset_dir if not 'combined' in file]\n",
    "len(subset_dir_full)"
   ]
  },
  {
   "cell_type": "markdown",
   "id": "4df47ed2-5845-4336-9788-f4af911ff091",
   "metadata": {},
   "source": [
    "# Train the tokenizer"
   ]
  },
  {
   "cell_type": "code",
   "execution_count": 7,
   "id": "33051922-5ae9-4d12-bdd4-b53a81fa6205",
   "metadata": {},
   "outputs": [
    {
     "name": "stdout",
     "output_type": "stream",
     "text": [
      "\n",
      "\n",
      "\n"
     ]
    }
   ],
   "source": [
    "tokenizer.train(files=subset_dir_full, trainer=trainer)"
   ]
  },
  {
   "cell_type": "markdown",
   "id": "70eacb77-9ef6-4de7-ae63-7e56480a6a59",
   "metadata": {},
   "source": [
    "# Test the tokenizer"
   ]
  },
  {
   "cell_type": "code",
   "execution_count": 8,
   "id": "dcdb6675-bffb-4cce-b0c1-7b5eedb4e7f7",
   "metadata": {},
   "outputs": [],
   "source": [
    "encode = lambda s: tokenizer.encode(s).ids # encoder: take a string, output a list of integers\n",
    "decode = lambda t: tokenizer.decode(t) # decoder: take a list of integers, output a string"
   ]
  },
  {
   "cell_type": "code",
   "execution_count": 9,
   "id": "cfadd615-dcc2-414b-8b56-232136d4ba7f",
   "metadata": {},
   "outputs": [
    {
     "name": "stdout",
     "output_type": "stream",
     "text": [
      "['Ġmer', 'haba']\n"
     ]
    }
   ],
   "source": [
    "output = tokenizer.encode('merhaba')\n",
    "print(output.tokens)"
   ]
  },
  {
   "cell_type": "code",
   "execution_count": 10,
   "id": "ffbc7b9e-0252-46c0-9f49-488eeb041e7a",
   "metadata": {},
   "outputs": [
    {
     "data": {
      "text/plain": [
       "' merhaba dünya'"
      ]
     },
     "execution_count": 10,
     "metadata": {},
     "output_type": "execute_result"
    }
   ],
   "source": [
    "decode(encode('merhaba dünya'))"
   ]
  },
  {
   "cell_type": "markdown",
   "id": "f12c5c86-52a2-4cde-9d5d-9b118fdf5712",
   "metadata": {},
   "source": [
    "# Save the tokenizer"
   ]
  },
  {
   "cell_type": "code",
   "execution_count": 11,
   "id": "b483f429-11a9-41f0-861b-f2b7b1796e4d",
   "metadata": {},
   "outputs": [],
   "source": [
    "tokenizer.save('/URL/TO/YOUR/TOKENIZER')"
   ]
  },
  {
   "cell_type": "code",
   "execution_count": null,
   "id": "8100be20-477d-4693-928c-5204d93c10ac",
   "metadata": {},
   "outputs": [],
   "source": []
  },
  {
   "cell_type": "code",
   "execution_count": null,
   "id": "e3a29791-fa1a-477e-86de-ef1ae6c18f62",
   "metadata": {},
   "outputs": [],
   "source": []
  }
 ],
 "metadata": {
  "kernelspec": {
   "display_name": "Python [conda env:pytorch] *",
   "language": "python",
   "name": "conda-env-pytorch-py"
  },
  "language_info": {
   "codemirror_mode": {
    "name": "ipython",
    "version": 3
   },
   "file_extension": ".py",
   "mimetype": "text/x-python",
   "name": "python",
   "nbconvert_exporter": "python",
   "pygments_lexer": "ipython3",
   "version": "3.11.5"
  }
 },
 "nbformat": 4,
 "nbformat_minor": 5
}
