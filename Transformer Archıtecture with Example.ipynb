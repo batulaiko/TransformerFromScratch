{
 "cells": [
  {
   "cell_type": "code",
   "execution_count": null,
   "metadata": {},
   "outputs": [],
   "source": [
    "import torch\n",
    "import torch.nn as nn\n",
    "import torch.optim as optim\n",
    "import torch.utils.data as data\n",
    "from torch.utils.data import DataLoader\n",
    "from torch.nn.utils.rnn import pad_sequence\n",
    "from torch.utils.data import Dataset\n",
    "from torch.optim.lr_scheduler import StepLR\n",
    "\n",
    "import math\n",
    "import copy\n",
    "import gc\n",
    "import time\n",
    "import pandas as pd\n",
    "import numpy as np\n",
    "\n",
    "from sklearn.model_selection import train_test_split\n",
    "from sklearn.metrics import classification_report\n",
    "from sklearn.metrics import confusion_matrix\n",
    "from sklearn.metrics import f1_score\n",
    "from sklearn.cluster import DBSCAN, KMeans\n",
    "from sklearn.model_selection import StratifiedShuffleSplit\n",
    "\n",
    "from sklearn import preprocessing\n",
    "import yake\n",
    "from collections import defaultdict\n",
    "\n",
    "\n",
    "from datasets import Dataset as DatasetHG\n",
    "from datasets import DatasetDict\n",
    "from tqdm import tqdm\n",
    "from transformers import AutoTokenizer\n",
    "import string\n",
    "from nltk.corpus import stopwords\n",
    "from nltk.tokenize import word_tokenize\n",
    "import re\n",
    "from IPython.display import display, clear_output\n",
    "import random\n",
    "import os\n",
    "\n",
    "# Set seed constant value\n",
    "def seed_everything(seed):\n",
    "    random.seed(seed)\n",
    "    os.environ['PYTHONHASHSEED'] = str(seed)\n",
    "    np.random.seed(seed)\n",
    "    torch.manual_seed(seed)\n",
    "    if torch.cuda.is_available():\n",
    "        torch.cuda.manual_seed_all(seed)\n",
    "        torch.backends.cudnn.deterministic = True # Only deterministic algorithms for getting same result\n",
    "        torch.backends.cudnn.benchmark = False # Disables cuDNN's auto-tuning !!!!!!!!!!!!!!!!!!!!!\n",
    "    worker_seed = seed % (2**32)\n",
    "    torch.utils.data.DataLoader.worker_init_fn = lambda worker_id: np.random.seed(worker_seed + worker_id)\n",
    "\n",
    "seed_everything(42)"
   ]
  },
  {
   "cell_type": "code",
   "execution_count": null,
   "metadata": {},
   "outputs": [],
   "source": [
    "class MultiHeadAttention(nn.Module):\n",
    "    def __init__(self, d_model, num_heads, use_bias, use_lookahead_mask=False):\n",
    "        super().__init__()\n",
    "        # d_model: Dimensionality of the input.\n",
    "        # num_heads: The number of attention heads to split the input into.\n",
    "\n",
    "        # Ensure that the model dimension (d_model) is divisible by the number of heads\n",
    "        assert d_model % num_heads == 0, \"d_model must be divisible by num_heads\"\n",
    "\n",
    "        # Initialize dimensions\n",
    "        self.d_model = d_model # Model's dimension\n",
    "        self.num_heads = num_heads # Number of attention heads\n",
    "        self.use_bias = use_bias\n",
    "        self.d_k = d_model // num_heads # Dimension of each head's key, query, and value\n",
    "        self.use_lookahead_mask = use_lookahead_mask\n",
    "\n",
    "        # Linear layers for transforming inputs\n",
    "        self.W_q = nn.Linear(d_model, d_model,bias=self.use_bias) # Query transformation\n",
    "        self.W_k = nn.Linear(d_model, d_model,bias=self.use_bias) # Key transformation\n",
    "        self.W_v = nn.Linear(d_model, d_model,bias=self.use_bias) # Value transformation\n",
    "        self.W_o = nn.Linear(d_model, d_model,bias=self.use_bias) # Output transformation\n",
    "\n",
    "    def forward(self, Q, K, V, mask=None):\n",
    "        # Apply linear transformations and split heads\n",
    "        batch_size, seq_len_q, _ = Q.size()\n",
    "        _, seq_len_k, _ = K.size()\n",
    "        # Shapes are (batch_size, seq_len, d_model)\n",
    "        Q = self.W_q(Q)\n",
    "        K = self.W_k(K)\n",
    "        V = self.W_v(V)\n",
    "\n",
    "        Q = Q.view(batch_size, -1, self.num_heads, self.d_k).transpose(1, 2) # .transpose(1,2) used due to the shape was (batch_size, seq_len, num_heads, d_k)\n",
    "        K = K.view(batch_size, -1, self.num_heads, self.d_k).transpose(1, 2) # To make it (batch_size, num_heads, seq_len, d_k), because we are giving batches to heads\n",
    "        V = V.view(batch_size, -1, self.num_heads, self.d_k).transpose(1, 2)\n",
    "\n",
    "        # Calculate attention scores\n",
    "        # K.Transpose comes from the equation of attention score, which is Q.K^T.\n",
    "        # So (batch_size, num_heads, seq_len_q, d_k) * (batch_size, num_heads, d_k, seq_len_k) = (batch_size, num_heads, seq_len_q, seq_len)\n",
    "        attn_scores = torch.matmul(Q, K.transpose(2, 3)) / torch.sqrt(torch.tensor(self.d_k, dtype=torch.float32))\n",
    "\n",
    "        # Lookahead mask (used in Decoder)\n",
    "        if self.use_lookahead_mask:\n",
    "            subsequent_mask = torch.tril(torch.ones(seq_len_q, seq_len_k)).to(Q.device)\n",
    "            attn_scores.masked_fill_(subsequent_mask == 0, 1e-10)\n",
    "\n",
    "        # Apply mask if provided (useful for preventing attention to certain parts like padding)\n",
    "        if mask is not None:\n",
    "            __pad_mask = mask.unsqueeze(1).unsqueeze(3)\n",
    "            # __pad_mask.shape: (batch_size, 1, seq_len_q, 1)\n",
    "            # pad mask is broadcasted from q dimension\n",
    "            # enc/dec case: q is the dimension of decoder output, k and v are from encoder\n",
    "            # NOTE: using float('-inf') here can cause numerical instability!\n",
    "            attn_scores.masked_fill_(__pad_mask == 0, 1e-10)\n",
    "\n",
    "        # Softmax is applied to obtain attention probabilities\n",
    "        self.attn_probs = torch.softmax(attn_scores, dim=-1)\n",
    "\n",
    "        # Store attention probabilities in the dictionary\n",
    "        # self.attn_probs_dict['attn_probs'] = self.attn_probs\n",
    "\n",
    "        # Multiply by values to obtain the final output\n",
    "        attn_output = torch.matmul(self.attn_probs, V)\n",
    "\n",
    "\n",
    "        # Combine heads and apply output transformation sized as\n",
    "        # (batch_size, seq_len_q, num_heads, head_dim) -> (batch_size, seq_len_q, features_dim)\n",
    "\n",
    "        combined_output = attn_output.transpose(1, 2).contiguous().view(batch_size, -1, self.d_model)\n",
    "        output = self.W_o(combined_output)\n",
    "        return output\n"
   ]
  },
  {
   "cell_type": "code",
   "execution_count": null,
   "metadata": {},
   "outputs": [],
   "source": [
    "class AttentionResidualConnection(nn.Module):\n",
    "\n",
    "    def __init__(self,layer,features_dim,dropout_prob,res_type='pre'):\n",
    "        super().__init__()\n",
    "        self.layer = layer\n",
    "        self.norm = nn.LayerNorm(features_dim)\n",
    "        self.dropout = nn.Dropout(dropout_prob)\n",
    "        if not(res_type.lower() in ['pre','post','dual']):\n",
    "            raise(\"Enter type as pre post or dual\")\n",
    "        else:\n",
    "            self.res_type = res_type\n",
    "\n",
    "    def forward(self,q,k,v,mask):\n",
    "        if self.res_type.lower() == 'pre':\n",
    "            return q + self.dropout(self.layer(self.norm(q), self.norm(k), self.norm(v), mask))\n",
    "        elif self.res_type.lower() == 'post':\n",
    "            return self.norm(q + self.dropout(self.layer(q,k,v,mask)))\n"
   ]
  },
  {
   "cell_type": "code",
   "execution_count": null,
   "metadata": {},
   "outputs": [],
   "source": [
    "class FeedForward(nn.Module):\n",
    "    def __init__(self,d_model,d_ff, ff_use_bias):\n",
    "        super().__init__()\n",
    "        self.pwff = nn.Sequential(\n",
    "            nn.Linear(d_model, d_ff, bias=ff_use_bias),\n",
    "            nn.ReLU(),\n",
    "            nn.Linear(d_ff, d_model, bias=ff_use_bias),\n",
    "            )\n",
    "\n",
    "    def forward(self,x):\n",
    "        return self.pwff(x)"
   ]
  },
  {
   "cell_type": "code",
   "execution_count": 5,
   "metadata": {},
   "outputs": [],
   "source": [
    "class FeedForwardResidualConnection(nn.Module):\n",
    "    def __init__(self, layer, features_dim, dropout_prob, res_type='pre'):\n",
    "        super().__init__()\n",
    "        self.layer = layer\n",
    "        self.norm = nn.LayerNorm(features_dim)\n",
    "        self.dropout = nn.Dropout(dropout_prob)\n",
    "        if not(res_type.lower() in ['pre','post','dual']):\n",
    "            raise(\"Enter type as pre post or dual\")\n",
    "        else:\n",
    "            self.res_type = res_type\n",
    "\n",
    "    def forward(self, x):\n",
    "        if self.res_type.lower() == 'pre':\n",
    "            return x + self.dropout(self.layer(self.norm(x)))\n",
    "        elif self.res_type.lower() == 'post':\n",
    "            return self.norm(x + self.dropout(self.layer(x)))"
   ]
  },
  {
   "cell_type": "markdown",
   "metadata": {},
   "source": [
    "#### Encoder - Decoder & MaskedOnlyDecoder Layers\n",
    "\n",
    "- `AttentionResidualConnection`and `FeedForwardResidualConnection` are created to improve gradient flow.\n",
    "- `use_lookahead_mask=True` part is to apply masking operation for Decoding Phase"
   ]
  },
  {
   "cell_type": "code",
   "execution_count": null,
   "metadata": {},
   "outputs": [],
   "source": [
    "class EncoderLayer(nn.Module):\n",
    "    def __init__(\n",
    "        self,\n",
    "        features_dim,\n",
    "        num_heads,\n",
    "        ff_dim,\n",
    "        attn_dropout_prob,\n",
    "        ff_dropout_prob,\n",
    "        attn_use_bias,\n",
    "        ff_use_bias,\n",
    "        attn_res,\n",
    "        ff_res\n",
    "    ):\n",
    "        super().__init__()\n",
    "\n",
    "        self.mha = AttentionResidualConnection(\n",
    "            layer=MultiHeadAttention(features_dim, num_heads, attn_use_bias),\n",
    "            features_dim=features_dim,\n",
    "            dropout_prob=attn_dropout_prob,\n",
    "            res_type=attn_res,\n",
    "        )\n",
    "\n",
    "        self.ff = FeedForwardResidualConnection(\n",
    "            layer=FeedForward(features_dim, ff_dim, ff_use_bias),\n",
    "            features_dim=features_dim,\n",
    "            dropout_prob=ff_dropout_prob,\n",
    "            res_type=ff_res,\n",
    "        )\n",
    "\n",
    "    def forward(self, x_input, pad_mask):\n",
    "        mha_out = self.mha(x_input, x_input, x_input, pad_mask)\n",
    "        ff_out = self.ff(mha_out)\n",
    "        return ff_out\n",
    "\n",
    "class MaskedOnlyDecoderLayer(nn.Module):\n",
    "    def __init__(\n",
    "        self,\n",
    "        features_dim,\n",
    "        num_heads,\n",
    "        ff_dim,\n",
    "        attn_dropout_prob,\n",
    "        ff_dropout_prob,\n",
    "        attn_use_bias,\n",
    "        ff_use_bias,\n",
    "        attn_res,\n",
    "        ff_res\n",
    "    ):\n",
    "        super().__init__()\n",
    "\n",
    "        self.m_mha = AttentionResidualConnection(\n",
    "            layer=MultiHeadAttention(features_dim, num_heads, attn_use_bias, use_lookahead_mask=True),\n",
    "            features_dim=features_dim,\n",
    "            dropout_prob=attn_dropout_prob,\n",
    "            res_type=attn_res,\n",
    "        )\n",
    "\n",
    "        self.ff = FeedForwardResidualConnection(\n",
    "            layer=FeedForward(features_dim, ff_dim, ff_use_bias),\n",
    "            features_dim=features_dim,\n",
    "            dropout_prob=ff_dropout_prob,\n",
    "            res_type=ff_res,\n",
    "        )\n",
    "\n",
    "    def forward(self, x_input, pad_mask):\n",
    "        mha_out = self.m_mha(x_input, x_input, x_input, pad_mask)\n",
    "        ff_out = self.ff(mha_out)\n",
    "        return ff_out\n",
    "\n",
    "\n",
    "class DecoderLayer(nn.Module):\n",
    "    def __init__(\n",
    "        self,\n",
    "        features_dim,\n",
    "        num_heads,\n",
    "        ff_dim,\n",
    "        attn_dropout_prob,\n",
    "        ff_dropout_prob,\n",
    "        attn_use_bias,\n",
    "        ff_use_bias,\n",
    "        attn_res,\n",
    "        ff_res\n",
    "    ):\n",
    "        super().__init__()\n",
    "\n",
    "        # Masked Layer\n",
    "        self.m_mha = AttentionResidualConnection(\n",
    "            layer=MultiHeadAttention(features_dim, num_heads, attn_use_bias, use_lookahead_mask=True),\n",
    "            features_dim=features_dim,\n",
    "            dropout_prob=attn_dropout_prob,\n",
    "            res_type=attn_res,\n",
    "        )\n",
    "        # Normal Attention Layer\n",
    "        self.mha = AttentionResidualConnection(\n",
    "            layer=MultiHeadAttention(features_dim, num_heads, attn_use_bias, use_lookahead_mask=False),\n",
    "            features_dim=features_dim,\n",
    "            dropout_prob=attn_dropout_prob,\n",
    "            res_type=attn_res,\n",
    "        )\n",
    "        self.ff = FeedForwardResidualConnection(\n",
    "            layer=FeedForward(features_dim, ff_dim, ff_use_bias),\n",
    "            features_dim=features_dim,\n",
    "            dropout_prob=ff_dropout_prob,\n",
    "            res_type=ff_res,\n",
    "        )\n",
    "\n",
    "    def forward(self, x_input, x_cross, pad_mask,cross_pad_mask):\n",
    "        mha_out = self.mha(x_input, x_input, x_input, pad_mask)\n",
    "        masked_mha_out = self.mha(x_cross, mha_out, mha_out, cross_pad_mask) # q = Cross , k,v = x_input from mha\n",
    "        ff_out = self.ff(masked_mha_out)\n",
    "        return ff_out"
   ]
  },
  {
   "cell_type": "markdown",
   "metadata": {},
   "source": [
    "#### Model Architecture \n",
    "\n",
    "Previous cells are for writing the classes that will be used on main architecture.\n",
    "\n",
    "The models are:\n",
    "\n",
    "- BERT: Uses only Encoder Layer and `x_input`.\n",
    "- MaskedOnlyDecoder: Uses only MaskedOnlyDecoder Layer and `x_input`.\n",
    "- GPT: Uses Decoder Layer that feeded via MaskedOnlyDecoder and `x_cross`Cross-Attention variable.\n",
    "- T5: The main transformer layer. Uses BERT and GPT architecture."
   ]
  },
  {
   "cell_type": "code",
   "execution_count": null,
   "metadata": {},
   "outputs": [],
   "source": [
    "class BERT(nn.Module):\n",
    "    def __init__(\n",
    "        self,\n",
    "        vocab_size,\n",
    "        target_size,\n",
    "        features_dim,\n",
    "        num_heads,\n",
    "        ff_dim,\n",
    "        num_encoder_layers,\n",
    "        emb_dropout_prob,\n",
    "        attn_dropout_prob,\n",
    "        ff_dropout_prob,\n",
    "        attn_use_bias,\n",
    "        ff_use_bias,\n",
    "        attn_res,\n",
    "        ff_res,\n",
    "        vocab_projection_bias,\n",
    "    ):\n",
    "        super().__init__()\n",
    "        self.features_dim = features_dim\n",
    "\n",
    "        self.token_emb = nn.Embedding(vocab_size, features_dim)\n",
    "\n",
    "        # Learnable position embbedings\n",
    "        #self.position_emb = nn.Embedding(max_seq_len, features_dim)\n",
    "\n",
    "        self.emb_dropout_prob = nn.Dropout(p=emb_dropout_prob)\n",
    "\n",
    "        # NOTE: nn.Sequential can't handle multiple inputs!\n",
    "        self.enc_layers = nn.ModuleList(\n",
    "            [EncoderLayer(\n",
    "                features_dim,\n",
    "                num_heads,\n",
    "                ff_dim,\n",
    "                attn_dropout_prob,\n",
    "                ff_dropout_prob,\n",
    "                attn_use_bias,\n",
    "                ff_use_bias,\n",
    "                attn_res,\n",
    "                ff_res,\n",
    "            ) for _ in range(num_encoder_layers)]\n",
    "        )\n",
    "        self.layernorm_final = nn.LayerNorm(features_dim)\n",
    "\n",
    "        self.vocab_projection = nn.Linear(features_dim, target_size, bias=vocab_projection_bias)\n",
    "\n",
    "        self.apply(self._init_weights)\n",
    "    def _init_weights(self, module):\n",
    "        if isinstance(module, nn.Linear):\n",
    "            torch.nn.init.normal_(module.weight, mean=0.0, std=0.02)\n",
    "            if module.bias is not None:\n",
    "                torch.nn.init.zeros_(module.bias)\n",
    "        elif isinstance(module, nn.Embedding):\n",
    "            torch.nn.init.normal_(module.weight, mean=0.0, std=0.02)\n",
    "\n",
    "    def generate_positional_embbedings(self, seq_len):\n",
    "\n",
    "        pe = torch.zeros(seq_len, self.features_dim)\n",
    "        position = torch.arange(0, seq_len).unsqueeze(1)\n",
    "\n",
    "        div_term = torch.exp(\n",
    "            torch.arange(0, self.features_dim, 2) * -(math.log(10000.0) / self.features_dim)\n",
    "        )\n",
    "\n",
    "        pe[:, 0::2] = torch.sin(position * div_term)\n",
    "        pe[:, 1::2] = torch.cos(position * div_term)\n",
    "        return pe.unsqueeze(0)\n",
    "\n",
    "    def forward(self, x_input, pad_mask=None):\n",
    "        _batch_size, _seq_len = x_input.size()\n",
    "        _token_emb = self.token_emb(x_input)\n",
    "        _position_emb = self.generate_positional_embbedings(_seq_len).to(x_input.device)\n",
    "        x_input = self.emb_dropout_prob(_token_emb + _position_emb)\n",
    "\n",
    "        # Self attenting MHA\n",
    "        for _enc_layer in self.enc_layers:\n",
    "            x_input = _enc_layer(x_input, pad_mask)\n",
    "\n",
    "        x_input = self.layernorm_final(x_input)\n",
    "        x_input = self.vocab_projection(x_input)\n",
    "\n",
    "        # shape [batch_size, seq_q_len, class_size] --> [batch_size, class_size]\n",
    "        x_input = x_input.mean(dim=1)\n",
    "\n",
    "        return x_input"
   ]
  },
  {
   "cell_type": "code",
   "execution_count": null,
   "metadata": {},
   "outputs": [],
   "source": [
    "class MaskedDecoder(nn.Module):\n",
    "    def __init__(\n",
    "        self,\n",
    "        vocab_size,\n",
    "        target_size,\n",
    "        features_dim,\n",
    "        num_heads,\n",
    "        ff_dim,\n",
    "        num_encoder_layers,\n",
    "        emb_dropout_prob,\n",
    "        attn_dropout_prob,\n",
    "        ff_dropout_prob,\n",
    "        attn_use_bias,\n",
    "        ff_use_bias,\n",
    "        attn_res,\n",
    "        ff_res,\n",
    "        vocab_projection_bias,\n",
    "    ):\n",
    "        super().__init__()\n",
    "        self.features_dim = features_dim\n",
    "\n",
    "        self.token_emb = nn.Embedding(vocab_size, features_dim)\n",
    "\n",
    "        # Learnable position embbedings\n",
    "        #self.position_emb = nn.Embedding(max_seq_len, features_dim)\n",
    "\n",
    "        self.emb_dropout_prob = nn.Dropout(p=emb_dropout_prob)\n",
    "\n",
    "        # NOTE: nn.Sequential can't handle multiple inputs!\n",
    "        self.mdec_layers = nn.ModuleList(\n",
    "            [MaskedOnlyDecoderLayer(\n",
    "                features_dim,\n",
    "                num_heads,\n",
    "                ff_dim,\n",
    "                attn_dropout_prob,\n",
    "                ff_dropout_prob,\n",
    "                attn_use_bias,\n",
    "                ff_use_bias,\n",
    "                attn_res,\n",
    "                ff_res,\n",
    "            ) for _ in range(num_encoder_layers)]\n",
    "        )\n",
    "        self.layernorm_final = nn.LayerNorm(features_dim)\n",
    "\n",
    "        self.vocab_projection = nn.Linear(features_dim, target_size, bias=vocab_projection_bias)\n",
    "\n",
    "        self.apply(self._init_weights)\n",
    "    def _init_weights(self, module):\n",
    "        if isinstance(module, nn.Linear):\n",
    "            torch.nn.init.normal_(module.weight, mean=0.0, std=0.02)\n",
    "            if module.bias is not None:\n",
    "                torch.nn.init.zeros_(module.bias)\n",
    "        elif isinstance(module, nn.Embedding):\n",
    "            torch.nn.init.normal_(module.weight, mean=0.0, std=0.02)\n",
    "\n",
    "    def generate_positional_embbedings(self, seq_len):\n",
    "\n",
    "        pe = torch.zeros(seq_len, self.features_dim)\n",
    "        position = torch.arange(0, seq_len).unsqueeze(1)\n",
    "\n",
    "        div_term = torch.exp(\n",
    "            torch.arange(0, self.features_dim, 2) * -(math.log(10000.0) / self.features_dim)\n",
    "        )\n",
    "\n",
    "        pe[:, 0::2] = torch.sin(position * div_term)\n",
    "        pe[:, 1::2] = torch.cos(position * div_term)\n",
    "        return pe.unsqueeze(0)\n",
    "\n",
    "    def forward(self, x_input, pad_mask=None):\n",
    "        _batch_size, _seq_len = x_input.size()\n",
    "        _token_emb = self.token_emb(x_input)\n",
    "        _position_emb = self.generate_positional_embbedings(_seq_len).to(x_input.device)\n",
    "        x_input = self.emb_dropout_prob(_token_emb + _position_emb)\n",
    "\n",
    "        # Self attenting MHA\n",
    "        for _mdec_layer in self.mdec_layers:\n",
    "            x_input = _mdec_layer(x_input, pad_mask)\n",
    "\n",
    "        x_input = self.layernorm_final(x_input)\n",
    "        x_input = self.vocab_projection(x_input)\n",
    "\n",
    "        # shape [batch_size, seq_q_len, class_size] --> [batch_size, class_size]\n",
    "        x_input = x_input.mean(dim=1)\n",
    "\n",
    "        return x_input"
   ]
  },
  {
   "cell_type": "code",
   "execution_count": null,
   "metadata": {},
   "outputs": [],
   "source": [
    "class GPT(nn.Module):\n",
    "    def __init__(\n",
    "        self,\n",
    "        vocab_size,\n",
    "        target_size,\n",
    "        features_dim,\n",
    "        num_heads,\n",
    "        ff_dim,\n",
    "        num_encoder_layers,\n",
    "        emb_dropout_prob,\n",
    "        attn_dropout_prob,\n",
    "        ff_dropout_prob,\n",
    "        attn_use_bias,\n",
    "        ff_use_bias,\n",
    "        attn_res,\n",
    "        ff_res,\n",
    "        vocab_projection_bias,\n",
    "    ):\n",
    "        super().__init__()\n",
    "        self.features_dim = features_dim\n",
    "\n",
    "        self.token_emb = nn.Embedding(vocab_size, features_dim)\n",
    "        self.c_token_emb = nn.Embedding(vocab_size, features_dim)\n",
    "\n",
    "        # Learnable position embbedings\n",
    "        #self.position_emb = nn.Embedding(max_seq_len, features_dim)\n",
    "\n",
    "        self.emb_dropout_prob = nn.Dropout(p=emb_dropout_prob)\n",
    "\n",
    "        # NOTE: nn.Sequential can't handle multiple inputs!\n",
    "        self.dec_layers = nn.ModuleList(\n",
    "            [DecoderLayer(\n",
    "                features_dim,\n",
    "                num_heads,\n",
    "                ff_dim,\n",
    "                attn_dropout_prob,\n",
    "                ff_dropout_prob,\n",
    "                attn_use_bias,\n",
    "                ff_use_bias,\n",
    "                attn_res,\n",
    "                ff_res,\n",
    "            ) for _ in range(num_encoder_layers)]\n",
    "        )\n",
    "        self.layernorm_final = nn.LayerNorm(features_dim)\n",
    "\n",
    "        self.vocab_projection = nn.Linear(features_dim, target_size, bias=vocab_projection_bias)\n",
    "\n",
    "        self.apply(self._init_weights)\n",
    "    def _init_weights(self, module):\n",
    "        if isinstance(module, nn.Linear):\n",
    "            torch.nn.init.normal_(module.weight, mean=0.0, std=0.02)\n",
    "            if module.bias is not None:\n",
    "                torch.nn.init.zeros_(module.bias)\n",
    "        elif isinstance(module, nn.Embedding):\n",
    "            torch.nn.init.normal_(module.weight, mean=0.0, std=0.02)\n",
    "\n",
    "    def generate_positional_embbedings(self, seq_len):\n",
    "\n",
    "        pe = torch.zeros(seq_len, self.features_dim)\n",
    "        position = torch.arange(0, seq_len).unsqueeze(1)\n",
    "\n",
    "        div_term = torch.exp(\n",
    "            torch.arange(0, self.features_dim, 2) * -(math.log(10000.0) / self.features_dim)\n",
    "        )\n",
    "\n",
    "        pe[:, 0::2] = torch.sin(position * div_term)\n",
    "        pe[:, 1::2] = torch.cos(position * div_term)\n",
    "        return pe.unsqueeze(0)\n",
    "\n",
    "    def forward(self, x_input, x_cross, pad_mask=None, cross_pad_mask=None):\n",
    "        _batch_size, _seq_len = x_input.size()\n",
    "        _token_emb = self.token_emb(x_input)\n",
    "        _position_emb = self.generate_positional_embbedings(_seq_len).to(x_input.device)\n",
    "        x_input = self.emb_dropout_prob(_token_emb + _position_emb)\n",
    "\n",
    "        # Cross Emb\n",
    "        c_batch_size, c_seq_len = x_cross.size()\n",
    "        c_token_emb = self.c_token_emb(x_cross)\n",
    "        c_position_emb = self.generate_positional_embbedings(c_seq_len).to(x_cross.device)\n",
    "        x_cross = self.emb_dropout_prob(c_token_emb + c_position_emb)\n",
    "\n",
    "        # Self attenting MHA\n",
    "        for _dec_layer in self.dec_layers:\n",
    "            x_cross = _dec_layer(x_input, x_cross, pad_mask, cross_pad_mask)\n",
    "\n",
    "        x_cross = self.layernorm_final(x_cross)\n",
    "        x_cross = self.vocab_projection(x_cross)\n",
    "\n",
    "        # shape [batch_size, seq_q_len, class_size] --> [batch_size, class_size]\n",
    "        x_cross = x_cross.mean(dim=1)\n",
    "\n",
    "        return x_cross"
   ]
  },
  {
   "cell_type": "code",
   "execution_count": null,
   "metadata": {},
   "outputs": [],
   "source": [
    "class T5(nn.Module):\n",
    "    def __init__(\n",
    "        self,\n",
    "        vocab_size,\n",
    "        target_size,\n",
    "        features_dim,\n",
    "        num_heads,\n",
    "        ff_dim,\n",
    "        num_encoder_layers,\n",
    "        emb_dropout_prob,\n",
    "        attn_dropout_prob,\n",
    "        ff_dropout_prob,\n",
    "        attn_use_bias,\n",
    "        ff_use_bias,\n",
    "        attn_res,\n",
    "        ff_res,\n",
    "        vocab_projection_bias,\n",
    "    ):\n",
    "        super().__init__()\n",
    "        self.features_dim = features_dim\n",
    "\n",
    "        self.token_emb = nn.Embedding(vocab_size, features_dim)\n",
    "        self.c_token_emb = nn.Embedding(vocab_size, features_dim)\n",
    "\n",
    "        # Learnable position embbedings\n",
    "        #self.position_emb = nn.Embedding(max_seq_len, features_dim)\n",
    "\n",
    "        self.emb_dropout_prob = nn.Dropout(p=emb_dropout_prob)\n",
    "\n",
    "        # NOTE: nn.Sequential can't handle multiple inputs!\n",
    "\n",
    "        # NOTE: nn.Sequential can't handle multiple inputs!\n",
    "        self.enc_layers = nn.ModuleList(\n",
    "            [EncoderLayer(\n",
    "                features_dim,\n",
    "                num_heads,\n",
    "                ff_dim,\n",
    "                attn_dropout_prob,\n",
    "                ff_dropout_prob,\n",
    "                attn_use_bias,\n",
    "                ff_use_bias,\n",
    "                attn_res,\n",
    "                ff_res,\n",
    "            ) for _ in range(num_encoder_layers)]\n",
    "        )\n",
    "\n",
    "        self.dec_layers = nn.ModuleList(\n",
    "            [DecoderLayer(\n",
    "                features_dim,\n",
    "                num_heads,\n",
    "                ff_dim,\n",
    "                attn_dropout_prob,\n",
    "                ff_dropout_prob,\n",
    "                attn_use_bias,\n",
    "                ff_use_bias,\n",
    "                attn_res,\n",
    "                ff_res,\n",
    "            ) for _ in range(num_encoder_layers)]\n",
    "        )\n",
    "        self.layernorm_final = nn.LayerNorm(features_dim)\n",
    "\n",
    "        self.vocab_projection = nn.Linear(features_dim, target_size, bias=vocab_projection_bias)\n",
    "\n",
    "        self.apply(self._init_weights)\n",
    "    def _init_weights(self, module):\n",
    "        if isinstance(module, nn.Linear):\n",
    "            torch.nn.init.normal_(module.weight, mean=0.0, std=0.02)\n",
    "            if module.bias is not None:\n",
    "                torch.nn.init.zeros_(module.bias)\n",
    "        elif isinstance(module, nn.Embedding):\n",
    "            torch.nn.init.normal_(module.weight, mean=0.0, std=0.02)\n",
    "\n",
    "    def generate_positional_embbedings(self, seq_len):\n",
    "\n",
    "        pe = torch.zeros(seq_len, self.features_dim)\n",
    "        position = torch.arange(0, seq_len).unsqueeze(1)\n",
    "\n",
    "        div_term = torch.exp(\n",
    "            torch.arange(0, self.features_dim, 2) * -(math.log(10000.0) / self.features_dim)\n",
    "        )\n",
    "\n",
    "        pe[:, 0::2] = torch.sin(position * div_term)\n",
    "        pe[:, 1::2] = torch.cos(position * div_term)\n",
    "        return pe.unsqueeze(0)\n",
    "\n",
    "    def forward(self, x_input, x_cross, pad_mask=None, cross_pad_mask=None):\n",
    "        _batch_size, _seq_len = x_input.size()\n",
    "        _token_emb = self.token_emb(x_input)\n",
    "        _position_emb = self.generate_positional_embbedings(_seq_len).to(x_input.device)\n",
    "        x_input = self.emb_dropout_prob(_token_emb + _position_emb)\n",
    "\n",
    "        # Cross Emb\n",
    "        c_batch_size, c_seq_len = x_cross.size()\n",
    "        c_token_emb = self.c_token_emb(x_cross)\n",
    "        c_position_emb = self.generate_positional_embbedings(c_seq_len).to(x_cross.device)\n",
    "        x_cross = self.emb_dropout_prob(c_token_emb + c_position_emb)\n",
    "\n",
    "\n",
    "        # Self attenting MHA\n",
    "        for _enc_layer in self.enc_layers:\n",
    "            x_input = _enc_layer(x_input, pad_mask)\n",
    "\n",
    "        # Cross attenting MHA\n",
    "        for _dec_layer in self.dec_layers:\n",
    "            x_cross = _dec_layer(x_input, x_cross, pad_mask, cross_pad_mask)\n",
    "\n",
    "        x_cross = self.layernorm_final(x_cross)\n",
    "        x_cross = self.vocab_projection(x_cross)\n",
    "\n",
    "        # shape [batch_size, seq_q_len, class_size] --> [batch_size, class_size]\n",
    "        x_cross = x_cross.mean(dim=1)\n",
    "\n",
    "        return x_cross"
   ]
  },
  {
   "cell_type": "markdown",
   "metadata": {},
   "source": [
    "## Prepare Custom Dataset\n",
    "#### Convert data to DatasetDict\n",
    "\n",
    "<small>Only train dataset is used for whole training instead of splitted version. I had 25k variable and was enough for this dummy training.</small>\n",
    "\n",
    "<small> And yes. Me and myself decided in that way :D </small>\n",
    "\n",
    "<small>You can use both ofcourse.</small>"
   ]
  },
  {
   "cell_type": "code",
   "execution_count": 2,
   "metadata": {},
   "outputs": [
    {
     "data": {
      "text/plain": [
       "DatasetDict({\n",
       "    train: Dataset({\n",
       "        features: ['selected_text', 'sentiment'],\n",
       "        num_rows: 21984\n",
       "    })\n",
       "    test: Dataset({\n",
       "        features: ['selected_text', 'sentiment'],\n",
       "        num_rows: 5496\n",
       "    })\n",
       "})"
      ]
     },
     "execution_count": 2,
     "metadata": {},
     "output_type": "execute_result"
    }
   ],
   "source": [
    "df = pd.read_csv('train.csv', encoding='unicode_escape')\n",
    "df = df[['selected_text','sentiment']]\n",
    "df = df.dropna()\n",
    "labels = df['sentiment'].unique().tolist()\n",
    "splitter = StratifiedShuffleSplit(n_splits=1, test_size=0.2, random_state=0)\n",
    "splitter.get_n_splits(df['selected_text'],df['sentiment'])\n",
    "\n",
    "for train_index, test_index in splitter.split(df['selected_text'], df['sentiment']):\n",
    "    train_dataset = DatasetHG.from_pandas(df.iloc[train_index])\n",
    "    train_dataset = train_dataset.remove_columns(['__index_level_0__'])\n",
    "    test_dataset = DatasetHG.from_pandas(df.iloc[test_index])\n",
    "    test_dataset = test_dataset.remove_columns(['__index_level_0__'])\n",
    "    my_dataset_dict = DatasetDict({\"train\":train_dataset,\"test\":test_dataset})\n",
    "my_dataset_dict"
   ]
  },
  {
   "cell_type": "code",
   "execution_count": 3,
   "metadata": {},
   "outputs": [
    {
     "data": {
      "text/plain": [
       "33"
      ]
     },
     "execution_count": 3,
     "metadata": {},
     "output_type": "execute_result"
    }
   ],
   "source": [
    "max_seq = 0\n",
    "for i in ['train','test']:\n",
    "    for j in my_dataset_dict[i][:]['selected_text']:\n",
    "        str_len = len(str(j).split())\n",
    "        if str_len > max_seq:\n",
    "            max_seq = str_len\n",
    "max_seq"
   ]
  },
  {
   "cell_type": "markdown",
   "metadata": {},
   "source": [
    "#### Find max sequence lenght"
   ]
  },
  {
   "cell_type": "code",
   "execution_count": null,
   "metadata": {},
   "outputs": [
    {
     "name": "stderr",
     "output_type": "stream",
     "text": [
      "c:\\Users\\batuhan.yildirim\\AppData\\Local\\anaconda3\\lib\\site-packages\\huggingface_hub\\file_download.py:797: FutureWarning: `resume_download` is deprecated and will be removed in version 1.0.0. Downloads always resume when possible. If you want to force a new download, use `force_download=True`.\n",
      "  warnings.warn(\n",
      "Using bos_token, but it is not set yet.\n",
      "Using eos_token, but it is not set yet.\n"
     ]
    },
    {
     "data": {
      "application/vnd.jupyter.widget-view+json": {
       "model_id": "1efe3408b801473e9b18292bec266acd",
       "version_major": 2,
       "version_minor": 0
      },
      "text/plain": [
       "Map:   0%|          | 0/21984 [00:00<?, ? examples/s]"
      ]
     },
     "metadata": {},
     "output_type": "display_data"
    },
    {
     "name": "stderr",
     "output_type": "stream",
     "text": [
      "Using bos_token, but it is not set yet.\n",
      "Using eos_token, but it is not set yet.\n"
     ]
    },
    {
     "data": {
      "application/vnd.jupyter.widget-view+json": {
       "model_id": "bc98d71a1bbe4085a78f77d51161f37f",
       "version_major": 2,
       "version_minor": 0
      },
      "text/plain": [
       "Map:   0%|          | 0/5496 [00:00<?, ? examples/s]"
      ]
     },
     "metadata": {},
     "output_type": "display_data"
    }
   ],
   "source": [
    "source_lang = \"selected_text\"\n",
    "target_lang = \"sentiment\"\n",
    "label_encoder = preprocessing.LabelEncoder()\n",
    "\n",
    "def preprocess_function(examples,max_seq):\n",
    "    inputs = []\n",
    "    for example in examples[source_lang]:\n",
    "        inputs.append(str(example))\n",
    "    target = label_encoder.fit_transform(examples[target_lang])\n",
    "    targets = [int(example) for example in target]\n",
    "    # max size of sentence or avg\n",
    "    model_inputs = tokenizer(inputs, padding=\"max_length\", max_length=max_seq, truncation=True, return_tensors='pt')\n",
    "    model_inputs['labels'] = torch.tensor(targets, dtype=torch.int8)\n",
    "    return model_inputs\n",
    "\n",
    "\n",
    "tokenizer = AutoTokenizer.from_pretrained('bert-base-uncased')\n",
    "tokenized_datasets = my_dataset_dict.map(lambda : examples, preprocess_function(examples,max_seq=max_seq), batched=True)"
   ]
  },
  {
   "cell_type": "markdown",
   "metadata": {},
   "source": [
    "#### Clustering For Cross Attention\n",
    "\n",
    "- For cross atteion, a theme, a sencence is needed. According to Elbow method, 13 clusters is feasable."
   ]
  },
  {
   "cell_type": "code",
   "execution_count": null,
   "metadata": {},
   "outputs": [
    {
     "name": "stdout",
     "output_type": "stream",
     "text": [
      "{0: 'amazing is so glad', 1: 'day', 2: 'love me some home', 3: 'bed hows ur day', 4: 'soooo sorry we love', 5: 'ready for a good', 6: 'happy with my day', 7: 'good to be back', 8: 'time of the morning', 9: 'day to your mom', 10: 'days with my friends', 11: 'day so far hope', 12: 'ready for dc tomorrow'}\n"
     ]
    },
    {
     "data": {
      "application/vnd.jupyter.widget-view+json": {
       "model_id": "8c4b4cc18a614ec58c4afce14999dd75",
       "version_major": 2,
       "version_minor": 0
      },
      "text/plain": [
       "Map:   0%|          | 0/21984 [00:00<?, ? examples/s]"
      ]
     },
     "metadata": {},
     "output_type": "display_data"
    },
    {
     "data": {
      "application/vnd.jupyter.widget-view+json": {
       "model_id": "dcd31c87ae9a4be09ad6b65a5bb1548e",
       "version_major": 2,
       "version_minor": 0
      },
      "text/plain": [
       "Map:   0%|          | 0/5496 [00:00<?, ? examples/s]"
      ]
     },
     "metadata": {},
     "output_type": "display_data"
    }
   ],
   "source": [
    "K = 13\n",
    "\n",
    "X = tokenized_datasets['train'][:]['input_ids'] + tokenized_datasets['test'][:]['input_ids']\n",
    "X_text = tokenized_datasets['train'][:]['selected_text'] + tokenized_datasets['test'][:]['selected_text']\n",
    "\n",
    "clustering = KMeans(n_clusters=K, random_state=42).fit(X)\n",
    "\n",
    "cluster_texts = defaultdict(list)\n",
    "for label, text in zip(clustering.labels_, X_text):\n",
    "    cluster_texts[label].append(text)\n",
    "\n",
    "used_keywords = set()\n",
    "kw_extractor = yake.KeywordExtractor(lan='en', n=4,  top=20, features=None)\n",
    "cluster_keywords = {}\n",
    "for cluster, texts in cluster_texts.items():\n",
    "    combined_text = ' '.join(str(t) for t in texts)\n",
    "\n",
    "    keywords = [kw[0].lower() for kw in kw_extractor.extract_keywords(combined_text)]\n",
    "\n",
    "    for keyword in keywords:\n",
    "        if keyword not in used_keywords:\n",
    "            cluster_keywords[cluster] = keyword\n",
    "            used_keywords.add(keyword)\n",
    "            break\n",
    "        else:\n",
    "            cluster_keywords[cluster] = f\"Cluster_{cluster}\"\n",
    "\n",
    "cluster_keywords = dict(sorted(cluster_keywords.items()))\n",
    "print(cluster_keywords)\n",
    "\n",
    "# Assing Labels to Dataset\n",
    "def assign_cluster_labels(examples, labels):\n",
    "    token_res = tokenizer(cluster_keywords[labels], padding=\"max_length\", max_length=33, truncation=True, return_tensors='pt')\n",
    "    return {'cluster_labels': cluster_keywords[labels],\n",
    "            'cluster_ids': token_res['input_ids'].squeeze(0),\n",
    "            'cluster_mask': token_res['attention_mask'].squeeze(0)}\n",
    "\n",
    "\n",
    "train_size = len(tokenized_datasets['train'])\n",
    "train_labels = clustering.labels_[:train_size]\n",
    "test_labels = clustering.labels_[train_size:]\n",
    "\n",
    "tokenized_datasets['train'] = tokenized_datasets['train'].map(\n",
    "    lambda examples, idx: assign_cluster_labels(examples, train_labels[idx]),\n",
    "    with_indices=True\n",
    ")\n",
    "tokenized_datasets['test'] = tokenized_datasets['test'].map(\n",
    "    lambda examples, idx: assign_cluster_labels(examples, test_labels[idx]),\n",
    "    with_indices=True)"
   ]
  },
  {
   "cell_type": "code",
   "execution_count": 5,
   "metadata": {},
   "outputs": [
    {
     "data": {
      "text/plain": [
       "30522"
      ]
     },
     "execution_count": 5,
     "metadata": {},
     "output_type": "execute_result"
    }
   ],
   "source": [
    "tokenizer.vocab_size"
   ]
  },
  {
   "cell_type": "code",
   "execution_count": 15,
   "metadata": {},
   "outputs": [
    {
     "data": {
      "text/plain": [
       "DatasetDict({\n",
       "    train: Dataset({\n",
       "        features: ['selected_text', 'sentiment', 'input_ids', 'token_type_ids', 'attention_mask', 'labels', 'cluster_labels', 'cluster_ids', 'cluster_mask'],\n",
       "        num_rows: 21984\n",
       "    })\n",
       "    test: Dataset({\n",
       "        features: ['selected_text', 'sentiment', 'input_ids', 'token_type_ids', 'attention_mask', 'labels', 'cluster_labels', 'cluster_ids', 'cluster_mask'],\n",
       "        num_rows: 5496\n",
       "    })\n",
       "})"
      ]
     },
     "execution_count": 15,
     "metadata": {},
     "output_type": "execute_result"
    }
   ],
   "source": [
    "tokenized_datasets"
   ]
  },
  {
   "cell_type": "markdown",
   "metadata": {},
   "source": [
    "### Training and Evaluating Model"
   ]
  },
  {
   "cell_type": "code",
   "execution_count": null,
   "metadata": {},
   "outputs": [],
   "source": [
    "# model, emb, layer, batch\n",
    "params = [\n",
    "            ['BERT',128,2,2048], # Tiny\n",
    "            ['BERT',256,4,1024], # Mini\n",
    "            ['BERT',512,4,512],  # Small\n",
    "            ['BERT',512,8,256],  # Medium\n",
    "            # ['BERT',768,12,32],  # Base\n",
    "            # ['BERT',1024,24,32],  # Large\n",
    "            ['MaskedDecoder',128,2,2048], # Tiny\n",
    "            ['MaskedDecoder',256,4,1024], # Mini\n",
    "            ['MaskedDecoder',512,4,512],  # Small\n",
    "            ['MaskedDecoder',512,8,256],  # Medium\n",
    "            # ['GPT',768,12,32],  # Base\n",
    "            # ['GPT',1024,24,32],  # Large\n",
    "            ['GPT',128,2,2048], # Tiny\n",
    "            ['GPT',256,4,1024], # Mini\n",
    "            ['GPT',512,4,512],  # Small\n",
    "            ['GPT',512,8,256],  # Medium\n",
    "            # ['GPT',768,12,32],  # Base\n",
    "            # ['GPT',1024,24,32],  # Large\n",
    "            ['T5',128,2,2048], # Tiny\n",
    "            ['T5',256,4,1024], # Mini\n",
    "            ['T5',512,4,256],  # Small\n",
    "            ['T5',512,8,128],  # Medium\n",
    "            # ['T5',768,12,8],  # Base\n",
    "            # ['T5',1024,24,32],  # Large\n",
    "        ]\n",
    "# Plot Learning rate curve, epoch loss,"
   ]
  },
  {
   "cell_type": "markdown",
   "metadata": {},
   "source": [
    "### Training process\n",
    "\n",
    "##### Custom Learning Rate Scheduler from\n",
    "\n",
    "In training process, due to model starts to learn in nth epoch, learning rate must be reduced when thraining is continued. The method which suggested in `Attention is all you need` paper are created on the links below.\n",
    "\n",
    "_ScheduledOptim_\n",
    "- https://github.com/jadore801120/attention-is-all-you-need-pytorch/blob/132907dd272e2cc92e3c10e6c4e783a87ff8893d/transformer/Optim.py#L4\n",
    "\n",
    "_NoamOpt_\n",
    "- https://nlp.seas.harvard.edu/2018/04/03/attention.html#hardware-and-schedule\n",
    "\n",
    "I used Noam Optimizaton in this case and didn't complete the ScheduledOptim.\n"
   ]
  },
  {
   "cell_type": "code",
   "execution_count": null,
   "metadata": {},
   "outputs": [],
   "source": [
    "class ScheduledOptim():\n",
    "    '''A simple wrapper class for learning rate scheduling'''\n",
    "\n",
    "    def __init__(self, optimizer, lr_mul, d_model, n_warmup_steps):\n",
    "        self._optimizer = optimizer\n",
    "        self.lr_mul = lr_mul\n",
    "        self.d_model = d_model\n",
    "        self.n_warmup_steps = n_warmup_steps\n",
    "        self.n_steps = 0\n",
    "\n",
    "\n",
    "    def step(self):\n",
    "        \"Step with the inner optimizer\"\n",
    "        self._update_learning_rate()\n",
    "        self._optimizer.step()\n",
    "\n",
    "\n",
    "    def zero_grad(self):\n",
    "        \"Zero out the gradients with the inner optimizer\"\n",
    "        self._optimizer.zero_grad()\n",
    "\n",
    "\n",
    "    def _get_lr_scale(self):\n",
    "        d_model = self.d_model\n",
    "        n_steps, n_warmup_steps = self.n_steps, self.n_warmup_steps\n",
    "        return (d_model ** -0.5) * min(n_steps ** (-0.5), n_steps * n_warmup_steps ** (-1.5))\n",
    "\n",
    "\n",
    "    def _update_learning_rate(self):\n",
    "        ''' Learning rate scheduling per step '''\n",
    "\n",
    "        self.n_steps += 1\n",
    "        lr = self.lr_mul * self._get_lr_scale()\n",
    "\n",
    "        for param_group in self._optimizer.param_groups:\n",
    "            param_group['lr'] = lr\n",
    "\n",
    "# Example Using\n",
    "# ScheduledOptim(optimizer, d_model=d_model, n_warmup_steps=n_warmup_steps)\n",
    "\n",
    "#optimizer = torch.optim.Adam(model.parameters(), lr=0.0001, betas=(0.9, 0.98), eps=1e-9)\n",
    "#get_sch_pot(model,optimizer)\n",
    "\n",
    "\n",
    "class NoamOpt:\n",
    "    \"Optim wrapper that implements rate.\"\n",
    "    def __init__(self, model_size, factor, warmup, optimizer):\n",
    "        self.optimizer = optimizer\n",
    "        self._step = 0\n",
    "        self.warmup = warmup\n",
    "        self.factor = factor\n",
    "        self.model_size = model_size\n",
    "        self._rate = 0\n",
    "\n",
    "    def step(self):\n",
    "        \"Update parameters and rate\"\n",
    "        self._step += 1\n",
    "        rate = self.rate()\n",
    "        for p in self.optimizer.param_groups:\n",
    "            p['lr'] = rate\n",
    "        self._rate = rate\n",
    "        self.optimizer.step()\n",
    "\n",
    "    def zero_grad(self):\n",
    "        \"Zero out the gradients with the inner optimizer\"\n",
    "        self.optimizer.zero_grad()\n",
    "\n",
    "    def rate(self, step = None):\n",
    "        \"Implement `lrate` above\"\n",
    "        if step is None:\n",
    "            step = self._step\n",
    "        return self.factor * \\\n",
    "            (self.model_size ** (-0.5) * min(step ** (-0.5), step * self.warmup ** (-1.5)))\n",
    "\n",
    "    def get_lr(self):\n",
    "        return self.optimizer.param_groups[0]['lr']\n",
    "\n",
    "    def state_dict(self):\n",
    "        return self.optimizer.state_dict()\n",
    "\n",
    "# NoamOpt(d_model, 2, 4000,optimizer)"
   ]
  },
  {
   "cell_type": "markdown",
   "metadata": {},
   "source": [
    "#### Basic Version ( Newer one at under)\n",
    "\n",
    "The basic training. Get input and target, predict result from model which is output, get the loss via output and target, evaluate and repeat the loop.\n",
    "\n",
    "The improve version tries to optimize the training process."
   ]
  },
  {
   "cell_type": "code",
   "execution_count": null,
   "metadata": {},
   "outputs": [],
   "source": [
    "vocab_size = tokenizer.vocab_size\n",
    "target_size = 3\n",
    "num_heads = 8\n",
    "\n",
    "dropout = 0.1\n",
    "device = torch.device('cuda:0' if torch.cuda.is_available() else 'cpu')\n",
    "num_epochs = 150\n",
    "\n",
    "general_loss = []\n",
    "general_lr = []\n",
    "general_gpu_usage = []\n",
    "\n",
    "for param in params:\n",
    "    d_model = param[1]\n",
    "    d_ff = d_model* 4\n",
    "    num_layers = param[2]\n",
    "    batch_size = param[3]\n",
    "\n",
    "    if param[0] == 'GPT':\n",
    "        model = GPT(\n",
    "            vocab_size=vocab_size,\n",
    "            target_size=target_size,\n",
    "            features_dim=d_model,\n",
    "            num_heads=num_heads,\n",
    "            ff_dim=d_ff,\n",
    "            num_encoder_layers=num_layers,\n",
    "            emb_dropout_prob=0.1,\n",
    "            attn_dropout_prob=0.1,\n",
    "            ff_dropout_prob=0.1,\n",
    "            attn_use_bias=False,\n",
    "            ff_use_bias=False,\n",
    "            attn_res='pre',\n",
    "            ff_res='pre',\n",
    "            vocab_projection_bias=False,\n",
    "        ).to(device)\n",
    "\n",
    "    elif param[0] == 'BERT':\n",
    "        model = BERT(\n",
    "            vocab_size=vocab_size,\n",
    "            target_size=target_size,\n",
    "            features_dim=d_model,\n",
    "            num_heads=num_heads,\n",
    "            ff_dim=d_ff,\n",
    "            num_encoder_layers=num_layers,\n",
    "            emb_dropout_prob=0.1,\n",
    "            attn_dropout_prob=0.1,\n",
    "            ff_dropout_prob=0.1,\n",
    "            attn_use_bias=False,\n",
    "            ff_use_bias=False,\n",
    "            attn_res='pre',\n",
    "            ff_res='pre',\n",
    "            vocab_projection_bias=False,\n",
    "        ).to(device)\n",
    "    else:\n",
    "        print('Error ')\n",
    "        break\n",
    "\n",
    "\n",
    "    train_loader = DataLoader(tokenized_datasets['train'], batch_size=batch_size, shuffle=True)\n",
    "    #val_loader = DataLoader(tokenized_datasets['validation'], batch_size=d_model)\n",
    "    test_loader = DataLoader(tokenized_datasets['test'], batch_size=batch_size, shuffle=True)\n",
    "\n",
    "    class_weights = torch.tensor([1.2, 1.0, 1.0])\n",
    "\n",
    "    criterion = nn.CrossEntropyLoss(weight=class_weights).to(device)\n",
    "\n",
    "    optimizer = optim.Adam(model.parameters(), lr=0.001)\n",
    "    scheduler = StepLR(optimizer, step_size=10, gamma=0.5)\n",
    "    #scheduler = ReduceLROnPlateau(optimizer, 'min', patience=2, factor=0.5)\n",
    "\n",
    "    # scheduler = ScheduledOptim(optimizer, d_model=d_model, n_warmup_steps=4000)\n",
    "\n",
    "    print('Params are : ', param)\n",
    "    def train_model(model, train_dataloader, criterion, optimizer, grad_acc=False, accum_iter = 4):\n",
    "        model.train()\n",
    "        epoch_loss = 0\n",
    "        for batch_idx, batch in enumerate(tqdm(train_dataloader)):\n",
    "\n",
    "            src = torch.stack(batch[\"input_ids\"]).transpose(0,1).to(device) # shape --> [batch size,seq len]\n",
    "            trg = batch[\"labels\"].to(device) # shape --> [1, batch size] (batbt, )\n",
    "            pad_mask = torch.stack(batch[\"attention_mask\"]).transpose(0,1).to(device)\n",
    "            # print('src: ',src.shape,'trg: ', trg.shape)\n",
    "            # shape (out) --> [batch size, trg size]\n",
    "\n",
    "            if grad_acc == True: # To apply Gradient Accumulation\n",
    "                # passes and weights update\n",
    "                with torch.set_grad_enabled(True):\n",
    "                    # forward pass\n",
    "                    out = model(src, pad_mask)\n",
    "                    loss = criterion(out, trg)\n",
    "\n",
    "                    # normalize loss to account for batch accumulation\n",
    "                    loss = loss / accum_iter\n",
    "\n",
    "                    # backward pass\n",
    "                    loss.backward()\n",
    "\n",
    "                    # Grading Clipping for Higher Values and fixing None error\n",
    "                    torch.nn.utils.clip_grad_norm_(model.parameters(), max_norm=1.0, norm_type=2.0, error_if_nonfinite=False, foreach=None)\n",
    "\n",
    "                    # weights update\n",
    "                    if (((batch_idx + 1) % accum_iter) == 0) or (batch_idx + 1 == len(train_dataloader)):\n",
    "                        optimizer.step()\n",
    "                        optimizer.zero_grad()\n",
    "\n",
    "                    epoch_loss += loss.detach().cpu()\n",
    "\n",
    "            else:\n",
    "                out = model(src, pad_mask)\n",
    "                #print('out: ',out.shape)\n",
    "                loss = criterion(out, trg)\n",
    "                #print(out, trg)\n",
    "\n",
    "                loss.backward()\n",
    "\n",
    "                optimizer.step()\n",
    "                # Clear the accumulating gradients\n",
    "                optimizer.zero_grad()\n",
    "                epoch_loss += loss.detach().cpu()\n",
    "\n",
    "        return epoch_loss/len(train_dataloader)\n",
    "\n",
    "\n",
    "    def evaluate_model(model, valid_dataloader, criterion):\n",
    "        model.eval()\n",
    "        epoch_loss = 0\n",
    "        with torch.no_grad():\n",
    "            for batch_idx, batch in enumerate(valid_dataloader):\n",
    "\n",
    "                src = torch.stack(batch[\"input_ids\"]).transpose(0,1).to(device) # shape --> [batch size,seq len]\n",
    "                trg = batch[\"labels\"].to(device) # shape --> [batch size]\n",
    "                pad_mask = torch.stack(batch[\"attention_mask\"]).transpose(0,1).to(device)\n",
    "                #print('src: ',src.shape,'trg: ', trg.shape)\n",
    "                # shape (out) --> [batch size, trg size]\n",
    "                out = model(src, pad_mask)\n",
    "                loss = criterion(out, trg)\n",
    "\n",
    "                epoch_loss += loss.detach().cpu()\n",
    "\n",
    "        return epoch_loss/len(valid_dataloader)\n",
    "\n",
    "    patience = 100\n",
    "    best_model = {}\n",
    "    best_epoch = 0\n",
    "    best_loss = 100\n",
    "\n",
    "    epoch_loss = 0\n",
    "\n",
    "    eval_loss_list = []\n",
    "    lr_list = []\n",
    "    all_gpu_usage = []\n",
    "    for epoch in range(num_epochs):\n",
    "\n",
    "        start = time.time()\n",
    "        gc.collect() # Garbage collector\n",
    "        torch.cuda.empty_cache()\n",
    "\n",
    "        epoch_loss = train_model(model, train_loader, criterion, optimizer,grad_acc=True)\n",
    "        eval_loss = evaluate_model(model, test_loader, criterion)\n",
    "        scheduler.step()\n",
    "\n",
    "        gpu_usage = (torch.cuda.mem_get_info()[1] - torch.cuda.mem_get_info()[0])/(1073741824.0)\n",
    "        total_gpu = torch.cuda.mem_get_info()[1]/1073741824.0\n",
    "\n",
    "        # For plotting\n",
    "        eval_loss_list.append(float(eval_loss))\n",
    "        lr_list.append(float(optimizer.param_groups[0]['lr']))\n",
    "        all_gpu_usage.append(float(gpu_usage))\n",
    "\n",
    "        # Add F1-Score Accuracy metric for loss\n",
    "        print(f\" Epoch: {epoch+1}, Train loss: {epoch_loss:.5f}, Eval loss: {eval_loss:.5f}, LR: {optimizer.param_groups[0]['lr']}. Time {time.time() - start:.2f} secs. Total GPU Memory { gpu_usage :.2f}/{total_gpu :.2f}GB\")\n",
    "        # Early stopping\n",
    "        if eval_loss < best_loss:\n",
    "            best_loss = eval_loss\n",
    "            best_model_weights = copy.deepcopy(model.state_dict())  # Deep copy here\n",
    "            patience = 100  # Reset patience counter\n",
    "            torch.save({\n",
    "                'model_state_dict': model.state_dict(),\n",
    "                'optimizer_state_dict': optimizer.state_dict(),\n",
    "                'eval_loss': best_loss,\n",
    "                'epoch_num': epoch,\n",
    "            }, f'{param[0]}-{param[1]}_embs-{param[2]}_layers-{param[3]}_batches-transformer.pt')\n",
    "        else:\n",
    "            patience -= 1\n",
    "            # print(\"patience: \",patience)\n",
    "            # if patience == 0:\n",
    "            #     break\n",
    "    general_loss.append(eval_loss_list)\n",
    "    general_lr.append(lr_list)\n",
    "    general_gpu_usage.append(sum(all_gpu_usage)/ len(all_gpu_usage))\n",
    "    clear_output(wait=True)\n"
   ]
  },
  {
   "cell_type": "markdown",
   "metadata": {},
   "source": [
    "##### Improved Version with\n",
    "- Autocasting and GradScaler\n",
    "- Custom Learning Rate Scheduler from `Attention is All You Need` paper\n",
    "- Constant Seed for potential libraries \n",
    "- Grading Clipping\n",
    "\n",
    "Two of the improvements were in the cells above. I discovered them after applying the basic one ofcourse.\n",
    "\n",
    "I had some problems, which needed some solutions.\n",
    "\n",
    "and here we are."
   ]
  },
  {
   "cell_type": "code",
   "execution_count": null,
   "metadata": {},
   "outputs": [],
   "source": [
    "# model, emb, layer, batch\n",
    "params = [\n",
    "            ['BERT',128,2,2048], # Tiny\n",
    "            ['BERT',256,4,1024], # Mini\n",
    "            ['BERT',512,4,512],  # Small\n",
    "            ['BERT',512,8,256],  # Medium\n",
    "            # ['BERT',768,12,32],  # Base\n",
    "            # ['BERT',1024,24,32],  # Large\n",
    "            ['MaskedDecoder',128,2,2048], # Tiny\n",
    "            ['MaskedDecoder',256,4,1024], # Mini\n",
    "            ['MaskedDecoder',512,4,512],  # Small\n",
    "            ['MaskedDecoder',512,8,256],  # Medium\n",
    "            # ['GPT',768,12,32],  # Base\n",
    "            # ['GPT',1024,24,32],  # Large\n",
    "            ['GPT',128,2,2048], # Tiny\n",
    "            ['GPT',256,4,1024], # Mini\n",
    "            ['GPT',512,4,512],  # Small\n",
    "            ['GPT',512,8,256],  # Medium\n",
    "            # ['GPT',768,12,32],  # Base\n",
    "            # ['GPT',1024,24,32],  # Large\n",
    "            ['T5',128,2,2048], # Tiny\n",
    "            ['T5',256,4,1024], # Mini\n",
    "            ['T5',512,4,256],  # Small\n",
    "            ['T5',512,8,128],  # Medium\n",
    "            # ['T5',768,12,8],  # Base\n",
    "            # ['T5',1024,24,32],  # Large\n",
    "        ]\n",
    "# Plot Learning rate curve, epoch loss,"
   ]
  },
  {
   "cell_type": "code",
   "execution_count": null,
   "metadata": {},
   "outputs": [
    {
     "name": "stdout",
     "output_type": "stream",
     "text": [
      "Params are :  ['GPT', 512, 8, 256]\n"
     ]
    },
    {
     "name": "stderr",
     "output_type": "stream",
     "text": [
      "100%|██████████| 86/86 [00:19<00:00,  4.36it/s]\n"
     ]
    },
    {
     "name": "stdout",
     "output_type": "stream",
     "text": [
      " Epoch: 1, Train loss: 0.32225, Eval loss: 1.05269, LR: 0.0007778174593052024. Time 22.14 secs. Total GPU Memory 4.88/6.00GB Best: True\n"
     ]
    },
    {
     "name": "stderr",
     "output_type": "stream",
     "text": [
      "100%|██████████| 86/86 [00:19<00:00,  4.39it/s]\n"
     ]
    },
    {
     "name": "stdout",
     "output_type": "stream",
     "text": [
      " Epoch: 2, Train loss: 0.23459, Eval loss: 0.85493, LR: 0.0006662522386112826. Time 22.04 secs. Total GPU Memory 5.08/6.00GB Best: True\n"
     ]
    },
    {
     "name": "stderr",
     "output_type": "stream",
     "text": [
      "100%|██████████| 86/86 [00:19<00:00,  4.39it/s]\n"
     ]
    },
    {
     "name": "stdout",
     "output_type": "stream",
     "text": [
      " Epoch: 3, Train loss: 0.21814, Eval loss: 0.86430, LR: 0.0005439926748615558. Time 22.02 secs. Total GPU Memory 5.06/6.00GB Best: False\n"
     ]
    },
    {
     "name": "stderr",
     "output_type": "stream",
     "text": [
      "100%|██████████| 86/86 [00:19<00:00,  4.38it/s]\n"
     ]
    },
    {
     "name": "stdout",
     "output_type": "stream",
     "text": [
      " Epoch: 4, Train loss: 0.21677, Eval loss: 0.88167, LR: 0.0004711114759027557. Time 22.14 secs. Total GPU Memory 5.04/6.00GB Best: False\n"
     ]
    },
    {
     "name": "stderr",
     "output_type": "stream",
     "text": [
      "100%|██████████| 86/86 [00:19<00:00,  4.37it/s]\n"
     ]
    },
    {
     "name": "stdout",
     "output_type": "stream",
     "text": [
      " Epoch: 5, Train loss: 0.22173, Eval loss: 0.83902, LR: 0.0004213749140395263. Time 22.11 secs. Total GPU Memory 5.04/6.00GB Best: True\n"
     ]
    },
    {
     "name": "stderr",
     "output_type": "stream",
     "text": [
      "100%|██████████| 86/86 [00:19<00:00,  4.37it/s]\n"
     ]
    },
    {
     "name": "stdout",
     "output_type": "stream",
     "text": [
      " Epoch: 6, Train loss: 0.21360, Eval loss: 0.82179, LR: 0.0003846609093104149. Time 22.12 secs. Total GPU Memory 5.07/6.00GB Best: True\n"
     ]
    },
    {
     "name": "stderr",
     "output_type": "stream",
     "text": [
      "100%|██████████| 86/86 [00:19<00:00,  4.38it/s]\n"
     ]
    },
    {
     "name": "stdout",
     "output_type": "stream",
     "text": [
      " Epoch: 7, Train loss: 0.20374, Eval loss: 0.75097, LR: 0.00035612680143636867. Time 22.06 secs. Total GPU Memory 5.03/6.00GB Best: True\n"
     ]
    },
    {
     "name": "stderr",
     "output_type": "stream",
     "text": [
      "100%|██████████| 86/86 [00:19<00:00,  4.38it/s]\n"
     ]
    },
    {
     "name": "stdout",
     "output_type": "stream",
     "text": [
      " Epoch: 8, Train loss: 0.19406, Eval loss: 0.75456, LR: 0.0003331261193056413. Time 22.04 secs. Total GPU Memory 5.09/6.00GB Best: False\n"
     ]
    },
    {
     "name": "stderr",
     "output_type": "stream",
     "text": [
      "100%|██████████| 86/86 [00:19<00:00,  4.36it/s]\n"
     ]
    },
    {
     "name": "stdout",
     "output_type": "stream",
     "text": [
      " Epoch: 9, Train loss: 0.19132, Eval loss: 0.72257, LR: 0.0003140743172685038. Time 22.18 secs. Total GPU Memory 5.09/6.00GB Best: True\n"
     ]
    },
    {
     "name": "stderr",
     "output_type": "stream",
     "text": [
      "100%|██████████| 86/86 [00:19<00:00,  4.39it/s]\n"
     ]
    },
    {
     "name": "stdout",
     "output_type": "stream",
     "text": [
      " Epoch: 10, Train loss: 0.18087, Eval loss: 0.72967, LR: 0.00029795705913924765. Time 22.01 secs. Total GPU Memory 5.03/6.00GB Best: False\n"
     ]
    },
    {
     "name": "stderr",
     "output_type": "stream",
     "text": [
      "100%|██████████| 86/86 [00:19<00:00,  4.39it/s]\n"
     ]
    },
    {
     "name": "stdout",
     "output_type": "stream",
     "text": [
      " Epoch: 11, Train loss: 0.17845, Eval loss: 0.70093, LR: 0.00028409090909090913. Time 22.05 secs. Total GPU Memory 5.02/6.00GB Best: True\n"
     ]
    },
    {
     "name": "stderr",
     "output_type": "stream",
     "text": [
      "100%|██████████| 86/86 [00:19<00:00,  4.37it/s]\n"
     ]
    },
    {
     "name": "stdout",
     "output_type": "stream",
     "text": [
      " Epoch: 12, Train loss: 0.17067, Eval loss: 0.69763, LR: 0.0002719963374307779. Time 22.14 secs. Total GPU Memory 5.10/6.00GB Best: True\n"
     ]
    },
    {
     "name": "stderr",
     "output_type": "stream",
     "text": [
      "100%|██████████| 86/86 [00:19<00:00,  4.38it/s]\n"
     ]
    },
    {
     "name": "stdout",
     "output_type": "stream",
     "text": [
      " Epoch: 13, Train loss: 0.16733, Eval loss: 0.66512, LR: 0.0002613256281272159. Time 22.12 secs. Total GPU Memory 5.03/6.00GB Best: True\n"
     ]
    },
    {
     "name": "stderr",
     "output_type": "stream",
     "text": [
      "100%|██████████| 86/86 [00:19<00:00,  4.38it/s]\n"
     ]
    },
    {
     "name": "stdout",
     "output_type": "stream",
     "text": [
      " Epoch: 14, Train loss: 0.16190, Eval loss: 0.64721, LR: 0.00025181967625793135. Time 22.08 secs. Total GPU Memory 5.09/6.00GB Best: True\n"
     ]
    },
    {
     "name": "stderr",
     "output_type": "stream",
     "text": [
      "100%|██████████| 86/86 [00:19<00:00,  4.39it/s]\n"
     ]
    },
    {
     "name": "stdout",
     "output_type": "stream",
     "text": [
      " Epoch: 15, Train loss: 0.15522, Eval loss: 0.65089, LR: 0.00024328092005047592. Time 22.03 secs. Total GPU Memory 5.03/6.00GB Best: False\n"
     ]
    },
    {
     "name": "stderr",
     "output_type": "stream",
     "text": [
      "100%|██████████| 86/86 [00:19<00:00,  4.40it/s]\n"
     ]
    },
    {
     "name": "stdout",
     "output_type": "stream",
     "text": [
      " Epoch: 16, Train loss: 0.14993, Eval loss: 0.62250, LR: 0.00023555573795137785. Time 22.02 secs. Total GPU Memory 5.02/6.00GB Best: True\n"
     ]
    },
    {
     "name": "stderr",
     "output_type": "stream",
     "text": [
      "100%|██████████| 86/86 [00:19<00:00,  4.37it/s]\n"
     ]
    },
    {
     "name": "stdout",
     "output_type": "stream",
     "text": [
      " Epoch: 17, Train loss: 0.15197, Eval loss: 0.59971, LR: 0.00022852263253972835. Time 22.09 secs. Total GPU Memory 5.10/6.00GB Best: True\n"
     ]
    },
    {
     "name": "stderr",
     "output_type": "stream",
     "text": [
      "100%|██████████| 86/86 [00:19<00:00,  4.38it/s]\n"
     ]
    },
    {
     "name": "stdout",
     "output_type": "stream",
     "text": [
      " Epoch: 18, Train loss: 0.14366, Eval loss: 0.59415, LR: 0.00022208407953709425. Time 22.10 secs. Total GPU Memory 5.04/6.00GB Best: True\n"
     ]
    },
    {
     "name": "stderr",
     "output_type": "stream",
     "text": [
      "100%|██████████| 86/86 [00:19<00:00,  4.38it/s]\n"
     ]
    },
    {
     "name": "stdout",
     "output_type": "stream",
     "text": [
      " Epoch: 19, Train loss: 0.14032, Eval loss: 0.56274, LR: 0.00021616076995814834. Time 22.18 secs. Total GPU Memory 5.11/6.00GB Best: True\n"
     ]
    },
    {
     "name": "stderr",
     "output_type": "stream",
     "text": [
      "100%|██████████| 86/86 [00:19<00:00,  4.39it/s]\n"
     ]
    },
    {
     "name": "stdout",
     "output_type": "stream",
     "text": [
      " Epoch: 20, Train loss: 0.14262, Eval loss: 0.58605, LR: 0.00021068745701976316. Time 22.04 secs. Total GPU Memory 5.04/6.00GB Best: False\n"
     ]
    },
    {
     "name": "stderr",
     "output_type": "stream",
     "text": [
      "100%|██████████| 86/86 [00:19<00:00,  4.38it/s]\n"
     ]
    },
    {
     "name": "stdout",
     "output_type": "stream",
     "text": [
      " Epoch: 21, Train loss: 0.13545, Eval loss: 0.56923, LR: 0.00020560990467492781. Time 22.07 secs. Total GPU Memory 5.04/6.00GB Best: False\n"
     ]
    },
    {
     "name": "stderr",
     "output_type": "stream",
     "text": [
      "100%|██████████| 86/86 [00:19<00:00,  4.38it/s]\n"
     ]
    },
    {
     "name": "stdout",
     "output_type": "stream",
     "text": [
      " Epoch: 22, Train loss: 0.13025, Eval loss: 0.54521, LR: 0.00020088260829163285. Time 22.10 secs. Total GPU Memory 5.04/6.00GB Best: True\n"
     ]
    },
    {
     "name": "stderr",
     "output_type": "stream",
     "text": [
      "100%|██████████| 86/86 [00:19<00:00,  4.38it/s]\n"
     ]
    },
    {
     "name": "stdout",
     "output_type": "stream",
     "text": [
      " Epoch: 23, Train loss: 0.12624, Eval loss: 0.54331, LR: 0.00019646706670685358. Time 22.10 secs. Total GPU Memory 5.10/6.00GB Best: True\n"
     ]
    },
    {
     "name": "stderr",
     "output_type": "stream",
     "text": [
      "100%|██████████| 86/86 [00:19<00:00,  4.38it/s]\n"
     ]
    },
    {
     "name": "stdout",
     "output_type": "stream",
     "text": [
      " Epoch: 24, Train loss: 0.12429, Eval loss: 0.53798, LR: 0.00019233045465520744. Time 22.06 secs. Total GPU Memory 5.03/6.00GB Best: True\n"
     ]
    },
    {
     "name": "stderr",
     "output_type": "stream",
     "text": [
      "100%|██████████| 86/86 [00:19<00:00,  4.36it/s]\n"
     ]
    },
    {
     "name": "stdout",
     "output_type": "stream",
     "text": [
      " Epoch: 25, Train loss: 0.11931, Eval loss: 0.52712, LR: 0.0001884445903611023. Time 22.20 secs. Total GPU Memory 5.12/6.00GB Best: True\n"
     ]
    },
    {
     "name": "stderr",
     "output_type": "stream",
     "text": [
      "100%|██████████| 86/86 [00:19<00:00,  4.38it/s]\n"
     ]
    },
    {
     "name": "stdout",
     "output_type": "stream",
     "text": [
      " Epoch: 26, Train loss: 0.12202, Eval loss: 0.52034, LR: 0.00018478512374658833. Time 22.09 secs. Total GPU Memory 5.04/6.00GB Best: True\n"
     ]
    },
    {
     "name": "stderr",
     "output_type": "stream",
     "text": [
      "100%|██████████| 86/86 [00:19<00:00,  4.38it/s]\n"
     ]
    },
    {
     "name": "stdout",
     "output_type": "stream",
     "text": [
      " Epoch: 27, Train loss: 0.11655, Eval loss: 0.50272, LR: 0.0001813308916205186. Time 22.05 secs. Total GPU Memory 5.10/6.00GB Best: True\n"
     ]
    },
    {
     "name": "stderr",
     "output_type": "stream",
     "text": [
      "100%|██████████| 86/86 [00:19<00:00,  4.39it/s]\n"
     ]
    },
    {
     "name": "stdout",
     "output_type": "stream",
     "text": [
      " Epoch: 28, Train loss: 0.11265, Eval loss: 0.52604, LR: 0.00017806340071818434. Time 22.00 secs. Total GPU Memory 5.03/6.00GB Best: False\n"
     ]
    },
    {
     "name": "stderr",
     "output_type": "stream",
     "text": [
      "100%|██████████| 86/86 [00:19<00:00,  4.40it/s]\n"
     ]
    },
    {
     "name": "stdout",
     "output_type": "stream",
     "text": [
      " Epoch: 29, Train loss: 0.11047, Eval loss: 0.53406, LR: 0.0001749664096737045. Time 21.99 secs. Total GPU Memory 5.03/6.00GB Best: False\n"
     ]
    },
    {
     "name": "stderr",
     "output_type": "stream",
     "text": [
      "100%|██████████| 86/86 [00:19<00:00,  4.38it/s]\n"
     ]
    },
    {
     "name": "stdout",
     "output_type": "stream",
     "text": [
      " Epoch: 30, Train loss: 0.11066, Eval loss: 0.50319, LR: 0.00017202558830099388. Time 22.12 secs. Total GPU Memory 5.03/6.00GB Best: False\n"
     ]
    },
    {
     "name": "stderr",
     "output_type": "stream",
     "text": [
      "100%|██████████| 86/86 [00:19<00:00,  4.39it/s]\n"
     ]
    },
    {
     "name": "stdout",
     "output_type": "stream",
     "text": [
      " Epoch: 31, Train loss: 0.10848, Eval loss: 0.52827, LR: 0.00016922823783558825. Time 22.06 secs. Total GPU Memory 5.04/6.00GB Best: False\n"
     ]
    },
    {
     "name": "stderr",
     "output_type": "stream",
     "text": [
      "100%|██████████| 86/86 [00:19<00:00,  4.40it/s]\n"
     ]
    },
    {
     "name": "stdout",
     "output_type": "stream",
     "text": [
      " Epoch: 32, Train loss: 0.10611, Eval loss: 0.48919, LR: 0.00016656305965282066. Time 22.00 secs. Total GPU Memory 5.03/6.00GB Best: True\n"
     ]
    },
    {
     "name": "stderr",
     "output_type": "stream",
     "text": [
      "100%|██████████| 86/86 [00:19<00:00,  4.37it/s]\n"
     ]
    },
    {
     "name": "stdout",
     "output_type": "stream",
     "text": [
      " Epoch: 33, Train loss: 0.10317, Eval loss: 0.50677, LR: 0.0001640199628379619. Time 22.10 secs. Total GPU Memory 5.10/6.00GB Best: False\n"
     ]
    },
    {
     "name": "stderr",
     "output_type": "stream",
     "text": [
      "100%|██████████| 86/86 [00:19<00:00,  4.39it/s]\n"
     ]
    },
    {
     "name": "stdout",
     "output_type": "stream",
     "text": [
      " Epoch: 34, Train loss: 0.10574, Eval loss: 0.48140, LR: 0.0001615899031234435. Time 22.05 secs. Total GPU Memory 5.11/6.00GB Best: True\n"
     ]
    },
    {
     "name": "stderr",
     "output_type": "stream",
     "text": [
      "100%|██████████| 86/86 [00:19<00:00,  4.38it/s]\n"
     ]
    },
    {
     "name": "stdout",
     "output_type": "stream",
     "text": [
      " Epoch: 35, Train loss: 0.10265, Eval loss: 0.51057, LR: 0.00015926474732425803. Time 22.10 secs. Total GPU Memory 5.03/6.00GB Best: False\n"
     ]
    },
    {
     "name": "stderr",
     "output_type": "stream",
     "text": [
      "100%|██████████| 86/86 [00:19<00:00,  4.40it/s]\n"
     ]
    },
    {
     "name": "stdout",
     "output_type": "stream",
     "text": [
      " Epoch: 36, Train loss: 0.10248, Eval loss: 0.48857, LR: 0.0001570371586342519. Time 22.01 secs. Total GPU Memory 5.03/6.00GB Best: False\n"
     ]
    },
    {
     "name": "stderr",
     "output_type": "stream",
     "text": [
      "100%|██████████| 86/86 [00:19<00:00,  4.39it/s]\n"
     ]
    },
    {
     "name": "stdout",
     "output_type": "stream",
     "text": [
      " Epoch: 37, Train loss: 0.09891, Eval loss: 0.47251, LR: 0.00015490049909269057. Time 22.04 secs. Total GPU Memory 5.03/6.00GB Best: True\n"
     ]
    },
    {
     "name": "stderr",
     "output_type": "stream",
     "text": [
      "100%|██████████| 86/86 [00:19<00:00,  4.36it/s]\n"
     ]
    },
    {
     "name": "stdout",
     "output_type": "stream",
     "text": [
      " Epoch: 38, Train loss: 0.09912, Eval loss: 0.48715, LR: 0.00015284874626391205. Time 22.13 secs. Total GPU Memory 5.09/6.00GB Best: False\n"
     ]
    },
    {
     "name": "stderr",
     "output_type": "stream",
     "text": [
      "100%|██████████| 86/86 [00:19<00:00,  4.37it/s]\n"
     ]
    },
    {
     "name": "stdout",
     "output_type": "stream",
     "text": [
      " Epoch: 39, Train loss: 0.09724, Eval loss: 0.47852, LR: 0.00015087642174539613. Time 22.12 secs. Total GPU Memory 5.10/6.00GB Best: False\n"
     ]
    },
    {
     "name": "stderr",
     "output_type": "stream",
     "text": [
      "100%|██████████| 86/86 [00:19<00:00,  4.38it/s]\n"
     ]
    },
    {
     "name": "stdout",
     "output_type": "stream",
     "text": [
      " Epoch: 40, Train loss: 0.09431, Eval loss: 0.49330, LR: 0.00014897852956962383. Time 22.03 secs. Total GPU Memory 5.10/6.00GB Best: False\n"
     ]
    },
    {
     "name": "stderr",
     "output_type": "stream",
     "text": [
      "100%|██████████| 86/86 [00:19<00:00,  4.38it/s]\n"
     ]
    },
    {
     "name": "stdout",
     "output_type": "stream",
     "text": [
      " Epoch: 41, Train loss: 0.09386, Eval loss: 0.49709, LR: 0.0001471505029212535. Time 22.13 secs. Total GPU Memory 5.10/6.00GB Best: False\n"
     ]
    },
    {
     "name": "stderr",
     "output_type": "stream",
     "text": [
      "100%|██████████| 86/86 [00:19<00:00,  4.39it/s]\n"
     ]
    },
    {
     "name": "stdout",
     "output_type": "stream",
     "text": [
      " Epoch: 42, Train loss: 0.09478, Eval loss: 0.52614, LR: 0.00014538815787476107. Time 22.01 secs. Total GPU Memory 5.10/6.00GB Best: False\n"
     ]
    },
    {
     "name": "stderr",
     "output_type": "stream",
     "text": [
      "100%|██████████| 86/86 [00:19<00:00,  4.40it/s]\n"
     ]
    },
    {
     "name": "stdout",
     "output_type": "stream",
     "text": [
      " Epoch: 43, Train loss: 0.09129, Eval loss: 0.45953, LR: 0.00014368765308490718. Time 22.05 secs. Total GPU Memory 5.10/6.00GB Best: True\n"
     ]
    },
    {
     "name": "stderr",
     "output_type": "stream",
     "text": [
      "100%|██████████| 86/86 [00:19<00:00,  4.38it/s]\n"
     ]
    },
    {
     "name": "stdout",
     "output_type": "stream",
     "text": [
      " Epoch: 44, Train loss: 0.09050, Eval loss: 0.49243, LR: 0.00014204545454545457. Time 22.12 secs. Total GPU Memory 5.04/6.00GB Best: False\n"
     ]
    },
    {
     "name": "stderr",
     "output_type": "stream",
     "text": [
      "100%|██████████| 86/86 [00:19<00:00,  4.39it/s]\n"
     ]
    },
    {
     "name": "stdout",
     "output_type": "stream",
     "text": [
      " Epoch: 45, Train loss: 0.08897, Eval loss: 0.46080, LR: 0.0001404583046798421. Time 22.05 secs. Total GPU Memory 5.03/6.00GB Best: False\n"
     ]
    },
    {
     "name": "stderr",
     "output_type": "stream",
     "text": [
      "100%|██████████| 86/86 [00:19<00:00,  4.39it/s]\n"
     ]
    },
    {
     "name": "stdout",
     "output_type": "stream",
     "text": [
      " Epoch: 46, Train loss: 0.08757, Eval loss: 0.48322, LR: 0.00013892319514824595. Time 22.04 secs. Total GPU Memory 5.02/6.00GB Best: False\n"
     ]
    },
    {
     "name": "stderr",
     "output_type": "stream",
     "text": [
      "100%|██████████| 86/86 [00:19<00:00,  4.37it/s]\n"
     ]
    },
    {
     "name": "stdout",
     "output_type": "stream",
     "text": [
      " Epoch: 47, Train loss: 0.08564, Eval loss: 0.50251, LR: 0.00013743734285423206. Time 22.26 secs. Total GPU Memory 5.01/6.00GB Best: False\n"
     ]
    },
    {
     "name": "stderr",
     "output_type": "stream",
     "text": [
      "100%|██████████| 86/86 [00:19<00:00,  4.36it/s]\n"
     ]
    },
    {
     "name": "stdout",
     "output_type": "stream",
     "text": [
      " Epoch: 48, Train loss: 0.08699, Eval loss: 0.48051, LR: 0.00013599816871538896. Time 22.15 secs. Total GPU Memory 5.01/6.00GB Best: False\n"
     ]
    },
    {
     "name": "stderr",
     "output_type": "stream",
     "text": [
      "100%|██████████| 86/86 [00:19<00:00,  4.37it/s]\n"
     ]
    },
    {
     "name": "stdout",
     "output_type": "stream",
     "text": [
      " Epoch: 49, Train loss: 0.08555, Eval loss: 0.48221, LR: 0.00013460327882935878. Time 22.13 secs. Total GPU Memory 5.02/6.00GB Best: False\n"
     ]
    },
    {
     "name": "stderr",
     "output_type": "stream",
     "text": [
      "100%|██████████| 86/86 [00:19<00:00,  4.39it/s]\n"
     ]
    },
    {
     "name": "stdout",
     "output_type": "stream",
     "text": [
      " Epoch: 50, Train loss: 0.08457, Eval loss: 0.48001, LR: 0.00013325044772225653. Time 22.03 secs. Total GPU Memory 5.02/6.00GB Best: False\n"
     ]
    },
    {
     "name": "stderr",
     "output_type": "stream",
     "text": [
      "100%|██████████| 86/86 [00:19<00:00,  4.39it/s]\n"
     ]
    },
    {
     "name": "stdout",
     "output_type": "stream",
     "text": [
      " Epoch: 51, Train loss: 0.08247, Eval loss: 0.45736, LR: 0.00013193760341273408. Time 22.17 secs. Total GPU Memory 5.01/6.00GB Best: True\n"
     ]
    },
    {
     "name": "stderr",
     "output_type": "stream",
     "text": [
      "100%|██████████| 86/86 [00:19<00:00,  4.39it/s]\n"
     ]
    },
    {
     "name": "stdout",
     "output_type": "stream",
     "text": [
      " Epoch: 52, Train loss: 0.08272, Eval loss: 0.48959, LR: 0.00013066281406360795. Time 22.02 secs. Total GPU Memory 5.08/6.00GB Best: False\n"
     ]
    },
    {
     "name": "stderr",
     "output_type": "stream",
     "text": [
      "100%|██████████| 86/86 [00:19<00:00,  4.39it/s]\n"
     ]
    },
    {
     "name": "stdout",
     "output_type": "stream",
     "text": [
      " Epoch: 53, Train loss: 0.08266, Eval loss: 0.50178, LR: 0.0001294242760254035. Time 22.00 secs. Total GPU Memory 5.08/6.00GB Best: False\n"
     ]
    },
    {
     "name": "stderr",
     "output_type": "stream",
     "text": [
      "100%|██████████| 86/86 [00:19<00:00,  4.38it/s]\n"
     ]
    },
    {
     "name": "stdout",
     "output_type": "stream",
     "text": [
      " Epoch: 54, Train loss: 0.08065, Eval loss: 0.50252, LR: 0.00012822030310347162. Time 22.05 secs. Total GPU Memory 5.07/6.00GB Best: False\n"
     ]
    },
    {
     "name": "stderr",
     "output_type": "stream",
     "text": [
      "100%|██████████| 86/86 [00:19<00:00,  4.38it/s]\n"
     ]
    },
    {
     "name": "stdout",
     "output_type": "stream",
     "text": [
      " Epoch: 55, Train loss: 0.08238, Eval loss: 0.50170, LR: 0.00012704931690339714. Time 22.11 secs. Total GPU Memory 5.08/6.00GB Best: False\n"
     ]
    },
    {
     "name": "stderr",
     "output_type": "stream",
     "text": [
      "100%|██████████| 86/86 [00:19<00:00,  4.37it/s]\n"
     ]
    },
    {
     "name": "stdout",
     "output_type": "stream",
     "text": [
      " Epoch: 56, Train loss: 0.07964, Eval loss: 0.49213, LR: 0.00012590983812896567. Time 22.09 secs. Total GPU Memory 5.09/6.00GB Best: False\n"
     ]
    },
    {
     "name": "stderr",
     "output_type": "stream",
     "text": [
      "100%|██████████| 86/86 [00:19<00:00,  4.35it/s]\n"
     ]
    },
    {
     "name": "stdout",
     "output_type": "stream",
     "text": [
      " Epoch: 57, Train loss: 0.07848, Eval loss: 0.50176, LR: 0.00012480047872357372. Time 22.20 secs. Total GPU Memory 5.09/6.00GB Best: False\n"
     ]
    },
    {
     "name": "stderr",
     "output_type": "stream",
     "text": [
      "100%|██████████| 86/86 [00:19<00:00,  4.36it/s]\n"
     ]
    },
    {
     "name": "stdout",
     "output_type": "stream",
     "text": [
      " Epoch: 58, Train loss: 0.07666, Eval loss: 0.48328, LR: 0.00012371993476013998. Time 22.15 secs. Total GPU Memory 5.09/6.00GB Best: False\n"
     ]
    },
    {
     "name": "stderr",
     "output_type": "stream",
     "text": [
      "100%|██████████| 86/86 [00:19<00:00,  4.37it/s]\n"
     ]
    },
    {
     "name": "stdout",
     "output_type": "stream",
     "text": [
      " Epoch: 59, Train loss: 0.07751, Eval loss: 0.50850, LR: 0.00012266697999669684. Time 22.14 secs. Total GPU Memory 5.11/6.00GB Best: False\n"
     ]
    },
    {
     "name": "stderr",
     "output_type": "stream",
     "text": [
      "100%|██████████| 86/86 [00:19<00:00,  4.37it/s]\n"
     ]
    },
    {
     "name": "stdout",
     "output_type": "stream",
     "text": [
      " Epoch: 60, Train loss: 0.07599, Eval loss: 0.49810, LR: 0.00012164046002523796. Time 22.11 secs. Total GPU Memory 5.09/6.00GB Best: False\n"
     ]
    },
    {
     "name": "stderr",
     "output_type": "stream",
     "text": [
      "100%|██████████| 86/86 [00:19<00:00,  4.36it/s]\n"
     ]
    },
    {
     "name": "stdout",
     "output_type": "stream",
     "text": [
      " Epoch: 61, Train loss: 0.07463, Eval loss: 0.51528, LR: 0.00012063928695034111. Time 22.16 secs. Total GPU Memory 5.12/6.00GB Best: False\n"
     ]
    },
    {
     "name": "stderr",
     "output_type": "stream",
     "text": [
      "100%|██████████| 86/86 [00:19<00:00,  4.37it/s]\n"
     ]
    },
    {
     "name": "stdout",
     "output_type": "stream",
     "text": [
      " Epoch: 62, Train loss: 0.07491, Eval loss: 0.49370, LR: 0.00011966243454179433. Time 22.22 secs. Total GPU Memory 5.08/6.00GB Best: False\n"
     ]
    },
    {
     "name": "stderr",
     "output_type": "stream",
     "text": [
      "100%|██████████| 86/86 [00:19<00:00,  4.38it/s]\n"
     ]
    },
    {
     "name": "stdout",
     "output_type": "stream",
     "text": [
      " Epoch: 63, Train loss: 0.07452, Eval loss: 0.48986, LR: 0.00011870893381212287. Time 22.05 secs. Total GPU Memory 5.08/6.00GB Best: False\n"
     ]
    },
    {
     "name": "stderr",
     "output_type": "stream",
     "text": [
      "100%|██████████| 86/86 [00:19<00:00,  4.39it/s]\n"
     ]
    },
    {
     "name": "stdout",
     "output_type": "stream",
     "text": [
      " Epoch: 64, Train loss: 0.07386, Eval loss: 0.50565, LR: 0.00011777786897568893. Time 22.01 secs. Total GPU Memory 5.06/6.00GB Best: False\n"
     ]
    },
    {
     "name": "stderr",
     "output_type": "stream",
     "text": [
      "100%|██████████| 86/86 [00:19<00:00,  4.39it/s]\n"
     ]
    },
    {
     "name": "stdout",
     "output_type": "stream",
     "text": [
      " Epoch: 65, Train loss: 0.07316, Eval loss: 0.48570, LR: 0.00011686837375105716. Time 22.05 secs. Total GPU Memory 5.09/6.00GB Best: False\n"
     ]
    },
    {
     "name": "stderr",
     "output_type": "stream",
     "text": [
      "100%|██████████| 86/86 [00:19<00:00,  4.40it/s]\n"
     ]
    },
    {
     "name": "stdout",
     "output_type": "stream",
     "text": [
      " Epoch: 66, Train loss: 0.07254, Eval loss: 0.47895, LR: 0.00011597962797268837. Time 22.01 secs. Total GPU Memory 5.09/6.00GB Best: False\n"
     ]
    },
    {
     "name": "stderr",
     "output_type": "stream",
     "text": [
      "100%|██████████| 86/86 [00:19<00:00,  4.38it/s]\n"
     ]
    },
    {
     "name": "stdout",
     "output_type": "stream",
     "text": [
      " Epoch: 67, Train loss: 0.07157, Eval loss: 0.47563, LR: 0.0001151108544818371. Time 22.10 secs. Total GPU Memory 5.08/6.00GB Best: False\n"
     ]
    },
    {
     "name": "stderr",
     "output_type": "stream",
     "text": [
      "100%|██████████| 86/86 [00:19<00:00,  4.37it/s]\n"
     ]
    },
    {
     "name": "stdout",
     "output_type": "stream",
     "text": [
      " Epoch: 68, Train loss: 0.07121, Eval loss: 0.50669, LR: 0.00011426131626986418. Time 22.13 secs. Total GPU Memory 5.07/6.00GB Best: False\n"
     ]
    },
    {
     "name": "stderr",
     "output_type": "stream",
     "text": [
      "100%|██████████| 86/86 [00:19<00:00,  4.37it/s]\n"
     ]
    },
    {
     "name": "stdout",
     "output_type": "stream",
     "text": [
      " Epoch: 69, Train loss: 0.07014, Eval loss: 0.50374, LR: 0.00011343031385009811. Time 22.13 secs. Total GPU Memory 5.08/6.00GB Best: False\n"
     ]
    },
    {
     "name": "stderr",
     "output_type": "stream",
     "text": [
      "100%|██████████| 86/86 [00:19<00:00,  4.38it/s]\n"
     ]
    },
    {
     "name": "stdout",
     "output_type": "stream",
     "text": [
      " Epoch: 70, Train loss: 0.06891, Eval loss: 0.51822, LR: 0.00011261718283694488. Time 22.16 secs. Total GPU Memory 5.08/6.00GB Best: False\n"
     ]
    },
    {
     "name": "stderr",
     "output_type": "stream",
     "text": [
      "100%|██████████| 86/86 [00:19<00:00,  4.38it/s]\n"
     ]
    },
    {
     "name": "stdout",
     "output_type": "stream",
     "text": [
      " Epoch: 71, Train loss: 0.06863, Eval loss: 0.50350, LR: 0.0001118212917132052. Time 22.06 secs. Total GPU Memory 5.08/6.00GB Best: False\n"
     ]
    },
    {
     "name": "stderr",
     "output_type": "stream",
     "text": [
      "100%|██████████| 86/86 [00:19<00:00,  4.37it/s]\n"
     ]
    },
    {
     "name": "stdout",
     "output_type": "stream",
     "text": [
      " Epoch: 72, Train loss: 0.06725, Eval loss: 0.51771, LR: 0.00011104203976854712. Time 22.15 secs. Total GPU Memory 5.09/6.00GB Best: False\n"
     ]
    },
    {
     "name": "stderr",
     "output_type": "stream",
     "text": [
      "100%|██████████| 86/86 [00:19<00:00,  4.36it/s]\n"
     ]
    },
    {
     "name": "stdout",
     "output_type": "stream",
     "text": [
      " Epoch: 73, Train loss: 0.06985, Eval loss: 0.52875, LR: 0.00011027885519384149. Time 22.24 secs. Total GPU Memory 5.09/6.00GB Best: False\n"
     ]
    },
    {
     "name": "stderr",
     "output_type": "stream",
     "text": [
      "100%|██████████| 86/86 [00:19<00:00,  4.39it/s]\n"
     ]
    },
    {
     "name": "stdout",
     "output_type": "stream",
     "text": [
      " Epoch: 74, Train loss: 0.06879, Eval loss: 0.48396, LR: 0.00010953119331762213. Time 22.03 secs. Total GPU Memory 5.10/6.00GB Best: False\n"
     ]
    },
    {
     "name": "stderr",
     "output_type": "stream",
     "text": [
      "100%|██████████| 86/86 [00:19<00:00,  4.38it/s]\n"
     ]
    },
    {
     "name": "stdout",
     "output_type": "stream",
     "text": [
      " Epoch: 75, Train loss: 0.06756, Eval loss: 0.55343, LR: 0.00010879853497231114. Time 22.13 secs. Total GPU Memory 5.09/6.00GB Best: False\n"
     ]
    },
    {
     "name": "stderr",
     "output_type": "stream",
     "text": [
      "100%|██████████| 86/86 [00:19<00:00,  4.36it/s]\n"
     ]
    },
    {
     "name": "stdout",
     "output_type": "stream",
     "text": [
      " Epoch: 76, Train loss: 0.06716, Eval loss: 0.51992, LR: 0.00010808038497907417. Time 22.19 secs. Total GPU Memory 5.08/6.00GB Best: False\n"
     ]
    },
    {
     "name": "stderr",
     "output_type": "stream",
     "text": [
      "100%|██████████| 86/86 [00:19<00:00,  4.38it/s]\n"
     ]
    },
    {
     "name": "stdout",
     "output_type": "stream",
     "text": [
      " Epoch: 77, Train loss: 0.06585, Eval loss: 0.51464, LR: 0.00010737627074125777. Time 22.17 secs. Total GPU Memory 5.10/6.00GB Best: False\n"
     ]
    },
    {
     "name": "stderr",
     "output_type": "stream",
     "text": [
      "100%|██████████| 86/86 [00:19<00:00,  4.37it/s]\n"
     ]
    },
    {
     "name": "stdout",
     "output_type": "stream",
     "text": [
      " Epoch: 78, Train loss: 0.06500, Eval loss: 0.47374, LR: 0.0001066857409373311. Time 22.12 secs. Total GPU Memory 5.08/6.00GB Best: False\n"
     ]
    },
    {
     "name": "stderr",
     "output_type": "stream",
     "text": [
      "100%|██████████| 86/86 [00:19<00:00,  4.37it/s]\n"
     ]
    },
    {
     "name": "stdout",
     "output_type": "stream",
     "text": [
      " Epoch: 79, Train loss: 0.06499, Eval loss: 0.48049, LR: 0.00010600836430511851. Time 22.12 secs. Total GPU Memory 5.09/6.00GB Best: False\n"
     ]
    },
    {
     "name": "stderr",
     "output_type": "stream",
     "text": [
      "100%|██████████| 86/86 [00:19<00:00,  4.38it/s]\n"
     ]
    },
    {
     "name": "stdout",
     "output_type": "stream",
     "text": [
      " Epoch: 80, Train loss: 0.06315, Eval loss: 0.52373, LR: 0.00010534372850988158. Time 22.11 secs. Total GPU Memory 5.09/6.00GB Best: False\n"
     ]
    },
    {
     "name": "stderr",
     "output_type": "stream",
     "text": [
      "100%|██████████| 86/86 [00:19<00:00,  4.38it/s]\n"
     ]
    },
    {
     "name": "stdout",
     "output_type": "stream",
     "text": [
      " Epoch: 81, Train loss: 0.06332, Eval loss: 0.50849, LR: 0.00010469143908950127. Time 22.11 secs. Total GPU Memory 5.08/6.00GB Best: False\n"
     ]
    },
    {
     "name": "stderr",
     "output_type": "stream",
     "text": [
      "100%|██████████| 86/86 [00:19<00:00,  4.38it/s]\n"
     ]
    },
    {
     "name": "stdout",
     "output_type": "stream",
     "text": [
      " Epoch: 82, Train loss: 0.06564, Eval loss: 0.49652, LR: 0.0001040511184706292. Time 22.11 secs. Total GPU Memory 5.10/6.00GB Best: False\n"
     ]
    },
    {
     "name": "stderr",
     "output_type": "stream",
     "text": [
      "100%|██████████| 86/86 [00:19<00:00,  4.37it/s]\n"
     ]
    },
    {
     "name": "stdout",
     "output_type": "stream",
     "text": [
      " Epoch: 83, Train loss: 0.06296, Eval loss: 0.50252, LR: 0.00010342240505023363. Time 22.13 secs. Total GPU Memory 5.10/6.00GB Best: False\n"
     ]
    },
    {
     "name": "stderr",
     "output_type": "stream",
     "text": [
      "100%|██████████| 86/86 [00:19<00:00,  4.37it/s]\n"
     ]
    },
    {
     "name": "stdout",
     "output_type": "stream",
     "text": [
      " Epoch: 84, Train loss: 0.06371, Eval loss: 0.51531, LR: 0.00010280495233746391. Time 22.12 secs. Total GPU Memory 5.10/6.00GB Best: False\n"
     ]
    },
    {
     "name": "stderr",
     "output_type": "stream",
     "text": [
      "100%|██████████| 86/86 [00:19<00:00,  4.36it/s]\n"
     ]
    },
    {
     "name": "stdout",
     "output_type": "stream",
     "text": [
      " Epoch: 85, Train loss: 0.06229, Eval loss: 0.53604, LR: 0.00010219842815120759. Time 22.21 secs. Total GPU Memory 5.09/6.00GB Best: False\n"
     ]
    },
    {
     "name": "stderr",
     "output_type": "stream",
     "text": [
      "100%|██████████| 86/86 [00:20<00:00,  4.29it/s]\n"
     ]
    },
    {
     "name": "stdout",
     "output_type": "stream",
     "text": [
      " Epoch: 86, Train loss: 0.06318, Eval loss: 0.50150, LR: 0.000101602513869118. Time 22.55 secs. Total GPU Memory 5.08/6.00GB Best: False\n"
     ]
    },
    {
     "name": "stderr",
     "output_type": "stream",
     "text": [
      "100%|██████████| 86/86 [00:19<00:00,  4.37it/s]\n"
     ]
    },
    {
     "name": "stdout",
     "output_type": "stream",
     "text": [
      " Epoch: 87, Train loss: 0.06124, Eval loss: 0.50375, LR: 0.00010101690372425561. Time 22.16 secs. Total GPU Memory 5.09/6.00GB Best: False\n"
     ]
    },
    {
     "name": "stderr",
     "output_type": "stream",
     "text": [
      "100%|██████████| 86/86 [00:19<00:00,  4.38it/s]\n"
     ]
    },
    {
     "name": "stdout",
     "output_type": "stream",
     "text": [
      " Epoch: 88, Train loss: 0.06129, Eval loss: 0.53220, LR: 0.00010044130414581642. Time 22.13 secs. Total GPU Memory 5.09/6.00GB Best: False\n"
     ]
    },
    {
     "name": "stderr",
     "output_type": "stream",
     "text": [
      "100%|██████████| 86/86 [00:19<00:00,  4.38it/s]\n"
     ]
    },
    {
     "name": "stdout",
     "output_type": "stream",
     "text": [
      " Epoch: 89, Train loss: 0.06150, Eval loss: 0.55360, LR: 9.987543314071768e-05. Time 22.18 secs. Total GPU Memory 5.09/6.00GB Best: False\n"
     ]
    },
    {
     "name": "stderr",
     "output_type": "stream",
     "text": [
      "100%|██████████| 86/86 [00:19<00:00,  4.38it/s]\n"
     ]
    },
    {
     "name": "stdout",
     "output_type": "stream",
     "text": [
      " Epoch: 90, Train loss: 0.06212, Eval loss: 0.52486, LR: 9.931901971308255e-05. Time 22.11 secs. Total GPU Memory 5.09/6.00GB Best: False\n"
     ]
    },
    {
     "name": "stderr",
     "output_type": "stream",
     "text": [
      "100%|██████████| 86/86 [00:19<00:00,  4.37it/s]\n"
     ]
    },
    {
     "name": "stdout",
     "output_type": "stream",
     "text": [
      " Epoch: 91, Train loss: 0.05984, Eval loss: 0.53761, LR: 9.877180331890844e-05. Time 22.15 secs. Total GPU Memory 5.09/6.00GB Best: False\n"
     ]
    },
    {
     "name": "stderr",
     "output_type": "stream",
     "text": [
      "100%|██████████| 86/86 [00:19<00:00,  4.36it/s]\n"
     ]
    },
    {
     "name": "stdout",
     "output_type": "stream",
     "text": [
      " Epoch: 92, Train loss: 0.06326, Eval loss: 0.54496, LR: 9.823353335342679e-05. Time 22.18 secs. Total GPU Memory 5.09/6.00GB Best: False\n"
     ]
    },
    {
     "name": "stderr",
     "output_type": "stream",
     "text": [
      "100%|██████████| 86/86 [00:19<00:00,  4.37it/s]\n"
     ]
    },
    {
     "name": "stdout",
     "output_type": "stream",
     "text": [
      " Epoch: 93, Train loss: 0.05915, Eval loss: 0.51550, LR: 9.770396866886288e-05. Time 22.11 secs. Total GPU Memory 5.09/6.00GB Best: False\n"
     ]
    },
    {
     "name": "stderr",
     "output_type": "stream",
     "text": [
      "100%|██████████| 86/86 [00:19<00:00,  4.39it/s]\n"
     ]
    },
    {
     "name": "stdout",
     "output_type": "stream",
     "text": [
      " Epoch: 94, Train loss: 0.06014, Eval loss: 0.51060, LR: 9.718287712048797e-05. Time 22.05 secs. Total GPU Memory 5.09/6.00GB Best: False\n"
     ]
    },
    {
     "name": "stderr",
     "output_type": "stream",
     "text": [
      "100%|██████████| 86/86 [00:19<00:00,  4.36it/s]\n"
     ]
    },
    {
     "name": "stdout",
     "output_type": "stream",
     "text": [
      " Epoch: 95, Train loss: 0.05835, Eval loss: 0.53555, LR: 9.667003513902283e-05. Time 22.16 secs. Total GPU Memory 5.09/6.00GB Best: False\n"
     ]
    },
    {
     "name": "stderr",
     "output_type": "stream",
     "text": [
      "100%|██████████| 86/86 [00:19<00:00,  4.38it/s]\n"
     ]
    },
    {
     "name": "stdout",
     "output_type": "stream",
     "text": [
      " Epoch: 96, Train loss: 0.05877, Eval loss: 0.52420, LR: 9.616522732760372e-05. Time 22.08 secs. Total GPU Memory 5.09/6.00GB Best: False\n"
     ]
    },
    {
     "name": "stderr",
     "output_type": "stream",
     "text": [
      "100%|██████████| 86/86 [00:19<00:00,  4.38it/s]\n"
     ]
    },
    {
     "name": "stdout",
     "output_type": "stream",
     "text": [
      " Epoch: 97, Train loss: 0.05831, Eval loss: 0.54557, LR: 9.56682460816605e-05. Time 22.08 secs. Total GPU Memory 5.10/6.00GB Best: False\n"
     ]
    },
    {
     "name": "stderr",
     "output_type": "stream",
     "text": [
      "100%|██████████| 86/86 [00:19<00:00,  4.38it/s]\n"
     ]
    },
    {
     "name": "stdout",
     "output_type": "stream",
     "text": [
      " Epoch: 98, Train loss: 0.05818, Eval loss: 0.53491, LR: 9.517889123018324e-05. Time 22.10 secs. Total GPU Memory 5.10/6.00GB Best: False\n"
     ]
    },
    {
     "name": "stderr",
     "output_type": "stream",
     "text": [
      "100%|██████████| 86/86 [00:19<00:00,  4.39it/s]\n"
     ]
    },
    {
     "name": "stdout",
     "output_type": "stream",
     "text": [
      " Epoch: 99, Train loss: 0.05541, Eval loss: 0.52041, LR: 9.469696969696971e-05. Time 22.08 secs. Total GPU Memory 5.09/6.00GB Best: False\n"
     ]
    },
    {
     "name": "stderr",
     "output_type": "stream",
     "text": [
      "100%|██████████| 86/86 [00:19<00:00,  4.38it/s]\n"
     ]
    },
    {
     "name": "stdout",
     "output_type": "stream",
     "text": [
      " Epoch: 100, Train loss: 0.05686, Eval loss: 0.54305, LR: 9.422229518055115e-05. Time 22.05 secs. Total GPU Memory 5.08/6.00GB Best: False\n"
     ]
    },
    {
     "name": "stderr",
     "output_type": "stream",
     "text": [
      "100%|██████████| 86/86 [00:19<00:00,  4.38it/s]\n"
     ]
    },
    {
     "name": "stdout",
     "output_type": "stream",
     "text": [
      " Epoch: 101, Train loss: 0.05694, Eval loss: 0.51631, LR: 9.37546878515918e-05. Time 22.10 secs. Total GPU Memory 5.09/6.00GB Best: False\n"
     ]
    },
    {
     "name": "stderr",
     "output_type": "stream",
     "text": [
      "100%|██████████| 86/86 [00:19<00:00,  4.39it/s]\n"
     ]
    },
    {
     "name": "stdout",
     "output_type": "stream",
     "text": [
      " Epoch: 102, Train loss: 0.05739, Eval loss: 0.53467, LR: 9.329397406664565e-05. Time 22.03 secs. Total GPU Memory 5.08/6.00GB Best: False\n"
     ]
    },
    {
     "name": "stderr",
     "output_type": "stream",
     "text": [
      "100%|██████████| 86/86 [00:19<00:00,  4.36it/s]\n"
     ]
    },
    {
     "name": "stdout",
     "output_type": "stream",
     "text": [
      " Epoch: 103, Train loss: 0.06000, Eval loss: 0.50701, LR: 9.283998609723541e-05. Time 22.18 secs. Total GPU Memory 5.09/6.00GB Best: False\n"
     ]
    },
    {
     "name": "stderr",
     "output_type": "stream",
     "text": [
      "100%|██████████| 86/86 [00:19<00:00,  4.38it/s]\n"
     ]
    },
    {
     "name": "stdout",
     "output_type": "stream",
     "text": [
      " Epoch: 104, Train loss: 0.05539, Eval loss: 0.52546, LR: 9.239256187329417e-05. Time 22.04 secs. Total GPU Memory 5.07/6.00GB Best: False\n"
     ]
    },
    {
     "name": "stderr",
     "output_type": "stream",
     "text": [
      "100%|██████████| 86/86 [00:19<00:00,  4.38it/s]\n"
     ]
    },
    {
     "name": "stdout",
     "output_type": "stream",
     "text": [
      " Epoch: 105, Train loss: 0.05468, Eval loss: 0.53800, LR: 9.195154474007808e-05. Time 22.10 secs. Total GPU Memory 5.07/6.00GB Best: False\n"
     ]
    },
    {
     "name": "stderr",
     "output_type": "stream",
     "text": [
      "100%|██████████| 86/86 [00:19<00:00,  4.38it/s]\n"
     ]
    },
    {
     "name": "stdout",
     "output_type": "stream",
     "text": [
      " Epoch: 106, Train loss: 0.05526, Eval loss: 0.54546, LR: 9.151678322772231e-05. Time 22.15 secs. Total GPU Memory 5.08/6.00GB Best: False\n"
     ]
    },
    {
     "name": "stderr",
     "output_type": "stream",
     "text": [
      "100%|██████████| 86/86 [00:19<00:00,  4.39it/s]\n"
     ]
    },
    {
     "name": "stdout",
     "output_type": "stream",
     "text": [
      " Epoch: 107, Train loss: 0.05562, Eval loss: 0.51635, LR: 9.108813083267017e-05. Time 22.06 secs. Total GPU Memory 5.08/6.00GB Best: False\n"
     ]
    },
    {
     "name": "stderr",
     "output_type": "stream",
     "text": [
      "100%|██████████| 86/86 [00:19<00:00,  4.39it/s]\n"
     ]
    },
    {
     "name": "stdout",
     "output_type": "stream",
     "text": [
      " Epoch: 108, Train loss: 0.05356, Eval loss: 0.54369, LR: 9.06654458102593e-05. Time 22.07 secs. Total GPU Memory 5.09/6.00GB Best: False\n"
     ]
    },
    {
     "name": "stderr",
     "output_type": "stream",
     "text": [
      "100%|██████████| 86/86 [00:19<00:00,  4.39it/s]\n"
     ]
    },
    {
     "name": "stdout",
     "output_type": "stream",
     "text": [
      " Epoch: 109, Train loss: 0.05270, Eval loss: 0.57354, LR: 9.024859097779809e-05. Time 22.04 secs. Total GPU Memory 5.09/6.00GB Best: False\n"
     ]
    },
    {
     "name": "stderr",
     "output_type": "stream",
     "text": [
      "100%|██████████| 86/86 [00:19<00:00,  4.38it/s]\n"
     ]
    },
    {
     "name": "stdout",
     "output_type": "stream",
     "text": [
      " Epoch: 110, Train loss: 0.05196, Eval loss: 0.55153, LR: 8.983743352751079e-05. Time 22.06 secs. Total GPU Memory 5.09/6.00GB Best: False\n"
     ]
    },
    {
     "name": "stderr",
     "output_type": "stream",
     "text": [
      "100%|██████████| 86/86 [00:19<00:00,  4.37it/s]\n"
     ]
    },
    {
     "name": "stdout",
     "output_type": "stream",
     "text": [
      " Epoch: 111, Train loss: 0.05311, Eval loss: 0.53083, LR: 8.943184484877227e-05. Time 22.11 secs. Total GPU Memory 5.09/6.00GB Best: False\n"
     ]
    },
    {
     "name": "stderr",
     "output_type": "stream",
     "text": [
      "100%|██████████| 86/86 [00:19<00:00,  4.38it/s]\n"
     ]
    },
    {
     "name": "stdout",
     "output_type": "stream",
     "text": [
      " Epoch: 112, Train loss: 0.05322, Eval loss: 0.54110, LR: 8.903170035909217e-05. Time 22.05 secs. Total GPU Memory 5.06/6.00GB Best: False\n"
     ]
    },
    {
     "name": "stderr",
     "output_type": "stream",
     "text": [
      "100%|██████████| 86/86 [00:19<00:00,  4.39it/s]\n"
     ]
    },
    {
     "name": "stdout",
     "output_type": "stream",
     "text": [
      " Epoch: 113, Train loss: 0.05141, Eval loss: 0.56886, LR: 8.86368793433437e-05. Time 22.08 secs. Total GPU Memory 5.08/6.00GB Best: False\n"
     ]
    },
    {
     "name": "stderr",
     "output_type": "stream",
     "text": [
      "100%|██████████| 86/86 [00:19<00:00,  4.38it/s]\n"
     ]
    },
    {
     "name": "stdout",
     "output_type": "stream",
     "text": [
      " Epoch: 114, Train loss: 0.05213, Eval loss: 0.59611, LR: 8.824726480076643e-05. Time 22.03 secs. Total GPU Memory 5.09/6.00GB Best: False\n"
     ]
    },
    {
     "name": "stderr",
     "output_type": "stream",
     "text": [
      "100%|██████████| 86/86 [00:19<00:00,  4.39it/s]\n"
     ]
    },
    {
     "name": "stdout",
     "output_type": "stream",
     "text": [
      " Epoch: 115, Train loss: 0.05197, Eval loss: 0.51955, LR: 8.786274329930208e-05. Time 22.11 secs. Total GPU Memory 5.09/6.00GB Best: False\n"
     ]
    },
    {
     "name": "stderr",
     "output_type": "stream",
     "text": [
      "100%|██████████| 86/86 [00:19<00:00,  4.38it/s]\n"
     ]
    },
    {
     "name": "stdout",
     "output_type": "stream",
     "text": [
      " Epoch: 116, Train loss: 0.05099, Eval loss: 0.56701, LR: 8.748320483685225e-05. Time 22.08 secs. Total GPU Memory 5.08/6.00GB Best: False\n"
     ]
    },
    {
     "name": "stderr",
     "output_type": "stream",
     "text": [
      "100%|██████████| 86/86 [00:19<00:00,  4.39it/s]\n"
     ]
    },
    {
     "name": "stdout",
     "output_type": "stream",
     "text": [
      " Epoch: 117, Train loss: 0.05137, Eval loss: 0.58174, LR: 8.710854270907197e-05. Time 22.06 secs. Total GPU Memory 5.09/6.00GB Best: False\n"
     ]
    },
    {
     "name": "stderr",
     "output_type": "stream",
     "text": [
      "100%|██████████| 86/86 [00:19<00:00,  4.39it/s]\n"
     ]
    },
    {
     "name": "stdout",
     "output_type": "stream",
     "text": [
      " Epoch: 118, Train loss: 0.05009, Eval loss: 0.53579, LR: 8.673865338333891e-05. Time 22.06 secs. Total GPU Memory 5.08/6.00GB Best: False\n"
     ]
    },
    {
     "name": "stderr",
     "output_type": "stream",
     "text": [
      "100%|██████████| 86/86 [00:19<00:00,  4.38it/s]\n"
     ]
    },
    {
     "name": "stdout",
     "output_type": "stream",
     "text": [
      " Epoch: 119, Train loss: 0.04954, Eval loss: 0.57405, LR: 8.63734363785597e-05. Time 22.13 secs. Total GPU Memory 5.08/6.00GB Best: False\n"
     ]
    },
    {
     "name": "stderr",
     "output_type": "stream",
     "text": [
      "100%|██████████| 86/86 [00:19<00:00,  4.35it/s]\n"
     ]
    },
    {
     "name": "stdout",
     "output_type": "stream",
     "text": [
      " Epoch: 120, Train loss: 0.05041, Eval loss: 0.54811, LR: 8.601279415049694e-05. Time 22.17 secs. Total GPU Memory 5.09/6.00GB Best: False\n"
     ]
    },
    {
     "name": "stderr",
     "output_type": "stream",
     "text": [
      "100%|██████████| 86/86 [00:19<00:00,  4.38it/s]\n"
     ]
    },
    {
     "name": "stdout",
     "output_type": "stream",
     "text": [
      " Epoch: 121, Train loss: 0.05044, Eval loss: 0.56318, LR: 8.565663198231921e-05. Time 22.06 secs. Total GPU Memory 5.08/6.00GB Best: False\n"
     ]
    },
    {
     "name": "stderr",
     "output_type": "stream",
     "text": [
      "100%|██████████| 86/86 [00:19<00:00,  4.37it/s]\n"
     ]
    },
    {
     "name": "stdout",
     "output_type": "stream",
     "text": [
      " Epoch: 122, Train loss: 0.04905, Eval loss: 0.56917, LR: 8.530485788009596e-05. Time 22.12 secs. Total GPU Memory 5.07/6.00GB Best: False\n"
     ]
    },
    {
     "name": "stderr",
     "output_type": "stream",
     "text": [
      "100%|██████████| 86/86 [00:19<00:00,  4.40it/s]\n"
     ]
    },
    {
     "name": "stdout",
     "output_type": "stream",
     "text": [
      " Epoch: 123, Train loss: 0.04940, Eval loss: 0.55101, LR: 8.495738247297452e-05. Time 21.99 secs. Total GPU Memory 5.07/6.00GB Best: False\n"
     ]
    },
    {
     "name": "stderr",
     "output_type": "stream",
     "text": [
      "100%|██████████| 86/86 [00:19<00:00,  4.37it/s]\n"
     ]
    },
    {
     "name": "stdout",
     "output_type": "stream",
     "text": [
      " Epoch: 124, Train loss: 0.04791, Eval loss: 0.55449, LR: 8.461411891779412e-05. Time 22.10 secs. Total GPU Memory 5.09/6.00GB Best: False\n"
     ]
    },
    {
     "name": "stderr",
     "output_type": "stream",
     "text": [
      "100%|██████████| 86/86 [00:19<00:00,  4.36it/s]\n"
     ]
    },
    {
     "name": "stdout",
     "output_type": "stream",
     "text": [
      " Epoch: 125, Train loss: 0.04670, Eval loss: 0.58847, LR: 8.427498280790528e-05. Time 22.21 secs. Total GPU Memory 5.08/6.00GB Best: False\n"
     ]
    },
    {
     "name": "stderr",
     "output_type": "stream",
     "text": [
      "100%|██████████| 86/86 [00:19<00:00,  4.39it/s]\n"
     ]
    },
    {
     "name": "stdout",
     "output_type": "stream",
     "text": [
      " Epoch: 126, Train loss: 0.04922, Eval loss: 0.59702, LR: 8.393989208597713e-05. Time 22.10 secs. Total GPU Memory 5.10/6.00GB Best: False\n"
     ]
    },
    {
     "name": "stderr",
     "output_type": "stream",
     "text": [
      "100%|██████████| 86/86 [00:19<00:00,  4.39it/s]\n"
     ]
    },
    {
     "name": "stdout",
     "output_type": "stream",
     "text": [
      " Epoch: 127, Train loss: 0.04724, Eval loss: 0.56649, LR: 8.360876696058859e-05. Time 22.18 secs. Total GPU Memory 5.11/6.00GB Best: False\n"
     ]
    },
    {
     "name": "stderr",
     "output_type": "stream",
     "text": [
      "100%|██████████| 86/86 [00:19<00:00,  4.36it/s]\n"
     ]
    },
    {
     "name": "stdout",
     "output_type": "stream",
     "text": [
      " Epoch: 128, Train loss: 0.04629, Eval loss: 0.61424, LR: 8.328152982641033e-05. Time 22.13 secs. Total GPU Memory 5.09/6.00GB Best: False\n"
     ]
    },
    {
     "name": "stderr",
     "output_type": "stream",
     "text": [
      "100%|██████████| 86/86 [00:19<00:00,  4.37it/s]\n"
     ]
    },
    {
     "name": "stdout",
     "output_type": "stream",
     "text": [
      " Epoch: 129, Train loss: 0.04837, Eval loss: 0.57036, LR: 8.295810518779672e-05. Time 22.13 secs. Total GPU Memory 5.09/6.00GB Best: False\n"
     ]
    },
    {
     "name": "stderr",
     "output_type": "stream",
     "text": [
      "100%|██████████| 86/86 [00:19<00:00,  4.37it/s]\n"
     ]
    },
    {
     "name": "stdout",
     "output_type": "stream",
     "text": [
      " Epoch: 130, Train loss: 0.04665, Eval loss: 0.65009, LR: 8.263841958561643e-05. Time 22.14 secs. Total GPU Memory 5.09/6.00GB Best: False\n"
     ]
    },
    {
     "name": "stderr",
     "output_type": "stream",
     "text": [
      "100%|██████████| 86/86 [00:19<00:00,  4.38it/s]\n"
     ]
    },
    {
     "name": "stdout",
     "output_type": "stream",
     "text": [
      " Epoch: 131, Train loss: 0.04668, Eval loss: 0.55542, LR: 8.23224015271613e-05. Time 22.09 secs. Total GPU Memory 5.09/6.00GB Best: False\n"
     ]
    },
    {
     "name": "stderr",
     "output_type": "stream",
     "text": [
      "100%|██████████| 86/86 [00:19<00:00,  4.39it/s]\n"
     ]
    },
    {
     "name": "stdout",
     "output_type": "stream",
     "text": [
      " Epoch: 132, Train loss: 0.04752, Eval loss: 0.57607, LR: 8.200998141898095e-05. Time 22.06 secs. Total GPU Memory 5.08/6.00GB Best: False\n"
     ]
    },
    {
     "name": "stderr",
     "output_type": "stream",
     "text": [
      "100%|██████████| 86/86 [00:19<00:00,  4.37it/s]\n"
     ]
    },
    {
     "name": "stdout",
     "output_type": "stream",
     "text": [
      " Epoch: 133, Train loss: 0.04751, Eval loss: 0.56523, LR: 8.170109150250034e-05. Time 22.15 secs. Total GPU Memory 5.09/6.00GB Best: False\n"
     ]
    },
    {
     "name": "stderr",
     "output_type": "stream",
     "text": [
      "100%|██████████| 86/86 [00:19<00:00,  4.38it/s]\n"
     ]
    },
    {
     "name": "stdout",
     "output_type": "stream",
     "text": [
      " Epoch: 134, Train loss: 0.04741, Eval loss: 0.58939, LR: 8.13956657922849e-05. Time 22.05 secs. Total GPU Memory 5.09/6.00GB Best: False\n"
     ]
    },
    {
     "name": "stderr",
     "output_type": "stream",
     "text": [
      "100%|██████████| 86/86 [00:19<00:00,  4.39it/s]\n"
     ]
    },
    {
     "name": "stdout",
     "output_type": "stream",
     "text": [
      " Epoch: 135, Train loss: 0.04693, Eval loss: 0.57567, LR: 8.109364001682532e-05. Time 21.99 secs. Total GPU Memory 5.09/6.00GB Best: False\n"
     ]
    },
    {
     "name": "stderr",
     "output_type": "stream",
     "text": [
      "100%|██████████| 86/86 [00:19<00:00,  4.38it/s]\n"
     ]
    },
    {
     "name": "stdout",
     "output_type": "stream",
     "text": [
      " Epoch: 136, Train loss: 0.04660, Eval loss: 0.58133, LR: 8.079495156172175e-05. Time 22.12 secs. Total GPU Memory 5.10/6.00GB Best: False\n"
     ]
    },
    {
     "name": "stderr",
     "output_type": "stream",
     "text": [
      "100%|██████████| 86/86 [00:19<00:00,  4.38it/s]\n"
     ]
    },
    {
     "name": "stdout",
     "output_type": "stream",
     "text": [
      " Epoch: 137, Train loss: 0.04653, Eval loss: 0.61715, LR: 8.049953941515294e-05. Time 22.11 secs. Total GPU Memory 5.07/6.00GB Best: False\n"
     ]
    },
    {
     "name": "stderr",
     "output_type": "stream",
     "text": [
      "100%|██████████| 86/86 [00:19<00:00,  4.36it/s]\n"
     ]
    },
    {
     "name": "stdout",
     "output_type": "stream",
     "text": [
      " Epoch: 138, Train loss: 0.04465, Eval loss: 0.58627, LR: 8.020734411552272e-05. Time 22.17 secs. Total GPU Memory 5.08/6.00GB Best: False\n"
     ]
    },
    {
     "name": "stderr",
     "output_type": "stream",
     "text": [
      "100%|██████████| 86/86 [00:19<00:00,  4.39it/s]\n"
     ]
    },
    {
     "name": "stdout",
     "output_type": "stream",
     "text": [
      " Epoch: 139, Train loss: 0.04418, Eval loss: 0.63748, LR: 7.991830770118196e-05. Time 22.01 secs. Total GPU Memory 5.07/6.00GB Best: False\n"
     ]
    },
    {
     "name": "stderr",
     "output_type": "stream",
     "text": [
      "100%|██████████| 86/86 [00:19<00:00,  4.40it/s]\n"
     ]
    },
    {
     "name": "stdout",
     "output_type": "stream",
     "text": [
      " Epoch: 140, Train loss: 0.04498, Eval loss: 0.60993, LR: 7.963237366212902e-05. Time 21.98 secs. Total GPU Memory 5.08/6.00GB Best: False\n"
     ]
    },
    {
     "name": "stderr",
     "output_type": "stream",
     "text": [
      "100%|██████████| 86/86 [00:19<00:00,  4.37it/s]\n"
     ]
    },
    {
     "name": "stdout",
     "output_type": "stream",
     "text": [
      " Epoch: 141, Train loss: 0.04437, Eval loss: 0.58850, LR: 7.934948689359775e-05. Time 22.13 secs. Total GPU Memory 5.09/6.00GB Best: False\n"
     ]
    },
    {
     "name": "stderr",
     "output_type": "stream",
     "text": [
      "100%|██████████| 86/86 [00:19<00:00,  4.37it/s]\n"
     ]
    },
    {
     "name": "stdout",
     "output_type": "stream",
     "text": [
      " Epoch: 142, Train loss: 0.04452, Eval loss: 0.58288, LR: 7.90695936514465e-05. Time 22.14 secs. Total GPU Memory 5.09/6.00GB Best: False\n"
     ]
    },
    {
     "name": "stderr",
     "output_type": "stream",
     "text": [
      "100%|██████████| 86/86 [00:19<00:00,  4.38it/s]\n"
     ]
    },
    {
     "name": "stdout",
     "output_type": "stream",
     "text": [
      " Epoch: 143, Train loss: 0.04357, Eval loss: 0.63916, LR: 7.879264150926551e-05. Time 22.06 secs. Total GPU Memory 5.08/6.00GB Best: False\n"
     ]
    },
    {
     "name": "stderr",
     "output_type": "stream",
     "text": [
      "100%|██████████| 86/86 [00:19<00:00,  4.38it/s]\n"
     ]
    },
    {
     "name": "stdout",
     "output_type": "stream",
     "text": [
      " Epoch: 144, Train loss: 0.04461, Eval loss: 0.61640, LR: 7.851857931712595e-05. Time 22.09 secs. Total GPU Memory 5.09/6.00GB Best: False\n"
     ]
    },
    {
     "name": "stderr",
     "output_type": "stream",
     "text": [
      "100%|██████████| 86/86 [00:19<00:00,  4.38it/s]\n"
     ]
    },
    {
     "name": "stdout",
     "output_type": "stream",
     "text": [
      " Epoch: 145, Train loss: 0.04516, Eval loss: 0.64984, LR: 7.824735716189602e-05. Time 22.11 secs. Total GPU Memory 5.08/6.00GB Best: False\n"
     ]
    },
    {
     "name": "stderr",
     "output_type": "stream",
     "text": [
      "100%|██████████| 86/86 [00:19<00:00,  4.39it/s]\n"
     ]
    },
    {
     "name": "stdout",
     "output_type": "stream",
     "text": [
      " Epoch: 146, Train loss: 0.04325, Eval loss: 0.61516, LR: 7.797892632905465e-05. Time 22.13 secs. Total GPU Memory 5.10/6.00GB Best: False\n"
     ]
    },
    {
     "name": "stderr",
     "output_type": "stream",
     "text": [
      "100%|██████████| 86/86 [00:19<00:00,  4.39it/s]\n"
     ]
    },
    {
     "name": "stdout",
     "output_type": "stream",
     "text": [
      " Epoch: 147, Train loss: 0.04440, Eval loss: 0.60475, LR: 7.771323926593654e-05. Time 22.06 secs. Total GPU Memory 5.08/6.00GB Best: False\n"
     ]
    },
    {
     "name": "stderr",
     "output_type": "stream",
     "text": [
      "100%|██████████| 86/86 [00:19<00:00,  4.39it/s]\n"
     ]
    },
    {
     "name": "stdout",
     "output_type": "stream",
     "text": [
      " Epoch: 148, Train loss: 0.04310, Eval loss: 0.64736, LR: 7.745024954634528e-05. Time 22.13 secs. Total GPU Memory 5.09/6.00GB Best: False\n"
     ]
    },
    {
     "name": "stderr",
     "output_type": "stream",
     "text": [
      "100%|██████████| 86/86 [00:19<00:00,  4.38it/s]\n"
     ]
    },
    {
     "name": "stdout",
     "output_type": "stream",
     "text": [
      " Epoch: 149, Train loss: 0.04260, Eval loss: 0.64251, LR: 7.718991183647484e-05. Time 22.07 secs. Total GPU Memory 5.08/6.00GB Best: False\n"
     ]
    },
    {
     "name": "stderr",
     "output_type": "stream",
     "text": [
      "100%|██████████| 86/86 [00:19<00:00,  4.38it/s]\n"
     ]
    },
    {
     "name": "stdout",
     "output_type": "stream",
     "text": [
      " Epoch: 150, Train loss: 0.04403, Eval loss: 0.64254, LR: 7.693218186208297e-05. Time 22.07 secs. Total GPU Memory 5.08/6.00GB Best: False\n"
     ]
    }
   ],
   "source": [
    "vocab_size = tokenizer.vocab_size\n",
    "target_size = 3\n",
    "num_heads = 8\n",
    "\n",
    "dropout = 0.1\n",
    "device = torch.device('cuda:0' if torch.cuda.is_available() else 'cpu')\n",
    "num_epochs = 150\n",
    "\n",
    "general_loss = []\n",
    "general_lr = []\n",
    "general_gpu_usage = []\n",
    "\n",
    "for param in params:\n",
    "    d_model = param[1]\n",
    "    d_ff = d_model* 4\n",
    "    num_layers = param[2]\n",
    "    batch_size = param[3]\n",
    "\n",
    "    if param[0] == 'GPT':\n",
    "        model = GPT(\n",
    "            vocab_size=vocab_size,\n",
    "            target_size=target_size,\n",
    "            features_dim=d_model,\n",
    "            num_heads=num_heads,\n",
    "            ff_dim=d_ff,\n",
    "            num_encoder_layers=num_layers,\n",
    "            emb_dropout_prob=0.1,\n",
    "            attn_dropout_prob=0.1,\n",
    "            ff_dropout_prob=0.1,\n",
    "            attn_use_bias=False,\n",
    "            ff_use_bias=False,\n",
    "            attn_res='pre',\n",
    "            ff_res='pre',\n",
    "            vocab_projection_bias=False,\n",
    "        ).to(device)\n",
    "\n",
    "    elif param[0] == 'MaskedDecoder':\n",
    "        model = MaskedDecoder(\n",
    "            vocab_size=vocab_size,\n",
    "            target_size=target_size,\n",
    "            features_dim=d_model,\n",
    "            num_heads=num_heads,\n",
    "            ff_dim=d_ff,\n",
    "            num_encoder_layers=num_layers,\n",
    "            emb_dropout_prob=0.1,\n",
    "            attn_dropout_prob=0.1,\n",
    "            ff_dropout_prob=0.1,\n",
    "            attn_use_bias=False,\n",
    "            ff_use_bias=False,\n",
    "            attn_res='pre',\n",
    "            ff_res='pre',\n",
    "            vocab_projection_bias=False,\n",
    "        ).to(device)\n",
    "\n",
    "    elif param[0] == 'BERT':\n",
    "        model = BERT(\n",
    "            vocab_size=vocab_size,\n",
    "            target_size=target_size,\n",
    "            features_dim=d_model,\n",
    "            num_heads=num_heads,\n",
    "            ff_dim=d_ff,\n",
    "            num_encoder_layers=num_layers,\n",
    "            emb_dropout_prob=0.1,\n",
    "            attn_dropout_prob=0.1,\n",
    "            ff_dropout_prob=0.1,\n",
    "            attn_use_bias=False,\n",
    "            ff_use_bias=False,\n",
    "            attn_res='pre',\n",
    "            ff_res='pre',\n",
    "            vocab_projection_bias=False,\n",
    "        ).to(device)\n",
    "\n",
    "    elif param[0] == 'T5':\n",
    "        model = T5(\n",
    "            vocab_size=vocab_size,\n",
    "            target_size=target_size,\n",
    "            features_dim=d_model,\n",
    "            num_heads=num_heads,\n",
    "            ff_dim=d_ff,\n",
    "            num_encoder_layers=num_layers,\n",
    "            emb_dropout_prob=0.1,\n",
    "            attn_dropout_prob=0.1,\n",
    "            ff_dropout_prob=0.1,\n",
    "            attn_use_bias=False,\n",
    "            ff_use_bias=False,\n",
    "            attn_res='pre',\n",
    "            ff_res='pre',\n",
    "            vocab_projection_bias=False,\n",
    "        ).to(device)\n",
    "    else:\n",
    "        print('Error ')\n",
    "        break\n",
    "\n",
    "    train_loader = DataLoader(tokenized_datasets['train'], batch_size=batch_size, shuffle=True)\n",
    "    #val_loader = DataLoader(tokenized_datasets['validation'], batch_size=d_model, shuffle=True)\n",
    "    test_loader = DataLoader(tokenized_datasets['test'], batch_size=batch_size, shuffle=True)\n",
    "\n",
    "    class_weights = torch.tensor([1.2, 1.0, 1.0])\n",
    "\n",
    "    criterion = nn.CrossEntropyLoss(weight=class_weights).to(device)\n",
    "\n",
    "    optimizer = NoamOpt(model_size=d_model,factor=0.1, warmup=25, optimizer=optim.Adam(model.parameters(), lr=0.001))\n",
    "    #scheduler = StepLR(optimizer, step_size=10, gamma=0.5)\n",
    "    scaler = torch.amp.GradScaler(device=device)\n",
    "    #scheduler = ReduceLROnPlateau(optimizer, 'min', patience=2, factor=0.5)\n",
    "\n",
    "    print('Params are : ', param)\n",
    "    def train_model(model, train_dataloader, criterion, optimizer, grad_acc=False, accum_iter = 4):\n",
    "        model.train()\n",
    "        epoch_loss = 0\n",
    "        for batch_idx, batch in enumerate(tqdm(train_dataloader)):\n",
    "\n",
    "            # Auto Casting\n",
    "            with torch.autocast(device_type=device.type, dtype=torch.float16):\n",
    "\n",
    "                src = torch.stack(batch[\"input_ids\"]).transpose(0,1).to(device) # shape --> [batch size,seq len]\n",
    "                trg = batch[\"labels\"].to(device) # shape --> [1, batch size] (batbt, )\n",
    "                pad_mask = torch.stack(batch[\"attention_mask\"]).transpose(0,1).to(device)\n",
    "\n",
    "                # print('src: ',src.shape,'trg: ', trg.shape)\n",
    "                # shape (out) --> [batch size, trg size]\n",
    "\n",
    "                if grad_acc == True: # To apply Gradient Accumulation\n",
    "                    # passes and weights update\n",
    "                    with torch.set_grad_enabled(True):\n",
    "                        # forward pass\n",
    "                        if param[0] == 'T5' or param[0] == 'GPT':\n",
    "                            cross_src = torch.stack(batch[\"cluster_ids\"]).transpose(0,1).to(device) # shape --> [batch size,seq len]\n",
    "                            cross_pad_mask = torch.stack(batch[\"cluster_mask\"]).transpose(0,1).to(device)\n",
    "                            out = model(src, cross_src, pad_mask, cross_pad_mask)\n",
    "                        else:\n",
    "                            out = model(src, pad_mask)\n",
    "\n",
    "                        assert out.dtype is torch.float16\n",
    "\n",
    "                        loss = criterion(out, trg)\n",
    "                        assert loss.dtype is torch.float32\n",
    "                        # normalize loss to account for batch accumulation\n",
    "                        loss = loss / accum_iter\n",
    "\n",
    "                        # Scales loss. Calls ``backward()`` on scaled loss to create scaled gradients.\n",
    "                        scaler.scale(loss).backward()\n",
    "\n",
    "                        # Grading Clipping for Higher Values and fixing None error\n",
    "                        torch.nn.utils.clip_grad_norm_(model.parameters(), max_norm=1.0, norm_type=2.0, error_if_nonfinite=False, foreach=None)\n",
    "\n",
    "                        # weights update\n",
    "                        if (((batch_idx + 1) % accum_iter) == 0) or (batch_idx + 1 == len(train_dataloader)):\n",
    "                            optimizer.step()\n",
    "                            optimizer.zero_grad()\n",
    "\n",
    "                        epoch_loss += loss.detach().cpu()\n",
    "\n",
    "                else:\n",
    "                    # output is float16 because linear layers ``autocast`` to float16.\n",
    "                    if param[0] == 'T5':\n",
    "                        out = model(src, cross_src, pad_mask, cross_pad_mask)\n",
    "                    else:\n",
    "                        out = model(src, pad_mask)\n",
    "\n",
    "                    assert out.dtype is torch.float16\n",
    "\n",
    "                    loss = criterion(out, trg)\n",
    "                    assert loss.dtype is torch.float32\n",
    "\n",
    "                    # loss.backward()\n",
    "\n",
    "                    # Scales loss. Calls ``backward()`` on scaled loss to create scaled gradients.\n",
    "                    scaler.scale(loss).backward()\n",
    "\n",
    "                    optimizer.step()\n",
    "                    # Clear the accumulating gradients\n",
    "                    optimizer.zero_grad()\n",
    "                    epoch_loss += loss.detach().cpu()\n",
    "\n",
    "        return epoch_loss/len(train_dataloader)\n",
    "\n",
    "\n",
    "    def evaluate_model(model, valid_dataloader, criterion):\n",
    "        model.eval()\n",
    "        epoch_loss = 0\n",
    "        with torch.no_grad():\n",
    "            for batch_idx, batch in enumerate(valid_dataloader):\n",
    "                # Auto Casting\n",
    "                with torch.autocast(device_type=device.type, dtype=torch.float16):\n",
    "                    src = torch.stack(batch[\"input_ids\"]).transpose(0,1).to(device) # shape --> [batch size,seq len]\n",
    "                    trg = batch[\"labels\"].to(device) # shape --> [batch size]\n",
    "                    pad_mask = torch.stack(batch[\"attention_mask\"]).transpose(0,1).to(device)\n",
    "                    #print('src: ',src.shape,'trg: ', trg.shape)\n",
    "                    # shape (out) --> [batch size, trg size]\n",
    "                    if param[0] == 'T5' or param[0] == 'GPT':\n",
    "                        cross_src = torch.stack(batch[\"cluster_ids\"]).transpose(0,1).to(device) # shape --> [batch size,seq len]\n",
    "                        cross_pad_mask = torch.stack(batch[\"cluster_mask\"]).transpose(0,1).to(device)\n",
    "                        out = model(src, cross_src, pad_mask, cross_pad_mask)\n",
    "                    else:\n",
    "                        out = model(src, pad_mask)\n",
    "\n",
    "                    loss = criterion(out, trg)\n",
    "\n",
    "                    epoch_loss += loss.detach().cpu()\n",
    "\n",
    "        return epoch_loss/len(valid_dataloader)\n",
    "\n",
    "\n",
    "    patience = 100 # Patience for early stopping\n",
    "    best_model = {}\n",
    "    best_epoch = 0\n",
    "    best_loss = 100 # Given randomly\n",
    "\n",
    "    epoch_loss = 0\n",
    "\n",
    "    eval_loss_list = []\n",
    "    lr_list = []\n",
    "    all_gpu_usage =[]\n",
    "    for epoch in range(num_epochs):\n",
    "\n",
    "        start = time.time()\n",
    "        gc.collect() # Garbage collector\n",
    "        torch.cuda.empty_cache()\n",
    "\n",
    "        epoch_loss = train_model(model, train_loader, criterion, optimizer,grad_acc=True)\n",
    "        eval_loss = evaluate_model(model, test_loader, criterion)\n",
    "        #scheduler.step()\n",
    "        gpu_usage = (torch.cuda.mem_get_info()[1] - torch.cuda.mem_get_info()[0])/(1073741824.0)\n",
    "        total_gpu = torch.cuda.mem_get_info()[1]/1073741824.0\n",
    "\n",
    "        # For plotting\n",
    "        eval_loss_list.append(float(eval_loss))\n",
    "        #lr_list.append(float(optimizer.param_groups[0]['lr']))\n",
    "        lr_rate = float(optimizer.get_lr())\n",
    "        lr_list.append(float(lr_rate))\n",
    "        all_gpu_usage.append(gpu_usage)\n",
    "\n",
    "\n",
    "\n",
    "\n",
    "        print(f\" Epoch: {epoch+1}, Train loss: {epoch_loss:.5f}, Eval loss: {eval_loss:.5f}, LR: {lr_rate}. Time {time.time() - start:.2f} secs. Total GPU Memory {gpu_usage :.2f}/{total_gpu :.2f}GB Best: {eval_loss < best_loss}\")\n",
    "        # Early stopping\n",
    "        if eval_loss < best_loss:\n",
    "            best_loss = eval_loss\n",
    "            best_model_weights = copy.deepcopy(model.state_dict())  # Deep copy here\n",
    "            patience = 100  # Reset patience counter\n",
    "            torch.save({\n",
    "                'model_state_dict': model.state_dict(),\n",
    "                'optimizer_state_dict': optimizer.state_dict(),\n",
    "                'eval_loss': best_loss,\n",
    "                'epoch_num': epoch,\n",
    "            }, f'{param[0]}-{param[1]}_embs-{param[2]}_layers-{param[3]}_batches-transformer.pt')\n",
    "        else:\n",
    "            patience -= 1\n",
    "            # print(\"patience: \",patience)\n",
    "            # if patience == 0:\n",
    "            #     break\n",
    "\n",
    "    general_loss.append(eval_loss_list)\n",
    "    general_lr.append(lr_list)\n",
    "    general_gpu_usage.append(sum(all_gpu_usage)/ len(all_gpu_usage))\n",
    "    clear_output(wait=True)\n"
   ]
  },
  {
   "cell_type": "markdown",
   "metadata": {},
   "source": [
    "#### Checking the results\n",
    "\n",
    "I'm recording the results for comparing each 4 model with each 4 parameters. \n",
    "\n",
    "The loading part that two cells below, is for saving pre results if the training was stopped middle of the training."
   ]
  },
  {
   "cell_type": "code",
   "execution_count": null,
   "metadata": {},
   "outputs": [],
   "source": [
    "np.array(general_loss).tofile(f'general_loss.data')\n",
    "np.array(general_lr).tofile(f'general_lr.data')\n",
    "np.array(general_gpu_usage).tofile(f'general_gpu_usage.data')"
   ]
  },
  {
   "cell_type": "code",
   "execution_count": null,
   "metadata": {},
   "outputs": [],
   "source": [
    "# If you have multiple recordings, you can stack them together via;\n",
    "\n",
    "# new_loss = np.vstack((p1_loss, general_loss, p2_loss))\n",
    "# new_lr = np.vstack((p1_lr, general_lr, p2_lr))\n",
    "# new_gpu = np.array(p1_gpu.tolist()+general_gpu_usage+p2_gpu.tolist())"
   ]
  },
  {
   "cell_type": "code",
   "execution_count": 48,
   "metadata": {},
   "outputs": [],
   "source": [
    "num_epochs = 150\n",
    "general_loss = np.fromfile('general_loss.data')\n",
    "general_lr = np.fromfile('general_lr.data')\n",
    "general_gpu_usage = np.fromfile('general_gpu_usage.data').tolist()\n",
    "\n",
    "general_loss = general_loss.reshape(int(len(general_loss)/num_epochs),num_epochs).tolist()\n",
    "general_lr = general_lr.reshape(int(len(general_lr)/num_epochs),num_epochs).tolist()"
   ]
  },
  {
   "cell_type": "code",
   "execution_count": 161,
   "metadata": {},
   "outputs": [],
   "source": [
    "# model, emb, layer, batch\n",
    "params_label = [\n",
    "            \"['BERT',128,2,2048]\", # Tiny\n",
    "            \"['BERT',256,4,1024]\", # Mini\n",
    "            \"['BERT',512,4,512]\",  # Small\n",
    "            \"['BERT',512,8,256]\",  # Medium\n",
    "            # ['BERT',768,12,32],  # Base\n",
    "            # ['BERT',1024,24,32],  # Large\n",
    "            \"['MaskedDecoder',128,2,2048]\", # Tiny\n",
    "            \"['MaskedDecoder',256,4,1024]\", # Mini\n",
    "            \"['MaskedDecoder',512,4,512]\",  # Small\n",
    "            \"['MaskedDecoder',512,8,256]\",  # Medium\n",
    "            # ['GPT',768,12,32],  # Base\n",
    "            # ['GPT',1024,24,32],  # Large\n",
    "            \"['GPT',128,2,2048]\", # Tiny\n",
    "            \"['GPT',256,4,1024]\", # Mini\n",
    "            \"['GPT',512,4,512]\",  # Small\n",
    "            \"['GPT',512,8,256]\",  # Medium\n",
    "            # ['GPT',768,12,32],  # Base\n",
    "            # ['GPT',1024,24,32],  # Large\n",
    "            \"['T5',128,2,2048]\", # Tiny\n",
    "            \"['T5',256,4,1024]\", # Mini\n",
    "            \"['T5',512,4,256]\",  # Small\n",
    "            \"['T5',512,8,128]\",  # Medium\n",
    "            # ['T5',768,12,8],  # Base\n",
    "            # ['T5',1024,24,32],  # Large\n",
    "        ]\n",
    "\n",
    "\n",
    "bert_label = params_label[:4]\n",
    "bert_loss = general_loss[:4]\n",
    "bert_lr = general_lr[:4]\n",
    "\n",
    "masked_label = params_label[4:8]\n",
    "masked_loss = general_loss[4:8]\n",
    "masked_lr = general_lr[4:8]\n",
    "\n",
    "gpt_label = params_label[8:12]\n",
    "gpt_loss = general_loss[8:12]\n",
    "gpt_lr = general_lr[8:12]\n",
    "\n",
    "t5_label = params_label[12:]\n",
    "t5_loss = general_loss[12:]\n",
    "t5_lr = general_lr[12:]"
   ]
  },
  {
   "cell_type": "markdown",
   "metadata": {},
   "source": [
    "#### BERT"
   ]
  },
  {
   "cell_type": "code",
   "execution_count": 153,
   "metadata": {},
   "outputs": [
    {
     "data": {
      "text/plain": [
       "<Axes: >"
      ]
     },
     "execution_count": 153,
     "metadata": {},
     "output_type": "execute_result"
    },
    {
     "data": {
      "image/png": "[encoded data removed]",
      "text/plain": [
       "<Figure size 640x480 with 1 Axes>"
      ]
     },
     "metadata": {},
     "output_type": "display_data"
    }
   ],
   "source": [
    "#Bert Loss Print\n",
    "import seaborn as sns\n",
    "bert_plot = pd.DataFrame(bert_loss).T\n",
    "bert_plot.columns = bert_label\n",
    "sns.set(style='darkgrid')\n",
    "sns.lineplot(data=bert_plot)"
   ]
  },
  {
   "cell_type": "code",
   "execution_count": 154,
   "metadata": {},
   "outputs": [
    {
     "data": {
      "text/plain": [
       "<Axes: >"
      ]
     },
     "execution_count": 154,
     "metadata": {},
     "output_type": "execute_result"
    },
    {
     "data": {
      "image/png": "[encoded data removed]",
      "text/plain": [
       "<Figure size 640x480 with 1 Axes>"
      ]
     },
     "metadata": {},
     "output_type": "display_data"
    }
   ],
   "source": [
    "import seaborn as sns\n",
    "bert_plot = pd.DataFrame(bert_lr).T\n",
    "bert_plot.columns = bert_label\n",
    "sns.set(style='darkgrid')\n",
    "sns.lineplot(data=bert_plot)\n"
   ]
  },
  {
   "cell_type": "markdown",
   "metadata": {},
   "source": [
    "#### Masked-Only GPT"
   ]
  },
  {
   "cell_type": "code",
   "execution_count": 156,
   "metadata": {},
   "outputs": [
    {
     "data": {
      "text/plain": [
       "<Axes: >"
      ]
     },
     "execution_count": 156,
     "metadata": {},
     "output_type": "execute_result"
    },
    {
     "data": {
      "image/png": "[encoded data removed]",
      "text/plain": [
       "<Figure size 640x480 with 1 Axes>"
      ]
     },
     "metadata": {},
     "output_type": "display_data"
    }
   ],
   "source": [
    "#Bert Loss Print\n",
    "import seaborn as sns\n",
    "masked_plot = pd.DataFrame(masked_loss).T\n",
    "masked_plot.columns = masked_label\n",
    "sns.set(style='darkgrid')\n",
    "sns.lineplot(data=masked_plot)"
   ]
  },
  {
   "cell_type": "code",
   "execution_count": 157,
   "metadata": {},
   "outputs": [
    {
     "data": {
      "text/plain": [
       "<Axes: >"
      ]
     },
     "execution_count": 157,
     "metadata": {},
     "output_type": "execute_result"
    },
    {
     "data": {
      "image/png": "[encoded data removed]",
      "text/plain": [
       "<Figure size 640x480 with 1 Axes>"
      ]
     },
     "metadata": {},
     "output_type": "display_data"
    }
   ],
   "source": [
    "import seaborn as sns\n",
    "masked_plot = pd.DataFrame(masked_lr).T\n",
    "masked_plot.columns = masked_label\n",
    "sns.set(style='darkgrid')\n",
    "sns.lineplot(data=masked_plot)\n"
   ]
  },
  {
   "cell_type": "markdown",
   "metadata": {},
   "source": [
    "#### GPT"
   ]
  },
  {
   "cell_type": "code",
   "execution_count": null,
   "metadata": {},
   "outputs": [
    {
     "data": {
      "text/plain": [
       "<Axes: >"
      ]
     },
     "metadata": {},
     "output_type": "display_data"
    },
    {
     "data": {
      "image/png": "[encoded data removed]",
      "text/plain": [
       "<Figure size 640x480 with 1 Axes>"
      ]
     },
     "metadata": {},
     "output_type": "display_data"
    }
   ],
   "source": [
    "import seaborn as sns\n",
    "gpt_loss_plot = pd.DataFrame(gpt_loss).T\n",
    "gpt_loss_plot.columns = gpt_label\n",
    "sns.set(style='darkgrid')\n",
    "sns.lineplot(data=gpt_loss_plot)\n"
   ]
  },
  {
   "cell_type": "code",
   "execution_count": null,
   "metadata": {},
   "outputs": [
    {
     "data": {
      "text/plain": [
       "<Axes: >"
      ]
     },
     "metadata": {},
     "output_type": "display_data"
    },
    {
     "data": {
      "image/png": "[encoded data removed]",
      "text/plain": [
       "<Figure size 640x480 with 1 Axes>"
      ]
     },
     "metadata": {},
     "output_type": "display_data"
    }
   ],
   "source": [
    "import seaborn as sns\n",
    "gpt_lr_plot = pd.DataFrame(gpt_lr).T\n",
    "gpt_lr_plot.columns = gpt_label\n",
    "sns.set(style='darkgrid')\n",
    "sns.lineplot(data=gpt_lr_plot)\n"
   ]
  },
  {
   "cell_type": "markdown",
   "metadata": {},
   "source": [
    "#### T5"
   ]
  },
  {
   "cell_type": "code",
   "execution_count": 160,
   "metadata": {},
   "outputs": [
    {
     "data": {
      "text/plain": [
       "<Axes: >"
      ]
     },
     "execution_count": 160,
     "metadata": {},
     "output_type": "execute_result"
    },
    {
     "data": {
      "image/png": "[encoded data removed]",
      "text/plain": [
       "<Figure size 640x480 with 1 Axes>"
      ]
     },
     "metadata": {},
     "output_type": "display_data"
    }
   ],
   "source": [
    "import seaborn as sns\n",
    "t5_loss_plot = pd.DataFrame(t5_loss).T\n",
    "t5_loss_plot.columns = t5_label\n",
    "sns.set(style='darkgrid')\n",
    "sns.lineplot(data=t5_loss_plot)\n"
   ]
  },
  {
   "cell_type": "code",
   "execution_count": null,
   "metadata": {},
   "outputs": [
    {
     "data": {
      "text/plain": [
       "<Axes: >"
      ]
     },
     "metadata": {},
     "output_type": "display_data"
    },
    {
     "data": {
      "image/png": "[encoded data removed]",
      "text/plain": [
       "<Figure size 640x480 with 1 Axes>"
      ]
     },
     "metadata": {},
     "output_type": "display_data"
    }
   ],
   "source": [
    "import seaborn as sns\n",
    "t5_lr_plot = pd.DataFrame(t5_lr).T\n",
    "t5_lr_plot.columns = t5_label\n",
    "sns.set(style='darkgrid')\n",
    "sns.lineplot(data=t5_lr_plot)\n"
   ]
  },
  {
   "cell_type": "markdown",
   "metadata": {},
   "source": [
    "### F1-Score Implementation"
   ]
  },
  {
   "cell_type": "code",
   "execution_count": null,
   "metadata": {},
   "outputs": [
    {
     "name": "stdout",
     "output_type": "stream",
     "text": [
      "['BERT', 128, 2, 2048]\n",
      "0.8194697830438017\n",
      "unique classes predicted by model: [0, 1, 2]\n",
      "Accuracy of the network on the 5496 test data: 82 %\n",
      "['BERT', 256, 4, 1024]\n",
      "0.8433428288195687\n",
      "unique classes predicted by model: [0, 1, 2]\n",
      "Accuracy of the network on the 5496 test data: 84 %\n",
      "['BERT', 512, 4, 512]\n",
      "0.8505245349070069\n",
      "unique classes predicted by model: [0, 1, 2]\n",
      "Accuracy of the network on the 5496 test data: 85 %\n",
      "['BERT', 512, 8, 256]\n",
      "0.8467054491210255\n",
      "unique classes predicted by model: [0, 1, 2]\n",
      "Accuracy of the network on the 5496 test data: 84 %\n",
      "['MaskedDecoder', 128, 2, 2048]\n",
      "0.8494793856620411\n",
      "unique classes predicted by model: [0, 1, 2]\n",
      "Accuracy of the network on the 5496 test data: 85 %\n",
      "['MaskedDecoder', 256, 4, 1024]\n",
      "0.8568906363798648\n",
      "unique classes predicted by model: [0, 1, 2]\n",
      "Accuracy of the network on the 5496 test data: 85 %\n",
      "['MaskedDecoder', 512, 4, 512]\n",
      "0.8359480250361264\n",
      "unique classes predicted by model: [0, 1, 2]\n",
      "Accuracy of the network on the 5496 test data: 83 %\n",
      "['MaskedDecoder', 512, 8, 256]\n",
      "0.8418999886878008\n",
      "unique classes predicted by model: [0, 1, 2]\n",
      "Accuracy of the network on the 5496 test data: 84 %\n",
      "['GPT', 128, 2, 2048]\n",
      "0.8352949925340888\n",
      "unique classes predicted by model: [0, 1, 2]\n",
      "Accuracy of the network on the 5496 test data: 83 %\n",
      "['GPT', 256, 4, 1024]\n",
      "0.8239773376398105\n",
      "unique classes predicted by model: [0, 1, 2]\n",
      "Accuracy of the network on the 5496 test data: 82 %\n",
      "['GPT', 512, 4, 512]\n",
      "0.8251528601332151\n",
      "unique classes predicted by model: [0, 1, 2]\n",
      "Accuracy of the network on the 5496 test data: 82 %\n",
      "['GPT', 512, 8, 256]\n",
      "0.8386847961516438\n",
      "unique classes predicted by model: [0, 1, 2]\n",
      "Accuracy of the network on the 5496 test data: 83 %\n",
      "['T5', 128, 2, 2048]\n",
      "0.8266887507258488\n",
      "unique classes predicted by model: [0, 1, 2]\n",
      "Accuracy of the network on the 5496 test data: 82 %\n",
      "['T5', 256, 4, 1024]\n",
      "0.8317403134709132\n",
      "unique classes predicted by model: [0, 1, 2]\n",
      "Accuracy of the network on the 5496 test data: 83 %\n",
      "['T5', 512, 4, 256]\n",
      "0.8092016456862762\n",
      "unique classes predicted by model: [0, 1, 2]\n",
      "Accuracy of the network on the 5496 test data: 81 %\n",
      "['T5', 512, 8, 64]\n",
      "0.8153048849202588\n",
      "unique classes predicted by model: [0, 1, 2]\n",
      "Accuracy of the network on the 5496 test data: 81 %\n"
     ]
    }
   ],
   "source": [
    "params = [\n",
    "            ['BERT',128,2,2048], # Tiny\n",
    "            ['BERT',256,4,1024], # Mini\n",
    "            ['BERT',512,4,512],  # Small\n",
    "            ['BERT',512,8,256],  # Medium\n",
    "            # ['BERT',768,12,32],  # Base\n",
    "            # ['BERT',1024,24,32],  # Large\n",
    "            ['MaskedDecoder',128,2,2048], # Tiny\n",
    "            ['MaskedDecoder',256,4,1024], # Mini\n",
    "            ['MaskedDecoder',512,4,512],  # Small\n",
    "            ['MaskedDecoder',512,8,256],  # Medium\n",
    "            # ['MaskedDecoder',768,12,32],  # Base\n",
    "            # ['MaskedDecoder',1024,24,32],  # Large\n",
    "            ['GPT',128,2,2048], # Tiny\n",
    "            ['GPT',256,4,1024], # Mini\n",
    "            ['GPT',512,4,512],  # Small\n",
    "            ['GPT',512,8,256],  # Medium\n",
    "            # # ['GPT',768,12,32],  # Base\n",
    "            # # ['GPT',1024,24,32],  # Large\n",
    "            ['T5',128,2,2048], # Tiny\n",
    "            ['T5',256,4,1024], # Mini\n",
    "            ['T5',512,4,256],  # Small\n",
    "            ['T5',512,8,64],  # Medium\n",
    "            # # ['T5',768,12,8],  # Base\n",
    "            # ['T5',1024,24,32],  # Large\n",
    "        ]\n",
    "# Plot Learning rate curve, epoch loss,\n",
    "\n",
    "model_dir = 'improved_lr'\n",
    "dropout = 0.1\n",
    "device = torch.device('cuda:0' if torch.cuda.is_available() else 'cpu')\n",
    "num_epochs = 150\n",
    "num_heads = 8\n",
    "\n",
    "general_f1 = []\n",
    "general_acc = []\n",
    "\n",
    "for param in params:\n",
    "    model_name = f'{model_dir}/{param[0]}-{param[1]}_embs-{param[2]}_layers-{param[3]}_batches-transformer.pt'\n",
    "\n",
    "    model_weights = torch.load(model_name,weights_only=False)\n",
    "\n",
    "    vocab_size = model_weights['model_state_dict']['token_emb.weight'].size(0)\n",
    "    target_size = 3\n",
    "    d_model = model_weights['model_state_dict']['token_emb.weight'].size(1)\n",
    "    # d_model = param[1]\n",
    "    d_ff = d_model* 4\n",
    "    num_layers = param[2]\n",
    "    batch_size = param[3]\n",
    "\n",
    "    if param[0] == 'BERT':\n",
    "        model = BERT(\n",
    "            vocab_size=vocab_size,\n",
    "            target_size=target_size,\n",
    "            features_dim=d_model,\n",
    "            num_heads=num_heads,\n",
    "            ff_dim=d_ff,\n",
    "            num_encoder_layers=num_layers,\n",
    "            emb_dropout_prob=0.1,\n",
    "            attn_dropout_prob=0.1,\n",
    "            ff_dropout_prob=0.1,\n",
    "            attn_use_bias=False,\n",
    "            ff_use_bias=False,\n",
    "            attn_res='pre',\n",
    "            ff_res='pre',\n",
    "            vocab_projection_bias=False,\n",
    "        ).to(device)\n",
    "    elif param[0] == 'MaskedDecoder':\n",
    "        model = MaskedDecoder(\n",
    "            vocab_size=vocab_size,\n",
    "            target_size=target_size,\n",
    "            features_dim=d_model,\n",
    "            num_heads=num_heads,\n",
    "            ff_dim=d_ff,\n",
    "            num_encoder_layers=num_layers,\n",
    "            emb_dropout_prob=0.1,\n",
    "            attn_dropout_prob=0.1,\n",
    "            ff_dropout_prob=0.1,\n",
    "            attn_use_bias=False,\n",
    "            ff_use_bias=False,\n",
    "            attn_res='pre',\n",
    "            ff_res='pre',\n",
    "            vocab_projection_bias=False,\n",
    "        ).to(device)\n",
    "\n",
    "    elif param[0] == 'GPT':\n",
    "        model = GPT(\n",
    "            vocab_size=vocab_size,\n",
    "            target_size=target_size,\n",
    "            features_dim=d_model,\n",
    "            num_heads=num_heads,\n",
    "            ff_dim=d_ff,\n",
    "            num_encoder_layers=num_layers,\n",
    "            emb_dropout_prob=0.1,\n",
    "            attn_dropout_prob=0.1,\n",
    "            ff_dropout_prob=0.1,\n",
    "            attn_use_bias=False,\n",
    "            ff_use_bias=False,\n",
    "            attn_res='pre',\n",
    "            ff_res='pre',\n",
    "            vocab_projection_bias=False,\n",
    "        ).to(device)\n",
    "\n",
    "    elif param[0] == 'T5':\n",
    "        model = T5(\n",
    "            vocab_size=vocab_size,\n",
    "            target_size=target_size,\n",
    "            features_dim=d_model,\n",
    "            num_heads=num_heads,\n",
    "            ff_dim=d_ff,\n",
    "            num_encoder_layers=num_layers,\n",
    "            emb_dropout_prob=0.1,\n",
    "            attn_dropout_prob=0.1,\n",
    "            ff_dropout_prob=0.1,\n",
    "            attn_use_bias=False,\n",
    "            ff_use_bias=False,\n",
    "            attn_res='pre',\n",
    "            ff_res='pre',\n",
    "            vocab_projection_bias=False,\n",
    "        ).to(device)\n",
    "\n",
    "    else:\n",
    "        print('Error ')\n",
    "        break\n",
    "\n",
    "    print(param)\n",
    "    class_weights = torch.tensor([1.2, 1.0, 1.0])\n",
    "    criterion = nn.CrossEntropyLoss(weight=class_weights).to(device)\n",
    "    optimizer = optim.Adam(model.parameters(), lr=0.001)\n",
    "\n",
    "    model.load_state_dict(model_weights['model_state_dict'])\n",
    "    optimizer.state = model_weights['optimizer_state_dict']\n",
    "    eval_loss = model_weights['eval_loss']\n",
    "\n",
    "    correct = 0\n",
    "    total = 0\n",
    "    # since we're not training, we don't need to calculate the gradients for our outputs\n",
    "    model.eval()\n",
    "\n",
    "    with torch.no_grad():\n",
    "        with torch.autocast(device_type=device.type, dtype=torch.float16):\n",
    "            src = torch.tensor(tokenized_datasets['test'][:]['input_ids']).to(device) # shape --> [batch size,seq len]\n",
    "            trg = torch.tensor(tokenized_datasets['test'][:]['labels']).to(device) # shape --> [1, batch size]\n",
    "            pad_mask = torch.tensor(tokenized_datasets['test'][:]['attention_mask']).to(device)\n",
    "            #print('src: ',src.shape,'trg: ', trg.shape)\n",
    "            # shape (out) --> [batch size, trg size]\n",
    "            if param[0] == 'T5' or param[0] == 'GPT':\n",
    "                cross_src = torch.tensor(tokenized_datasets['test'][:]['cluster_ids']).to(device) # shape --> [batch size,seq len]\n",
    "                cross_pad_mask = torch.tensor(tokenized_datasets['test'][:]['cluster_mask']).to(device)\n",
    "                out = model(src, cross_src, pad_mask, cross_pad_mask)\n",
    "            else:\n",
    "                out = model(src, pad_mask)\n",
    "\n",
    "            loss = criterion(out, trg)\n",
    "\n",
    "            _, predicted = torch.max(out, 1)\n",
    "            total += trg.size(0)\n",
    "            correct += (predicted == trg).sum().item()\n",
    "            #print('trg', trg.tolist()[:4])\n",
    "            #print('predicted', predicted.tolist()[:4])\n",
    "            f1 = f1_score(trg.tolist(), predicted.tolist(), average='weighted')\n",
    "            acc = 100 * correct // total\n",
    "            print(f1)\n",
    "\n",
    "        print('unique classes predicted by model:', predicted.unique().tolist())\n",
    "\n",
    "    print(f'Accuracy of the network on the {total} test data: {acc} %')\n",
    "    general_f1.append(f1)\n",
    "    general_acc.append(acc)\n",
    "np.save('general_acc.npy',np.array(general_acc))\n",
    "np.save('general_f1.npy',np.array(general_f1))"
   ]
  },
  {
   "cell_type": "markdown",
   "metadata": {},
   "source": [
    "##### Basic Version"
   ]
  },
  {
   "cell_type": "code",
   "execution_count": 41,
   "metadata": {},
   "outputs": [
    {
     "data": {
      "text/html": [
       "<div>\n",
       "<style scoped>\n",
       "    .dataframe tbody tr th:only-of-type {\n",
       "        vertical-align: middle;\n",
       "    }\n",
       "\n",
       "    .dataframe tbody tr th {\n",
       "        vertical-align: top;\n",
       "    }\n",
       "\n",
       "    .dataframe thead th {\n",
       "        text-align: right;\n",
       "    }\n",
       "</style>\n",
       "<table border=\"1\" class=\"dataframe\">\n",
       "  <thead>\n",
       "    <tr style=\"text-align: right;\">\n",
       "      <th></th>\n",
       "      <th>BERT,128,2,2048</th>\n",
       "      <th>BERT,256,4,1024</th>\n",
       "      <th>BERT,512,4,512</th>\n",
       "      <th>BERT,512,8,256</th>\n",
       "      <th>MaskedDecoder,128,2,2048</th>\n",
       "      <th>MaskedDecoder,256,4,1024</th>\n",
       "      <th>MaskedDecoder,512,4,512</th>\n",
       "      <th>MaskedDecoder,512,8,256</th>\n",
       "    </tr>\n",
       "  </thead>\n",
       "  <tbody>\n",
       "    <tr>\n",
       "      <th>0</th>\n",
       "      <td>62.000000</td>\n",
       "      <td>74.00000</td>\n",
       "      <td>80.000000</td>\n",
       "      <td>83.000000</td>\n",
       "      <td>61.00000</td>\n",
       "      <td>74.000000</td>\n",
       "      <td>79.000000</td>\n",
       "      <td>82.000000</td>\n",
       "    </tr>\n",
       "    <tr>\n",
       "      <th>1</th>\n",
       "      <td>0.610284</td>\n",
       "      <td>0.73242</td>\n",
       "      <td>0.807215</td>\n",
       "      <td>0.834593</td>\n",
       "      <td>0.59891</td>\n",
       "      <td>0.743213</td>\n",
       "      <td>0.795099</td>\n",
       "      <td>0.821969</td>\n",
       "    </tr>\n",
       "  </tbody>\n",
       "</table>\n",
       "</div>"
      ],
      "text/plain": [
       "   BERT,128,2,2048  BERT,256,4,1024  BERT,512,4,512  BERT,512,8,256  \\\n",
       "0        62.000000         74.00000       80.000000       83.000000   \n",
       "1         0.610284          0.73242        0.807215        0.834593   \n",
       "\n",
       "   MaskedDecoder,128,2,2048  MaskedDecoder,256,4,1024  \\\n",
       "0                  61.00000                 74.000000   \n",
       "1                   0.59891                  0.743213   \n",
       "\n",
       "   MaskedDecoder,512,4,512  MaskedDecoder,512,8,256  \n",
       "0                79.000000                82.000000  \n",
       "1                 0.795099                 0.821969  "
      ]
     },
     "metadata": {},
     "output_type": "display_data"
    }
   ],
   "source": [
    "bert_label = [\"BERT,128,2,2048\", # Tiny\n",
    "    \"BERT,256,4,1024\", # Mini\n",
    "    \"BERT,512,4,512\",  # Small\n",
    "    \"BERT,512,8,256\"  # Medium\n",
    "    ]\n",
    "gpt_label = [\"MaskedDecoder,128,2,2048\", # Tiny\n",
    "    \"MaskedDecoder,256,4,1024\", # Mini\n",
    "    \"MaskedDecoder,512,4,512\",  # Small\n",
    "    \"MaskedDecoder,512,8,256\"  # Medium\n",
    "    ]\n",
    "# Extend the Labels on another variable\n",
    "all_label = bert_label + gpt_label\n",
    "\n",
    "bert_acc = general_acc[:4]\n",
    "gpt_acc = general_acc[4:]\n",
    "\n",
    "bert_f1 = general_f1[:4]\n",
    "gpt_f1 = general_f1[4:]\n",
    "\n",
    "scoredf = pd.DataFrame([general_acc,general_f1],columns=all_label)\n",
    "display(scoredf)\n",
    "\n",
    "# Save the results as Numpy Array\n",
    "np.save('general_acc.npy',np.array(general_acc))\n",
    "np.save('general_f1.npy',np.array(general_f1))"
   ]
  },
  {
   "cell_type": "markdown",
   "metadata": {},
   "source": [
    "##### Optimized version"
   ]
  },
  {
   "cell_type": "code",
   "execution_count": 44,
   "metadata": {},
   "outputs": [
    {
     "data": {
      "text/html": [
       "<div>\n",
       "<style scoped>\n",
       "    .dataframe tbody tr th:only-of-type {\n",
       "        vertical-align: middle;\n",
       "    }\n",
       "\n",
       "    .dataframe tbody tr th {\n",
       "        vertical-align: top;\n",
       "    }\n",
       "\n",
       "    .dataframe thead th {\n",
       "        text-align: right;\n",
       "    }\n",
       "</style>\n",
       "<table border=\"1\" class=\"dataframe\">\n",
       "  <thead>\n",
       "    <tr style=\"text-align: right;\">\n",
       "      <th></th>\n",
       "      <th>BERT,128,2,2048</th>\n",
       "      <th>BERT,256,4,1024</th>\n",
       "      <th>BERT,512,4,512</th>\n",
       "      <th>BERT,512,8,256</th>\n",
       "      <th>MaskedDecoder,128,2,2048</th>\n",
       "      <th>MaskedDecoder,256,4,1024</th>\n",
       "      <th>MaskedDecoder,512,4,512</th>\n",
       "      <th>MaskedDecoder,512,8,256</th>\n",
       "    </tr>\n",
       "  </thead>\n",
       "  <tbody>\n",
       "    <tr>\n",
       "      <th>0</th>\n",
       "      <td>67.000000</td>\n",
       "      <td>86.000000</td>\n",
       "      <td>83.000000</td>\n",
       "      <td>84.0000</td>\n",
       "      <td>63.000000</td>\n",
       "      <td>82.000000</td>\n",
       "      <td>84.000000</td>\n",
       "      <td>84.000000</td>\n",
       "    </tr>\n",
       "    <tr>\n",
       "      <th>1</th>\n",
       "      <td>0.653383</td>\n",
       "      <td>0.861022</td>\n",
       "      <td>0.831822</td>\n",
       "      <td>0.8468</td>\n",
       "      <td>0.612122</td>\n",
       "      <td>0.829319</td>\n",
       "      <td>0.842397</td>\n",
       "      <td>0.843559</td>\n",
       "    </tr>\n",
       "  </tbody>\n",
       "</table>\n",
       "</div>"
      ],
      "text/plain": [
       "   BERT,128,2,2048  BERT,256,4,1024  BERT,512,4,512  BERT,512,8,256  \\\n",
       "0        67.000000        86.000000       83.000000         84.0000   \n",
       "1         0.653383         0.861022        0.831822          0.8468   \n",
       "\n",
       "   MaskedDecoder,128,2,2048  MaskedDecoder,256,4,1024  \\\n",
       "0                 63.000000                 82.000000   \n",
       "1                  0.612122                  0.829319   \n",
       "\n",
       "   MaskedDecoder,512,4,512  MaskedDecoder,512,8,256  \n",
       "0                84.000000                84.000000  \n",
       "1                 0.842397                 0.843559  "
      ]
     },
     "metadata": {},
     "output_type": "display_data"
    }
   ],
   "source": [
    "bert_label = [\"BERT,128,2,2048\", # Tiny\n",
    "    \"BERT,256,4,1024\", # Mini\n",
    "    \"BERT,512,4,512\",  # Small\n",
    "    \"BERT,512,8,256\"  # Medium\n",
    "    ]\n",
    "gpt_label = [\"MaskedDecoder,128,2,2048\", # Tiny\n",
    "    \"MaskedDecoder,256,4,1024\", # Mini\n",
    "    \"MaskedDecoder,512,4,512\",  # Small\n",
    "    \"MaskedDecoder,512,8,256\"  # Medium\n",
    "    ]\n",
    "# Extend the Labels on another variable\n",
    "all_label = bert_label + gpt_label\n",
    "\n",
    "bert_acc = general_acc[:4]\n",
    "gpt_acc = general_acc[4:]\n",
    "\n",
    "bert_f1 = general_f1[:4]\n",
    "gpt_f1 = general_f1[4:]\n",
    "\n",
    "scoredf = pd.DataFrame([general_acc,general_f1],columns=all_label)\n",
    "display(scoredf)\n",
    "\n",
    "# Save the results as Numpy Array\n",
    "np.save('general_acc.npy',np.array(general_acc))\n",
    "np.save('general_f1.npy',np.array(general_f1))"
   ]
  },
  {
   "cell_type": "code",
   "execution_count": null,
   "metadata": {},
   "outputs": [],
   "source": [
    "old_general_acc = np.load('old_models/general_acc.npy')\n",
    "old_general_f1 = np.load('old_models/general_f1.npy')\n",
    "\n",
    "imp_general_acc = np.load('improved_model/general_acc.npy')\n",
    "imp_general_f1 = np.load('improved_model/general_f1.npy')\n",
    "\n",
    "imp_lr_general_acc = np.load('improved_lr/general_acc.npy')\n",
    "imp_lr_general_f1 = np.load('improved_lr/general_f1.npy')"
   ]
  },
  {
   "cell_type": "code",
   "execution_count": 6,
   "metadata": {},
   "outputs": [],
   "source": [
    "# model, emb, layer, batch\n",
    "params_label = [\n",
    "            \"['BERT',128,2,2048]\", # Tiny\n",
    "            \"['BERT',256,4,1024]\", # Mini\n",
    "            \"['BERT',512,4,512]\",  # Small\n",
    "            \"['BERT',512,8,256]\",  # Medium\n",
    "            # ['BERT',768,12,32],  # Base\n",
    "            # ['BERT',1024,24,32],  # Large\n",
    "            \"['MaskedDecoder',128,2,2048]\", # Tiny\n",
    "            \"['MaskedDecoder',256,4,1024]\", # Mini\n",
    "            \"['MaskedDecoder',512,4,512]\",  # Small\n",
    "            \"['MaskedDecoder',512,8,256]\",  # Medium\n",
    "            # ['GPT',768,12,32],  # Base\n",
    "            # ['GPT',1024,24,32],  # Large\n",
    "            \"['GPT',128,2,2048]\", # Tiny\n",
    "            \"['GPT',256,4,1024]\", # Mini\n",
    "            \"['GPT',512,4,512]\",  # Small\n",
    "            \"['GPT',512,8,256]\",  # Medium\n",
    "            # ['GPT',768,12,32],  # Base\n",
    "            # ['GPT',1024,24,32],  # Large\n",
    "            \"['T5',128,2,2048]\", # Tiny\n",
    "            \"['T5',256,4,1024]\", # Mini\n",
    "            \"['T5',512,4,256]\",  # Small\n",
    "            \"['T5',512,8,128]\",  # Medium\n",
    "            # ['T5',768,12,8],  # Base\n",
    "            # ['T5',1024,24,32],  # Large\n",
    "        ]\n",
    "\n",
    "\n",
    "bert_label = params_label[:4]\n",
    "old_bert_acc = old_general_acc[:4]\n",
    "old_bert_f1 = old_general_f1[:4]\n",
    "\n",
    "masked_label = params_label[4:8]\n",
    "old_masked_acc = old_general_acc[4:8]\n",
    "old_masked_f1 = old_general_f1[4:8]\n",
    "\n",
    "imp_bert_acc = imp_general_acc[:4]\n",
    "imp_bert_f1 = imp_general_f1[:4]\n",
    "\n",
    "imp_masked_acc = imp_general_acc[4:8]\n",
    "imp_masked_f1 = imp_general_f1[4:8]\n",
    "\n",
    "imp_lr_bert_acc = imp_lr_general_acc[:4]\n",
    "imp_lr_bert_f1 = imp_lr_general_f1[:4]\n",
    "\n",
    "imp_lr_masked_acc = imp_lr_general_acc[4:8]\n",
    "imp_lr_masked_f1 = imp_lr_general_f1[4:8]"
   ]
  },
  {
   "cell_type": "markdown",
   "metadata": {},
   "source": [
    "#### Accuracy Check"
   ]
  },
  {
   "cell_type": "code",
   "execution_count": 12,
   "metadata": {},
   "outputs": [
    {
     "data": {
      "text/html": [
       "<div>\n",
       "<style scoped>\n",
       "    .dataframe tbody tr th:only-of-type {\n",
       "        vertical-align: middle;\n",
       "    }\n",
       "\n",
       "    .dataframe tbody tr th {\n",
       "        vertical-align: top;\n",
       "    }\n",
       "\n",
       "    .dataframe thead th {\n",
       "        text-align: right;\n",
       "    }\n",
       "</style>\n",
       "<table border=\"1\" class=\"dataframe\">\n",
       "  <thead>\n",
       "    <tr style=\"text-align: right;\">\n",
       "      <th></th>\n",
       "      <th>['BERT',128,2,2048]</th>\n",
       "      <th>['BERT',256,4,1024]</th>\n",
       "      <th>['BERT',512,4,512]</th>\n",
       "      <th>['BERT',512,8,256]</th>\n",
       "      <th>['MaskedDecoder',128,2,2048]</th>\n",
       "      <th>['MaskedDecoder',256,4,1024]</th>\n",
       "      <th>['MaskedDecoder',512,4,512]</th>\n",
       "      <th>['MaskedDecoder',512,8,256]</th>\n",
       "    </tr>\n",
       "  </thead>\n",
       "  <tbody>\n",
       "    <tr>\n",
       "      <th>0</th>\n",
       "      <td>62</td>\n",
       "      <td>74</td>\n",
       "      <td>80</td>\n",
       "      <td>83</td>\n",
       "      <td>61</td>\n",
       "      <td>74</td>\n",
       "      <td>79</td>\n",
       "      <td>82</td>\n",
       "    </tr>\n",
       "    <tr>\n",
       "      <th>1</th>\n",
       "      <td>67</td>\n",
       "      <td>86</td>\n",
       "      <td>83</td>\n",
       "      <td>84</td>\n",
       "      <td>63</td>\n",
       "      <td>82</td>\n",
       "      <td>84</td>\n",
       "      <td>84</td>\n",
       "    </tr>\n",
       "    <tr>\n",
       "      <th>2</th>\n",
       "      <td>82</td>\n",
       "      <td>84</td>\n",
       "      <td>85</td>\n",
       "      <td>84</td>\n",
       "      <td>85</td>\n",
       "      <td>85</td>\n",
       "      <td>83</td>\n",
       "      <td>84</td>\n",
       "    </tr>\n",
       "  </tbody>\n",
       "</table>\n",
       "</div>"
      ],
      "text/plain": [
       "   ['BERT',128,2,2048]  ['BERT',256,4,1024]  ['BERT',512,4,512]  \\\n",
       "0                   62                   74                  80   \n",
       "1                   67                   86                  83   \n",
       "2                   82                   84                  85   \n",
       "\n",
       "   ['BERT',512,8,256]  ['MaskedDecoder',128,2,2048]  \\\n",
       "0                  83                            61   \n",
       "1                  84                            63   \n",
       "2                  84                            85   \n",
       "\n",
       "   ['MaskedDecoder',256,4,1024]  ['MaskedDecoder',512,4,512]  \\\n",
       "0                            74                           79   \n",
       "1                            82                           84   \n",
       "2                            85                           83   \n",
       "\n",
       "   ['MaskedDecoder',512,8,256]  \n",
       "0                           82  \n",
       "1                           84  \n",
       "2                           84  "
      ]
     },
     "metadata": {},
     "output_type": "display_data"
    }
   ],
   "source": [
    "scoredf = pd.DataFrame([old_general_acc,imp_general_acc,imp_lr_general_acc[:8]],columns=bert_label+masked_label)\n",
    "display(scoredf)"
   ]
  },
  {
   "cell_type": "markdown",
   "metadata": {},
   "source": [
    "#### F1-Score Check"
   ]
  },
  {
   "cell_type": "code",
   "execution_count": 13,
   "metadata": {},
   "outputs": [
    {
     "data": {
      "text/html": [
       "<div>\n",
       "<style scoped>\n",
       "    .dataframe tbody tr th:only-of-type {\n",
       "        vertical-align: middle;\n",
       "    }\n",
       "\n",
       "    .dataframe tbody tr th {\n",
       "        vertical-align: top;\n",
       "    }\n",
       "\n",
       "    .dataframe thead th {\n",
       "        text-align: right;\n",
       "    }\n",
       "</style>\n",
       "<table border=\"1\" class=\"dataframe\">\n",
       "  <thead>\n",
       "    <tr style=\"text-align: right;\">\n",
       "      <th></th>\n",
       "      <th>['BERT',128,2,2048]</th>\n",
       "      <th>['BERT',256,4,1024]</th>\n",
       "      <th>['BERT',512,4,512]</th>\n",
       "      <th>['BERT',512,8,256]</th>\n",
       "      <th>['MaskedDecoder',128,2,2048]</th>\n",
       "      <th>['MaskedDecoder',256,4,1024]</th>\n",
       "      <th>['MaskedDecoder',512,4,512]</th>\n",
       "      <th>['MaskedDecoder',512,8,256]</th>\n",
       "    </tr>\n",
       "  </thead>\n",
       "  <tbody>\n",
       "    <tr>\n",
       "      <th>0</th>\n",
       "      <td>0.610284</td>\n",
       "      <td>0.732420</td>\n",
       "      <td>0.807215</td>\n",
       "      <td>0.834593</td>\n",
       "      <td>0.598910</td>\n",
       "      <td>0.743213</td>\n",
       "      <td>0.795099</td>\n",
       "      <td>0.821969</td>\n",
       "    </tr>\n",
       "    <tr>\n",
       "      <th>1</th>\n",
       "      <td>0.653383</td>\n",
       "      <td>0.861022</td>\n",
       "      <td>0.831822</td>\n",
       "      <td>0.846800</td>\n",
       "      <td>0.612122</td>\n",
       "      <td>0.829319</td>\n",
       "      <td>0.842397</td>\n",
       "      <td>0.843559</td>\n",
       "    </tr>\n",
       "    <tr>\n",
       "      <th>2</th>\n",
       "      <td>0.819470</td>\n",
       "      <td>0.843343</td>\n",
       "      <td>0.850525</td>\n",
       "      <td>0.846705</td>\n",
       "      <td>0.849479</td>\n",
       "      <td>0.856891</td>\n",
       "      <td>0.835948</td>\n",
       "      <td>0.841900</td>\n",
       "    </tr>\n",
       "  </tbody>\n",
       "</table>\n",
       "</div>"
      ],
      "text/plain": [
       "   ['BERT',128,2,2048]  ['BERT',256,4,1024]  ['BERT',512,4,512]  \\\n",
       "0             0.610284             0.732420            0.807215   \n",
       "1             0.653383             0.861022            0.831822   \n",
       "2             0.819470             0.843343            0.850525   \n",
       "\n",
       "   ['BERT',512,8,256]  ['MaskedDecoder',128,2,2048]  \\\n",
       "0            0.834593                      0.598910   \n",
       "1            0.846800                      0.612122   \n",
       "2            0.846705                      0.849479   \n",
       "\n",
       "   ['MaskedDecoder',256,4,1024]  ['MaskedDecoder',512,4,512]  \\\n",
       "0                      0.743213                     0.795099   \n",
       "1                      0.829319                     0.842397   \n",
       "2                      0.856891                     0.835948   \n",
       "\n",
       "   ['MaskedDecoder',512,8,256]  \n",
       "0                     0.821969  \n",
       "1                     0.843559  \n",
       "2                     0.841900  "
      ]
     },
     "metadata": {},
     "output_type": "display_data"
    }
   ],
   "source": [
    "scoredf = pd.DataFrame([old_general_f1,imp_general_f1,imp_lr_general_f1[:8]],columns=bert_label+masked_label)\n",
    "display(scoredf)"
   ]
  },
  {
   "cell_type": "markdown",
   "metadata": {},
   "source": [
    "##### Optimized version with Noam Optimization"
   ]
  },
  {
   "cell_type": "code",
   "execution_count": 167,
   "metadata": {},
   "outputs": [
    {
     "data": {
      "text/html": [
       "<div>\n",
       "<style scoped>\n",
       "    .dataframe tbody tr th:only-of-type {\n",
       "        vertical-align: middle;\n",
       "    }\n",
       "\n",
       "    .dataframe tbody tr th {\n",
       "        vertical-align: top;\n",
       "    }\n",
       "\n",
       "    .dataframe thead th {\n",
       "        text-align: right;\n",
       "    }\n",
       "</style>\n",
       "<table border=\"1\" class=\"dataframe\">\n",
       "  <thead>\n",
       "    <tr style=\"text-align: right;\">\n",
       "      <th></th>\n",
       "      <th>['BERT',128,2,2048]</th>\n",
       "      <th>['BERT',256,4,1024]</th>\n",
       "      <th>['BERT',512,4,512]</th>\n",
       "      <th>['BERT',512,8,256]</th>\n",
       "      <th>['MaskedDecoder',128,2,2048]</th>\n",
       "      <th>['MaskedDecoder',256,4,1024]</th>\n",
       "      <th>['MaskedDecoder',512,4,512]</th>\n",
       "      <th>['MaskedDecoder',512,8,256]</th>\n",
       "      <th>['GPT',128,2,2048]</th>\n",
       "      <th>['GPT',256,4,1024]</th>\n",
       "      <th>['GPT',512,4,512]</th>\n",
       "      <th>['GPT',512,8,256]</th>\n",
       "      <th>['T5',128,2,2048]</th>\n",
       "      <th>['T5',256,4,1024]</th>\n",
       "      <th>['T5',512,4,256]</th>\n",
       "      <th>['T5',512,8,128]</th>\n",
       "    </tr>\n",
       "  </thead>\n",
       "  <tbody>\n",
       "    <tr>\n",
       "      <th>0</th>\n",
       "      <td>82.00000</td>\n",
       "      <td>84.000000</td>\n",
       "      <td>85.000000</td>\n",
       "      <td>84.000000</td>\n",
       "      <td>85.000000</td>\n",
       "      <td>85.000000</td>\n",
       "      <td>83.000000</td>\n",
       "      <td>84.0000</td>\n",
       "      <td>83.000000</td>\n",
       "      <td>82.000000</td>\n",
       "      <td>82.000000</td>\n",
       "      <td>83.000000</td>\n",
       "      <td>82.000000</td>\n",
       "      <td>83.00000</td>\n",
       "      <td>81.000000</td>\n",
       "      <td>81.000000</td>\n",
       "    </tr>\n",
       "    <tr>\n",
       "      <th>1</th>\n",
       "      <td>0.81947</td>\n",
       "      <td>0.843343</td>\n",
       "      <td>0.850525</td>\n",
       "      <td>0.846705</td>\n",
       "      <td>0.849479</td>\n",
       "      <td>0.856891</td>\n",
       "      <td>0.835948</td>\n",
       "      <td>0.8419</td>\n",
       "      <td>0.835295</td>\n",
       "      <td>0.823977</td>\n",
       "      <td>0.825153</td>\n",
       "      <td>0.838685</td>\n",
       "      <td>0.826689</td>\n",
       "      <td>0.83174</td>\n",
       "      <td>0.809202</td>\n",
       "      <td>0.815305</td>\n",
       "    </tr>\n",
       "  </tbody>\n",
       "</table>\n",
       "</div>"
      ],
      "text/plain": [
       "   ['BERT',128,2,2048]  ['BERT',256,4,1024]  ['BERT',512,4,512]  \\\n",
       "0             82.00000            84.000000           85.000000   \n",
       "1              0.81947             0.843343            0.850525   \n",
       "\n",
       "   ['BERT',512,8,256]  ['MaskedDecoder',128,2,2048]  \\\n",
       "0           84.000000                     85.000000   \n",
       "1            0.846705                      0.849479   \n",
       "\n",
       "   ['MaskedDecoder',256,4,1024]  ['MaskedDecoder',512,4,512]  \\\n",
       "0                     85.000000                    83.000000   \n",
       "1                      0.856891                     0.835948   \n",
       "\n",
       "   ['MaskedDecoder',512,8,256]  ['GPT',128,2,2048]  ['GPT',256,4,1024]  \\\n",
       "0                      84.0000           83.000000           82.000000   \n",
       "1                       0.8419            0.835295            0.823977   \n",
       "\n",
       "   ['GPT',512,4,512]  ['GPT',512,8,256]  ['T5',128,2,2048]  ['T5',256,4,1024]  \\\n",
       "0          82.000000          83.000000          82.000000           83.00000   \n",
       "1           0.825153           0.838685           0.826689            0.83174   \n",
       "\n",
       "   ['T5',512,4,256]  ['T5',512,8,128]  \n",
       "0         81.000000         81.000000  \n",
       "1          0.809202          0.815305  "
      ]
     },
     "metadata": {},
     "output_type": "display_data"
    }
   ],
   "source": [
    "bert_label = params_label[:4]\n",
    "bert_acc = general_acc[:4]\n",
    "bert_lr = general_f1[:4]\n",
    "\n",
    "masked_label = params_label[4:8]\n",
    "masked_acc = general_acc[4:8]\n",
    "masked_f1 = general_f1[4:8]\n",
    "\n",
    "gpt_label = params_label[8:12]\n",
    "gpt_acc = general_acc[8:12]\n",
    "gpt_f1 = general_f1[8:12]\n",
    "\n",
    "t5_label = params_label[12:]\n",
    "t5_acc = general_acc[12:]\n",
    "t5_f1 = general_f1[12:]\n",
    "\n",
    "all_label = bert_label + masked_label + gpt_label + t5_label\n",
    "\n",
    "scoredf = pd.DataFrame([general_acc,general_f1],columns=all_label)\n",
    "display(scoredf)\n",
    "\n",
    "# Save the results as Numpy Array\n",
    "np.array(general_acc).tofile('all_general_acc.data')\n",
    "np.array(general_f1).tofile('all_general_f1.data')"
   ]
  },
  {
   "cell_type": "code",
   "execution_count": null,
   "metadata": {},
   "outputs": [
    {
     "name": "stdout",
     "output_type": "stream",
     "text": [
      "              precision    recall  f1-score   support\n",
      "\n",
      "         neg       0.81      0.68      0.74      1556\n",
      "         neu       0.79      0.80      0.80      2224\n",
      "         pos       0.78      0.87      0.82      1717\n",
      "\n",
      "    accuracy                           0.79      5497\n",
      "   macro avg       0.79      0.78      0.78      5497\n",
      "weighted avg       0.79      0.79      0.79      5497\n",
      "\n",
      "[[1055  332  169]\n",
      " [ 175 1789  260]\n",
      " [  71  153 1493]]\n"
     ]
    }
   ],
   "source": [
    "report = classification_report(trg.tolist(), predicted.tolist(), target_names=['neg','neu','pos'])\n",
    "print(report)\n",
    "\n",
    "cm=confusion_matrix(trg.tolist(), predicted.tolist())\n",
    "print(cm)"
   ]
  }
 ],
 "metadata": {
  "kernelspec": {
   "display_name": "base",
   "language": "python",
   "name": "python3"
  },
  "language_info": {
   "codemirror_mode": {
    "name": "ipython",
    "version": 3
   },
   "file_extension": ".py",
   "mimetype": "text/x-python",
   "name": "python",
   "nbconvert_exporter": "python",
   "pygments_lexer": "ipython3",
   "version": "3.10.13"
  }
 },
 "nbformat": 4,
 "nbformat_minor": 2
}
